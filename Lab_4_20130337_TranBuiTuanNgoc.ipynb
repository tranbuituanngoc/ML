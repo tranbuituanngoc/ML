{
  "nbformat": 4,
  "nbformat_minor": 0,
  "metadata": {
    "colab": {
      "provenance": [],
      "include_colab_link": true
    },
    "kernelspec": {
      "name": "python3",
      "display_name": "Python 3"
    },
    "language_info": {
      "name": "python"
    }
  },
  "cells": [
    {
      "cell_type": "markdown",
      "metadata": {
        "id": "view-in-github",
        "colab_type": "text"
      },
      "source": [
        "<a href=\"https://colab.research.google.com/github/tranbuituanngoc/ML/blob/main/Lab_4_20130337_TranBuiTuanNgoc.ipynb\" target=\"_parent\"><img src=\"https://colab.research.google.com/assets/colab-badge.svg\" alt=\"Open In Colab\"/></a>"
      ]
    },
    {
      "cell_type": "markdown",
      "source": [
        "# This lab is to continous dealing with **Logistic Regression**, **kNN**, and **Decision Tree** alogirthms applied to classification tasks. \n",
        "\n",
        "*   **Deadline: 23:59, 12/03/2023**\n",
        "\n"
      ],
      "metadata": {
        "id": "LMzehe0sy5wr"
      }
    },
    {
      "cell_type": "markdown",
      "source": [
        "# Import libraries"
      ],
      "metadata": {
        "id": "H4nJmxp9zGX4"
      }
    },
    {
      "cell_type": "code",
      "execution_count": null,
      "metadata": {
        "id": "DoVWQ8AEyc-C"
      },
      "outputs": [],
      "source": [
        "import numpy as np\n",
        "import pandas as pd\n",
        "import matplotlib.pyplot as plt\n",
        "from sklearn.impute import SimpleImputer"
      ]
    },
    {
      "cell_type": "markdown",
      "source": [
        "#Task 1. \n",
        "Apply **LogisticRegression** to iris dataset which aims at classifying species of iris based on sepal_length (chiều dài đài hoa), sepal_width, petal_length (chiều dài cánh hoa), petal_width. The species are '**setosa**' '**versicolor**' and '**virginica**'. \n",
        "\n",
        "\n",
        "\n",
        "```\n",
        "from sklearn import datasets\n",
        "data4 = datasets.load_iris()\n",
        "```\n",
        "\n",
        "\n"
      ],
      "metadata": {
        "id": "kNv07ARGzOUm"
      }
    },
    {
      "cell_type": "code",
      "source": [
        "from sklearn import datasets\n",
        "data4 = datasets.load_iris()"
      ],
      "metadata": {
        "id": "sOsg77IBzEyo"
      },
      "execution_count": null,
      "outputs": []
    },
    {
      "cell_type": "code",
      "source": [
        "from sklearn.metrics import confusion_matrix \n",
        "from sklearn.metrics import accuracy_score\n",
        "from sklearn.linear_model import LogisticRegression \n",
        "from sklearn.model_selection import train_test_split\n",
        "from sklearn.metrics import precision_score\n",
        "from sklearn.metrics import recall_score\n",
        "from sklearn.metrics import f1_score\n",
        "from sklearn.metrics import confusion_matrix\n",
        "from sklearn.metrics import ConfusionMatrixDisplay"
      ],
      "metadata": {
        "id": "B48EDC90vEhA"
      },
      "execution_count": null,
      "outputs": []
    },
    {
      "cell_type": "code",
      "source": [
        "classifier = LogisticRegression(random_state = 0) \n",
        "X= data4['data']\n",
        "Y= data4['target']\n",
        "X_train, X_test, y_train, y_test = train_test_split(X, Y, test_size=0.3, train_size=0.7,  random_state = 1)\n",
        "classifier.fit(X_train, y_train) \n",
        "y_pred = classifier.predict(X_test)\n",
        "cm = confusion_matrix(y_test, y_pred)\n",
        "print (\"Confusion Matrix : \\n\", confusion_matrix(y_test, y_pred))\n",
        "print (\"Accuracy : \", accuracy_score(y_test, y_pred))\n",
        "print (\"Precision : \", precision_score(y_test, y_pred, average='micro'))\n",
        "print (\"Recall : \", recall_score(y_test, y_pred, average='micro'))\n",
        "print (\"F1 : \", f1_score(y_test, y_pred, average='micro'))"
      ],
      "metadata": {
        "colab": {
          "base_uri": "https://localhost:8080/"
        },
        "id": "aEzyH7ntrI8I",
        "outputId": "a43cf02f-f46f-4c76-8778-90aff882daee"
      },
      "execution_count": null,
      "outputs": [
        {
          "output_type": "stream",
          "name": "stdout",
          "text": [
            "Confusion Matrix : \n",
            " [[14  0  0]\n",
            " [ 0 17  1]\n",
            " [ 0  0 13]]\n",
            "Accuracy :  0.9777777777777777\n",
            "Precision :  0.9777777777777777\n",
            "Recall :  0.9777777777777777\n",
            "F1 :  0.9777777777777777\n"
          ]
        }
      ]
    },
    {
      "cell_type": "markdown",
      "source": [
        "#Task 2. \n",
        "Apply LogisticRegression to **MNIST** dataset (mnist.csv) which aims at classifying handwritten digits. Dataset includes 784 pixels values of images (28x28). \n",
        "\n",
        "\n",
        "```\n",
        "from sklearn import datasets\n",
        "# load the MNIST digits dataset\n",
        "mnist = datasets.load_digits()\n",
        "```\n",
        "\n"
      ],
      "metadata": {
        "id": "S43IoUT-0OQq"
      }
    },
    {
      "cell_type": "code",
      "source": [
        "from sklearn import datasets\n",
        "# load the MNIST digits dataset\n",
        "mnist = datasets.load_digits()"
      ],
      "metadata": {
        "id": "_xhPpF5b033h"
      },
      "execution_count": null,
      "outputs": []
    },
    {
      "cell_type": "code",
      "source": [
        "classifier = LogisticRegression(random_state = 0) \n",
        "X= mnist['data']\n",
        "Y= mnist['target']\n",
        "X_train, X_test, y_train, y_test = train_test_split(X, Y, test_size=0.3, train_size=0.7,  random_state = 1)\n",
        "classifier.fit(X_train, y_train) \n",
        "y_pred = classifier.predict(X_test)\n",
        "cm = confusion_matrix(y_test, y_pred)\n",
        "print (\"Confusion Matrix : \\n\", confusion_matrix(y_test, y_pred))\n",
        "print (\"Accuracy : \", accuracy_score(y_test, y_pred))\n",
        "print (\"Precision : \", precision_score(y_test, y_pred, average='micro'))\n",
        "print (\"Recall : \", recall_score(y_test, y_pred, average='micro'))\n",
        "print (\"F1 : \", f1_score(y_test, y_pred, average='micro'))"
      ],
      "metadata": {
        "colab": {
          "base_uri": "https://localhost:8080/"
        },
        "id": "jXd2kyK_uamx",
        "outputId": "156a3ac9-58d0-4e1c-d163-f550c138f444"
      },
      "execution_count": null,
      "outputs": [
        {
          "output_type": "stream",
          "name": "stdout",
          "text": [
            "Confusion Matrix : \n",
            " [[59  0  0  0  0  0  0  0  0  0]\n",
            " [ 0 48  0  0  1  0  0  0  0  0]\n",
            " [ 0  0 49  0  0  0  0  0  0  0]\n",
            " [ 0  0  1 61  0  0  0  1  1  0]\n",
            " [ 0  1  0  0 60  0  0  0  0  0]\n",
            " [ 0  1  1  1  0 43  0  0  0  1]\n",
            " [ 0  0  0  0  0  0 51  0  0  0]\n",
            " [ 0  0  0  1  1  0  0 54  0  1]\n",
            " [ 0  0  1  0  0  1  0  0 44  0]\n",
            " [ 0  1  0  0  0  1  0  0  1 54]]\n",
            "Accuracy :  0.9685185185185186\n",
            "Precision :  0.9685185185185186\n",
            "Recall :  0.9685185185185186\n",
            "F1 :  0.9685185185185186\n"
          ]
        },
        {
          "output_type": "stream",
          "name": "stderr",
          "text": [
            "/usr/local/lib/python3.8/dist-packages/sklearn/linear_model/_logistic.py:458: ConvergenceWarning: lbfgs failed to converge (status=1):\n",
            "STOP: TOTAL NO. of ITERATIONS REACHED LIMIT.\n",
            "\n",
            "Increase the number of iterations (max_iter) or scale the data as shown in:\n",
            "    https://scikit-learn.org/stable/modules/preprocessing.html\n",
            "Please also refer to the documentation for alternative solver options:\n",
            "    https://scikit-learn.org/stable/modules/linear_model.html#logistic-regression\n",
            "  n_iter_i = _check_optimize_result(\n"
          ]
        }
      ]
    },
    {
      "cell_type": "markdown",
      "source": [
        "#Task 3. \n",
        "Apply another classification algorithm named kNN, which is an instance classifcation model. \n",
        "*  3.1. Perform kNN algorithm to Iris dataset with k={1, 3, 5, …, 29}. Select the best value of k.\n",
        "\n",
        "*   3.2. Then compare the obtained results with those using Logistic regression (based on metrics: accuracy, precision, recall, f1 measure).\n"
      ],
      "metadata": {
        "id": "Rti2y0Wz2KY9"
      }
    },
    {
      "cell_type": "code",
      "source": [
        "from sklearn.neighbors import KNeighborsClassifier"
      ],
      "metadata": {
        "id": "13LkkfpS2ZUR"
      },
      "execution_count": null,
      "outputs": []
    },
    {
      "cell_type": "code",
      "source": [
        "k_range= range(1,30,2)\n",
        "accuracy=[]\n",
        "precision=[]\n",
        "recall=[]\n",
        "f1=[]\n",
        "for i in k_range:\n",
        "  data4 = KNeighborsClassifier(n_neighbors=i)\n",
        "  X_train, X_test, y_train, y_test = train_test_split(X, Y, test_size=0.3, train_size=0.7,  random_state = 1)\n",
        "  data4.fit(X_train,y_train)\n",
        "  y_pred = data4.predict(X_test) \n",
        "  accuracy.append( accuracy_score(y_test, y_pred))\n",
        "  precision.append( precision_score(y_test, y_pred, average='micro'))\n",
        "  recall.append( recall_score(y_test, y_pred, average='micro'))\n",
        "  f1.append( f1_score(y_test, y_pred, average='micro'))\n",
        "plt.plot(k_range,accuracy)\n",
        "plt.xlabel=(\"K\")\n",
        "plt.ylabel(\"accuracy\")\n",
        "\n",
        "ConfusionMatrixDisplay.from_estimator(data4, X_test, y_test)"
      ],
      "metadata": {
        "colab": {
          "base_uri": "https://localhost:8080/",
          "height": 544
        },
        "id": "qdTbR718yopQ",
        "outputId": "39d09ef8-cb57-4b63-a6bb-2a6a644223ad"
      },
      "execution_count": null,
      "outputs": [
        {
          "output_type": "execute_result",
          "data": {
            "text/plain": [
              "<sklearn.metrics._plot.confusion_matrix.ConfusionMatrixDisplay at 0x7f49ddd48250>"
            ]
          },
          "metadata": {},
          "execution_count": 47
        },
        {
          "output_type": "display_data",
          "data": {
            "text/plain": [
              "<Figure size 432x288 with 1 Axes>"
            ],
            "image/png": "[encoded data removed]"
          },
          "metadata": {
            "needs_background": "light"
          }
        },
        {
          "output_type": "display_data",
          "data": {
            "text/plain": [
              "<Figure size 432x288 with 2 Axes>"
            ],
            "image/png": "[encoded data removed]"
          },
          "metadata": {
            "needs_background": "light"
          }
        }
      ]
    },
    {
      "cell_type": "code",
      "source": [
        "plt.plot(k_range,precision)\n",
        "plt.xlabel=(\"K\")\n",
        "plt.ylabel(\"precision\")"
      ],
      "metadata": {
        "colab": {
          "base_uri": "https://localhost:8080/",
          "height": 282
        },
        "id": "6qJBUEiV3Tmo",
        "outputId": "a0fbe956-9b57-4486-bbc4-674d69ba8a07"
      },
      "execution_count": null,
      "outputs": [
        {
          "output_type": "execute_result",
          "data": {
            "text/plain": [
              "Text(0, 0.5, 'precision')"
            ]
          },
          "metadata": {},
          "execution_count": 9
        },
        {
          "output_type": "display_data",
          "data": {
            "text/plain": [
              "<Figure size 432x288 with 1 Axes>"
            ],
            "image/png": "[encoded data removed]"
          },
          "metadata": {
            "needs_background": "light"
          }
        }
      ]
    },
    {
      "cell_type": "code",
      "source": [
        "plt.plot(k_range,recall)\n",
        "plt.xlabel=(\"K\")\n",
        "plt.ylabel(\"recall\")"
      ],
      "metadata": {
        "colab": {
          "base_uri": "https://localhost:8080/",
          "height": 282
        },
        "id": "vJhPORXX3aI_",
        "outputId": "af8f57ca-1f52-4ce0-aa03-2b73335eace6"
      },
      "execution_count": null,
      "outputs": [
        {
          "output_type": "execute_result",
          "data": {
            "text/plain": [
              "Text(0, 0.5, 'recall')"
            ]
          },
          "metadata": {},
          "execution_count": 10
        },
        {
          "output_type": "display_data",
          "data": {
            "text/plain": [
              "<Figure size 432x288 with 1 Axes>"
            ],
            "image/png": "[encoded data removed]"
          },
          "metadata": {
            "needs_background": "light"
          }
        }
      ]
    },
    {
      "cell_type": "code",
      "source": [
        "plt.plot(k_range,f1)\n",
        "plt.xlabel=(\"K\")\n",
        "plt.ylabel(\"f1\")"
      ],
      "metadata": {
        "colab": {
          "base_uri": "https://localhost:8080/",
          "height": 282
        },
        "id": "hFUCE1Hz4L8P",
        "outputId": "67d2d790-c197-475f-8b72-48ac58bae52f"
      },
      "execution_count": null,
      "outputs": [
        {
          "output_type": "execute_result",
          "data": {
            "text/plain": [
              "Text(0, 0.5, 'f1')"
            ]
          },
          "metadata": {},
          "execution_count": 11
        },
        {
          "output_type": "display_data",
          "data": {
            "text/plain": [
              "<Figure size 432x288 with 1 Axes>"
            ],
            "image/png": "[encoded data removed]"
          },
          "metadata": {
            "needs_background": "light"
          }
        }
      ]
    },
    {
      "cell_type": "code",
      "source": [
        "c1= [[0.812,  0.9778], [0.99, 0.9778], [0.99, 0.9778], [0.99, 0.9778]]\n",
        "df = pd.DataFrame(c1, columns=['KNN', 'Logistic Regression'])\n",
        "df"
      ],
      "metadata": {
        "colab": {
          "base_uri": "https://localhost:8080/",
          "height": 175
        },
        "id": "RnRXMlQbVa8o",
        "outputId": "b40cee95-6e3f-4a35-ec8f-a8268df89433"
      },
      "execution_count": null,
      "outputs": [
        {
          "output_type": "execute_result",
          "data": {
            "text/plain": [
              "     KNN  Logistic Regression\n",
              "0  0.812               0.9778\n",
              "1  0.990               0.9778\n",
              "2  0.990               0.9778\n",
              "3  0.990               0.9778"
            ],
            "text/html": [
              "\n",
              "  <div id=\"df-f08b1464-5409-4b24-9501-6a0a9cc7546b\">\n",
              "    <div class=\"colab-df-container\">\n",
              "      <div>\n",
              "<style scoped>\n",
              "    .dataframe tbody tr th:only-of-type {\n",
              "        vertical-align: middle;\n",
              "    }\n",
              "\n",
              "    .dataframe tbody tr th {\n",
              "        vertical-align: top;\n",
              "    }\n",
              "\n",
              "    .dataframe thead th {\n",
              "        text-align: right;\n",
              "    }\n",
              "</style>\n",
              "<table border=\"1\" class=\"dataframe\">\n",
              "  <thead>\n",
              "    <tr style=\"text-align: right;\">\n",
              "      <th></th>\n",
              "      <th>KNN</th>\n",
              "      <th>Logistic Regression</th>\n",
              "    </tr>\n",
              "  </thead>\n",
              "  <tbody>\n",
              "    <tr>\n",
              "      <th>0</th>\n",
              "      <td>0.812</td>\n",
              "      <td>0.9778</td>\n",
              "    </tr>\n",
              "    <tr>\n",
              "      <th>1</th>\n",
              "      <td>0.990</td>\n",
              "      <td>0.9778</td>\n",
              "    </tr>\n",
              "    <tr>\n",
              "      <th>2</th>\n",
              "      <td>0.990</td>\n",
              "      <td>0.9778</td>\n",
              "    </tr>\n",
              "    <tr>\n",
              "      <th>3</th>\n",
              "      <td>0.990</td>\n",
              "      <td>0.9778</td>\n",
              "    </tr>\n",
              "  </tbody>\n",
              "</table>\n",
              "</div>\n",
              "      <button class=\"colab-df-convert\" onclick=\"convertToInteractive('df-f08b1464-5409-4b24-9501-6a0a9cc7546b')\"\n",
              "              title=\"Convert this dataframe to an interactive table.\"\n",
              "              style=\"display:none;\">\n",
              "        \n",
              "  <svg xmlns=\"http://www.w3.org/2000/svg\" height=\"24px\"viewBox=\"0 0 24 24\"\n",
              "       width=\"24px\">\n",
              "    <path d=\"M0 0h24v24H0V0z\" fill=\"none\"/>\n",
              "    <path d=\"M18.56 5.44l.94 2.06.94-2.06 2.06-.94-2.06-.94-.94-2.06-.94 2.06-2.06.94zm-11 1L8.5 8.5l.94-2.06 2.06-.94-2.06-.94L8.5 2.5l-.94 2.06-2.06.94zm10 10l.94 2.06.94-2.06 2.06-.94-2.06-.94-.94-2.06-.94 2.06-2.06.94z\"/><path d=\"M17.41 7.96l-1.37-1.37c-.4-.4-.92-.59-1.43-.59-.52 0-1.04.2-1.43.59L10.3 9.45l-7.72 7.72c-.78.78-.78 2.05 0 2.83L4 21.41c.39.39.9.59 1.41.59.51 0 1.02-.2 1.41-.59l7.78-7.78 2.81-2.81c.8-.78.8-2.07 0-2.86zM5.41 20L4 18.59l7.72-7.72 1.47 1.35L5.41 20z\"/>\n",
              "  </svg>\n",
              "      </button>\n",
              "      \n",
              "  <style>\n",
              "    .colab-df-container {\n",
              "      display:flex;\n",
              "      flex-wrap:wrap;\n",
              "      gap: 12px;\n",
              "    }\n",
              "\n",
              "    .colab-df-convert {\n",
              "      background-color: #E8F0FE;\n",
              "      border: none;\n",
              "      border-radius: 50%;\n",
              "      cursor: pointer;\n",
              "      display: none;\n",
              "      fill: #1967D2;\n",
              "      height: 32px;\n",
              "      padding: 0 0 0 0;\n",
              "      width: 32px;\n",
              "    }\n",
              "\n",
              "    .colab-df-convert:hover {\n",
              "      background-color: #E2EBFA;\n",
              "      box-shadow: 0px 1px 2px rgba(60, 64, 67, 0.3), 0px 1px 3px 1px rgba(60, 64, 67, 0.15);\n",
              "      fill: #174EA6;\n",
              "    }\n",
              "\n",
              "    [theme=dark] .colab-df-convert {\n",
              "      background-color: #3B4455;\n",
              "      fill: #D2E3FC;\n",
              "    }\n",
              "\n",
              "    [theme=dark] .colab-df-convert:hover {\n",
              "      background-color: #434B5C;\n",
              "      box-shadow: 0px 1px 3px 1px rgba(0, 0, 0, 0.15);\n",
              "      filter: drop-shadow(0px 1px 2px rgba(0, 0, 0, 0.3));\n",
              "      fill: #FFFFFF;\n",
              "    }\n",
              "  </style>\n",
              "\n",
              "      <script>\n",
              "        const buttonEl =\n",
              "          document.querySelector('#df-f08b1464-5409-4b24-9501-6a0a9cc7546b button.colab-df-convert');\n",
              "        buttonEl.style.display =\n",
              "          google.colab.kernel.accessAllowed ? 'block' : 'none';\n",
              "\n",
              "        async function convertToInteractive(key) {\n",
              "          const element = document.querySelector('#df-f08b1464-5409-4b24-9501-6a0a9cc7546b');\n",
              "          const dataTable =\n",
              "            await google.colab.kernel.invokeFunction('convertToInteractive',\n",
              "                                                     [key], {});\n",
              "          if (!dataTable) return;\n",
              "\n",
              "          const docLinkHtml = 'Like what you see? Visit the ' +\n",
              "            '<a target=\"_blank\" href=https://colab.research.google.com/notebooks/data_table.ipynb>data table notebook</a>'\n",
              "            + ' to learn more about interactive tables.';\n",
              "          element.innerHTML = '';\n",
              "          dataTable['output_type'] = 'display_data';\n",
              "          await google.colab.output.renderOutput(dataTable, element);\n",
              "          const docLink = document.createElement('div');\n",
              "          docLink.innerHTML = docLinkHtml;\n",
              "          element.appendChild(docLink);\n",
              "        }\n",
              "      </script>\n",
              "    </div>\n",
              "  </div>\n",
              "  "
            ]
          },
          "metadata": {},
          "execution_count": 78
        }
      ]
    },
    {
      "cell_type": "markdown",
      "source": [
        "#Task 4. \n",
        "Similar to Task 3, apply kNN algorithm to **mnist** dataset which included in datasets of sklearn API.\n",
        "*  4.1.\tPerform kNN algorithm to Iris dataset with k={1, 3, 5, …, 29}. Select the best value of k.\n",
        "*  4.2.\tThen compare the obtained results with those using Logistic regression (based on metrics: accuracy, precision, recall, f1 measure).\n"
      ],
      "metadata": {
        "id": "b52OPWPD2afi"
      }
    },
    {
      "cell_type": "code",
      "source": [
        "k_range= range(1,30,2)\n",
        "accuracy1=[]\n",
        "precision1=[]\n",
        "recall1=[]\n",
        "f11=[]\n",
        "for i in k_range:\n",
        "  mnist = KNeighborsClassifier(n_neighbors=i)\n",
        "  X_train, X_test, y_train, y_test = train_test_split(X, Y, test_size=0.3, train_size=0.7,  random_state = 1)\n",
        "  mnist.fit(X_train,y_train)\n",
        "  y_pred = mnist.predict(X_test) \n",
        "  accuracy1.append( accuracy_score(y_test, y_pred))\n",
        "  precision1.append( precision_score(y_test, y_pred, average='micro'))\n",
        "  recall1.append( recall_score(y_test, y_pred, average='micro'))\n",
        "  f11.append( f1_score(y_test, y_pred, average='micro'))\n",
        "plt.plot(k_range,accuracy1)\n",
        "plt.xlabel=(\"K\")\n",
        "plt.ylabel(\"accuracy\")\n",
        "ConfusionMatrixDisplay.from_estimator(mnist, X_test, y_test)"
      ],
      "metadata": {
        "id": "Rw_-8FIf2KxW",
        "colab": {
          "base_uri": "https://localhost:8080/",
          "height": 544
        },
        "outputId": "37210066-937b-4a18-9149-e50894cd214c"
      },
      "execution_count": null,
      "outputs": [
        {
          "output_type": "execute_result",
          "data": {
            "text/plain": [
              "<sklearn.metrics._plot.confusion_matrix.ConfusionMatrixDisplay at 0x7f49e643f040>"
            ]
          },
          "metadata": {},
          "execution_count": 48
        },
        {
          "output_type": "display_data",
          "data": {
            "text/plain": [
              "<Figure size 432x288 with 1 Axes>"
            ],
            "image/png": "[encoded data removed]"
          },
          "metadata": {
            "needs_background": "light"
          }
        },
        {
          "output_type": "display_data",
          "data": {
            "text/plain": [
              "<Figure size 432x288 with 2 Axes>"
            ],
            "image/png": "[encoded data removed]"
          },
          "metadata": {
            "needs_background": "light"
          }
        }
      ]
    },
    {
      "cell_type": "code",
      "source": [
        "plt.plot(k_range,precision1)\n",
        "plt.xlabel=(\"K\")\n",
        "plt.ylabel(\"precision\")"
      ],
      "metadata": {
        "colab": {
          "base_uri": "https://localhost:8080/",
          "height": 282
        },
        "id": "hOJuOFuN6cYI",
        "outputId": "7179e614-ec0a-4633-db51-1815c250bda6"
      },
      "execution_count": null,
      "outputs": [
        {
          "output_type": "execute_result",
          "data": {
            "text/plain": [
              "Text(0, 0.5, 'precision')"
            ]
          },
          "metadata": {},
          "execution_count": 13
        },
        {
          "output_type": "display_data",
          "data": {
            "text/plain": [
              "<Figure size 432x288 with 1 Axes>"
            ],
            "image/png": "[encoded data removed]"
          },
          "metadata": {
            "needs_background": "light"
          }
        }
      ]
    },
    {
      "cell_type": "code",
      "source": [
        "plt.plot(k_range,recall1)\n",
        "plt.xlabel=(\"K\")\n",
        "plt.ylabel(\"recall\")"
      ],
      "metadata": {
        "colab": {
          "base_uri": "https://localhost:8080/",
          "height": 282
        },
        "id": "FpdR9mvz6gSn",
        "outputId": "37316ac3-675a-48e6-9221-5d57408aed50"
      },
      "execution_count": null,
      "outputs": [
        {
          "output_type": "execute_result",
          "data": {
            "text/plain": [
              "Text(0, 0.5, 'recall')"
            ]
          },
          "metadata": {},
          "execution_count": 14
        },
        {
          "output_type": "display_data",
          "data": {
            "text/plain": [
              "<Figure size 432x288 with 1 Axes>"
            ],
            "image/png": "[encoded data removed]"
          },
          "metadata": {
            "needs_background": "light"
          }
        }
      ]
    },
    {
      "cell_type": "code",
      "source": [
        "plt.plot(k_range,f11)\n",
        "plt.xlabel=(\"K\")\n",
        "plt.ylabel(\"f1\")"
      ],
      "metadata": {
        "colab": {
          "base_uri": "https://localhost:8080/",
          "height": 282
        },
        "id": "sHWiIx2q6jlv",
        "outputId": "8651b6e1-c5c3-4659-d691-977156023e4d"
      },
      "execution_count": null,
      "outputs": [
        {
          "output_type": "execute_result",
          "data": {
            "text/plain": [
              "Text(0, 0.5, 'f1')"
            ]
          },
          "metadata": {},
          "execution_count": 15
        },
        {
          "output_type": "display_data",
          "data": {
            "text/plain": [
              "<Figure size 432x288 with 1 Axes>"
            ],
            "image/png": "[encoded data removed]"
          },
          "metadata": {
            "needs_background": "light"
          }
        }
      ]
    },
    {
      "cell_type": "code",
      "source": [
        "c2= [[0.812,  0.9778], [0.99, 0.9778], [0.99, 0.9778], [0.99, 0.9778]]\n",
        "df = pd.DataFrame(c2, columns=['KNN', 'Logistic Regression'])\n",
        "df"
      ],
      "metadata": {
        "colab": {
          "base_uri": "https://localhost:8080/",
          "height": 175
        },
        "id": "O3PPWYxqTgN8",
        "outputId": "6a79b7f6-4773-42ee-db5e-c373c66588b6"
      },
      "execution_count": null,
      "outputs": [
        {
          "output_type": "execute_result",
          "data": {
            "text/plain": [
              "     KNN  Logistic Regression\n",
              "0  0.812               0.9778\n",
              "1  0.990               0.9778\n",
              "2  0.990               0.9778\n",
              "3  0.990               0.9778"
            ],
            "text/html": [
              "\n",
              "  <div id=\"df-eb22f50a-601b-4961-bcb6-dd3b6cda39e2\">\n",
              "    <div class=\"colab-df-container\">\n",
              "      <div>\n",
              "<style scoped>\n",
              "    .dataframe tbody tr th:only-of-type {\n",
              "        vertical-align: middle;\n",
              "    }\n",
              "\n",
              "    .dataframe tbody tr th {\n",
              "        vertical-align: top;\n",
              "    }\n",
              "\n",
              "    .dataframe thead th {\n",
              "        text-align: right;\n",
              "    }\n",
              "</style>\n",
              "<table border=\"1\" class=\"dataframe\">\n",
              "  <thead>\n",
              "    <tr style=\"text-align: right;\">\n",
              "      <th></th>\n",
              "      <th>KNN</th>\n",
              "      <th>Logistic Regression</th>\n",
              "    </tr>\n",
              "  </thead>\n",
              "  <tbody>\n",
              "    <tr>\n",
              "      <th>0</th>\n",
              "      <td>0.812</td>\n",
              "      <td>0.9778</td>\n",
              "    </tr>\n",
              "    <tr>\n",
              "      <th>1</th>\n",
              "      <td>0.990</td>\n",
              "      <td>0.9778</td>\n",
              "    </tr>\n",
              "    <tr>\n",
              "      <th>2</th>\n",
              "      <td>0.990</td>\n",
              "      <td>0.9778</td>\n",
              "    </tr>\n",
              "    <tr>\n",
              "      <th>3</th>\n",
              "      <td>0.990</td>\n",
              "      <td>0.9778</td>\n",
              "    </tr>\n",
              "  </tbody>\n",
              "</table>\n",
              "</div>\n",
              "      <button class=\"colab-df-convert\" onclick=\"convertToInteractive('df-eb22f50a-601b-4961-bcb6-dd3b6cda39e2')\"\n",
              "              title=\"Convert this dataframe to an interactive table.\"\n",
              "              style=\"display:none;\">\n",
              "        \n",
              "  <svg xmlns=\"http://www.w3.org/2000/svg\" height=\"24px\"viewBox=\"0 0 24 24\"\n",
              "       width=\"24px\">\n",
              "    <path d=\"M0 0h24v24H0V0z\" fill=\"none\"/>\n",
              "    <path d=\"M18.56 5.44l.94 2.06.94-2.06 2.06-.94-2.06-.94-.94-2.06-.94 2.06-2.06.94zm-11 1L8.5 8.5l.94-2.06 2.06-.94-2.06-.94L8.5 2.5l-.94 2.06-2.06.94zm10 10l.94 2.06.94-2.06 2.06-.94-2.06-.94-.94-2.06-.94 2.06-2.06.94z\"/><path d=\"M17.41 7.96l-1.37-1.37c-.4-.4-.92-.59-1.43-.59-.52 0-1.04.2-1.43.59L10.3 9.45l-7.72 7.72c-.78.78-.78 2.05 0 2.83L4 21.41c.39.39.9.59 1.41.59.51 0 1.02-.2 1.41-.59l7.78-7.78 2.81-2.81c.8-.78.8-2.07 0-2.86zM5.41 20L4 18.59l7.72-7.72 1.47 1.35L5.41 20z\"/>\n",
              "  </svg>\n",
              "      </button>\n",
              "      \n",
              "  <style>\n",
              "    .colab-df-container {\n",
              "      display:flex;\n",
              "      flex-wrap:wrap;\n",
              "      gap: 12px;\n",
              "    }\n",
              "\n",
              "    .colab-df-convert {\n",
              "      background-color: #E8F0FE;\n",
              "      border: none;\n",
              "      border-radius: 50%;\n",
              "      cursor: pointer;\n",
              "      display: none;\n",
              "      fill: #1967D2;\n",
              "      height: 32px;\n",
              "      padding: 0 0 0 0;\n",
              "      width: 32px;\n",
              "    }\n",
              "\n",
              "    .colab-df-convert:hover {\n",
              "      background-color: #E2EBFA;\n",
              "      box-shadow: 0px 1px 2px rgba(60, 64, 67, 0.3), 0px 1px 3px 1px rgba(60, 64, 67, 0.15);\n",
              "      fill: #174EA6;\n",
              "    }\n",
              "\n",
              "    [theme=dark] .colab-df-convert {\n",
              "      background-color: #3B4455;\n",
              "      fill: #D2E3FC;\n",
              "    }\n",
              "\n",
              "    [theme=dark] .colab-df-convert:hover {\n",
              "      background-color: #434B5C;\n",
              "      box-shadow: 0px 1px 3px 1px rgba(0, 0, 0, 0.15);\n",
              "      filter: drop-shadow(0px 1px 2px rgba(0, 0, 0, 0.3));\n",
              "      fill: #FFFFFF;\n",
              "    }\n",
              "  </style>\n",
              "\n",
              "      <script>\n",
              "        const buttonEl =\n",
              "          document.querySelector('#df-eb22f50a-601b-4961-bcb6-dd3b6cda39e2 button.colab-df-convert');\n",
              "        buttonEl.style.display =\n",
              "          google.colab.kernel.accessAllowed ? 'block' : 'none';\n",
              "\n",
              "        async function convertToInteractive(key) {\n",
              "          const element = document.querySelector('#df-eb22f50a-601b-4961-bcb6-dd3b6cda39e2');\n",
              "          const dataTable =\n",
              "            await google.colab.kernel.invokeFunction('convertToInteractive',\n",
              "                                                     [key], {});\n",
              "          if (!dataTable) return;\n",
              "\n",
              "          const docLinkHtml = 'Like what you see? Visit the ' +\n",
              "            '<a target=\"_blank\" href=https://colab.research.google.com/notebooks/data_table.ipynb>data table notebook</a>'\n",
              "            + ' to learn more about interactive tables.';\n",
              "          element.innerHTML = '';\n",
              "          dataTable['output_type'] = 'display_data';\n",
              "          await google.colab.output.renderOutput(dataTable, element);\n",
              "          const docLink = document.createElement('div');\n",
              "          docLink.innerHTML = docLinkHtml;\n",
              "          element.appendChild(docLink);\n",
              "        }\n",
              "      </script>\n",
              "    </div>\n",
              "  </div>\n",
              "  "
            ]
          },
          "metadata": {},
          "execution_count": 80
        }
      ]
    },
    {
      "cell_type": "markdown",
      "source": [
        "#Task 5. \n",
        "Compare the performance of selected classification algorithms (**Decision Treen, kNN, and Logistic Regression**) to ***spam detection***. The dataset can be accessed from the link: http://archive.ics.uci.edu/ml/datasets/Spambase \n",
        "Attribute Information:\n",
        "The last column of 'spambase.csv denotes whether the e-mail was considered spam (1) or not (0), i.e. unsolicited commercial e-mail. Most of the attributes indicate whether a particular word or character was frequently occuring in the e-mail. The run-length attributes (55-57) measure the length of sequences of consecutive capital letters. For the statistical measures of each attribute, see the end of this file. Here are the definitions of the attributes: \n",
        "*  48 continuous real [0,100] attributes of type word_freq_WORD \n",
        "= percentage of words in the e-mail that match WORD, i.e. 100 * (number of times the WORD appears in the e-mail) / total number of words in e-mail. A \"word\" in this case is any string of alphanumeric characters bounded by non-alphanumeric characters or end-of-string. **Example**: word_freq_address: percentage of words in the e-mail that match ADDRESS.\n",
        "*  6 continuous real [0,100] attributes of type char_freq_CHAR] \n",
        "= percentage of characters in the e-mail that match CHAR, i.e. 100 * (number of CHAR occurences) / total characters in e-mail\n",
        "*  1 continuous real [1,...] attribute of type capital_run_length_average \n",
        "= average length of uninterrupted sequences of capital letters\n",
        "*  1 continuous integer [1,...] attribute of type capital_run_length_longest \n",
        "= length of longest uninterrupted sequence of capital letters\n",
        "*  1 continuous integer [1,...] attribute of type capital_run_length_total = sum of length of uninterrupted sequences of capital letters = total number of capital letters in the e-mail\n",
        "*  1 nominal {0,1} class attribute of type spam = denotes whether the e-mail was considered spam (1) or not (0), i.e. unsolicited commercial e-mail. \n",
        "\n",
        "\n",
        "---\n",
        "\n",
        "\n",
        "In order to compare the performance of selected algorithms, some common metrics including **accuracy, precision, recall, f1 measures** could be used.\n"
      ],
      "metadata": {
        "id": "MVzSk4l505E0"
      }
    },
    {
      "cell_type": "code",
      "source": [
        "data=pd.read_csv('spambase.csv')"
      ],
      "metadata": {
        "id": "W_1v_ivR2f6D"
      },
      "execution_count": null,
      "outputs": []
    },
    {
      "cell_type": "code",
      "source": [
        "from sklearn.tree import DecisionTreeClassifier"
      ],
      "metadata": {
        "id": "-DPyR7ULjR-U"
      },
      "execution_count": null,
      "outputs": []
    },
    {
      "cell_type": "code",
      "source": [
        "classifier = LogisticRegression(random_state = 0) \n",
        "X= data[['word_freq_000', 'word_freq_make', 'word_freq_address', 'word_freq_all', 'word_freq_3d', 'word_freq_our',\n",
        " 'word_freq_over', 'word_freq_remove', 'word_freq_internet', 'word_freq_order', 'word_freq_mail', 'word_freq_receive',\n",
        "  'word_freq_will', 'word_freq_people', 'word_freq_report', 'word_freq_addresses', 'word_freq_free', 'word_freq_business',\n",
        "  'word_freq_email', 'word_freq_you', 'word_freq_credit', 'word_freq_your', 'word_freq_font', 'word_freq_money', 'word_freq_hp',\n",
        "  'word_freq_hpl', 'word_freq_george', 'word_freq_650', 'word_freq_lab', 'word_freq_labs', 'word_freq_telnet',\n",
        "  'word_freq_857', 'word_freq_data', 'word_freq_415', 'word_freq_85', 'word_freq_technology', 'word_freq_1999', 'word_freq_parts',\n",
        "  'word_freq_pm', 'word_freq_direct', 'word_freq_cs', 'word_freq_meeting', 'word_freq_original', 'word_freq_project', 'word_freq_re',\n",
        "  'word_freq_edu', 'word_freq_table', 'word_freq_conference', 'char_freq_%3B', 'char_freq_%28', 'char_freq_%5B', 'char_freq_%21',\n",
        "  'char_freq_%24', 'char_freq_%23', 'capital_run_length_average', 'capital_run_length_longest', 'capital_run_length_total']]\n",
        "Y= data['class']\n",
        "X_train, X_test, y_train, y_test = train_test_split(X, Y, test_size=0.3, train_size=0.7,  random_state = 1)\n",
        "classifier.fit(X_train, y_train) \n",
        "y_pred = classifier.predict(X_test)\n",
        "cm = confusion_matrix(y_test, y_pred)\n",
        "print (\"Confusion Matrix : \\n\", confusion_matrix(y_test, y_pred))\n",
        "print (\"Accuracy : \", accuracy_score(y_test, y_pred))\n",
        "print (\"Precision : \", precision_score(y_test, y_pred, average='micro'))\n",
        "print (\"Recall : \", recall_score(y_test, y_pred, average='micro'))\n",
        "print (\"F1 : \", f1_score(y_test, y_pred, average='micro'))\n",
        "k_range= range(1,30,2)\n",
        "accuracy=[]\n",
        "precision=[]\n",
        "recall=[]\n",
        "f1=[]\n",
        "for i in k_range:\n",
        "  data = KNeighborsClassifier(n_neighbors=i)\n",
        "  X_train, X_test, y_train, y_test = train_test_split(X, Y, test_size=0.3, train_size=0.7,  random_state = 1)\n",
        "  data.fit(X_train,y_train)\n",
        "  y_pred = data.predict(X_test) \n",
        "  accuracy.append( accuracy_score(y_test, y_pred))\n",
        "  precision.append( precision_score(y_test, y_pred, average='micro'))\n",
        "  recall.append( recall_score(y_test, y_pred, average='micro'))\n",
        "  f1.append( f1_score(y_test, y_pred, average='micro'))\n",
        "plt.plot(k_range,accuracy)\n",
        "plt.xlabel=(\"K\")\n",
        "plt.ylabel(\"accuracy\")"
      ],
      "metadata": {
        "id": "AEuOBxRg8wHY",
        "colab": {
          "base_uri": "https://localhost:8080/",
          "height": 543
        },
        "outputId": "8461bfd2-77e7-4f78-c8a2-a70fc5aa2452"
      },
      "execution_count": null,
      "outputs": [
        {
          "output_type": "stream",
          "name": "stderr",
          "text": [
            "/usr/local/lib/python3.8/dist-packages/sklearn/linear_model/_logistic.py:458: ConvergenceWarning: lbfgs failed to converge (status=1):\n",
            "STOP: TOTAL NO. of ITERATIONS REACHED LIMIT.\n",
            "\n",
            "Increase the number of iterations (max_iter) or scale the data as shown in:\n",
            "    https://scikit-learn.org/stable/modules/preprocessing.html\n",
            "Please also refer to the documentation for alternative solver options:\n",
            "    https://scikit-learn.org/stable/modules/linear_model.html#logistic-regression\n",
            "  n_iter_i = _check_optimize_result(\n"
          ]
        },
        {
          "output_type": "stream",
          "name": "stdout",
          "text": [
            "Confusion Matrix : \n",
            " [[803  38]\n",
            " [ 65 475]]\n",
            "Accuracy :  0.9254163649529327\n",
            "Precision :  0.9254163649529327\n",
            "Recall :  0.9254163649529327\n",
            "F1 :  0.9254163649529327\n"
          ]
        },
        {
          "output_type": "execute_result",
          "data": {
            "text/plain": [
              "Text(0, 0.5, 'accuracy')"
            ]
          },
          "metadata": {},
          "execution_count": 55
        },
        {
          "output_type": "display_data",
          "data": {
            "text/plain": [
              "<Figure size 432x288 with 1 Axes>"
            ],
            "image/png": "[encoded data removed]"
          },
          "metadata": {
            "needs_background": "light"
          }
        }
      ]
    },
    {
      "cell_type": "code",
      "source": [
        "print (\"Confusion Matrix : \\n\", cm)\n",
        "ConfusionMatrixDisplay.from_predictions(y_test, y_pred)"
      ],
      "metadata": {
        "colab": {
          "base_uri": "https://localhost:8080/",
          "height": 348
        },
        "id": "tqTtBcbAHv-5",
        "outputId": "068721d2-5dfc-4706-94f0-6dce5cecfdd6"
      },
      "execution_count": null,
      "outputs": [
        {
          "output_type": "stream",
          "name": "stdout",
          "text": [
            "Confusion Matrix : \n",
            " [[803  38]\n",
            " [ 65 475]]\n"
          ]
        },
        {
          "output_type": "execute_result",
          "data": {
            "text/plain": [
              "<sklearn.metrics._plot.confusion_matrix.ConfusionMatrixDisplay at 0x7f49dd6b9130>"
            ]
          },
          "metadata": {},
          "execution_count": 65
        },
        {
          "output_type": "display_data",
          "data": {
            "text/plain": [
              "<Figure size 432x288 with 2 Axes>"
            ],
            "image/png": "[encoded data removed]"
          },
          "metadata": {
            "needs_background": "light"
          }
        }
      ]
    },
    {
      "cell_type": "code",
      "source": [
        "plt.plot(k_range,precision)\n",
        "plt.xlabel=(\"K\")\n",
        "plt.ylabel(\"precision\")"
      ],
      "metadata": {
        "colab": {
          "base_uri": "https://localhost:8080/",
          "height": 282
        },
        "id": "08i4Kx29HwXa",
        "outputId": "46aa5ad6-9b60-41a6-9617-e872505eb686"
      },
      "execution_count": null,
      "outputs": [
        {
          "output_type": "execute_result",
          "data": {
            "text/plain": [
              "Text(0, 0.5, 'precision')"
            ]
          },
          "metadata": {},
          "execution_count": 50
        },
        {
          "output_type": "display_data",
          "data": {
            "text/plain": [
              "<Figure size 432x288 with 1 Axes>"
            ],
            "image/png": "[encoded data removed]"
          },
          "metadata": {
            "needs_background": "light"
          }
        }
      ]
    },
    {
      "cell_type": "code",
      "source": [
        "plt.plot(k_range,recall)\n",
        "plt.xlabel=(\"K\")\n",
        "plt.ylabel(\"recall\")"
      ],
      "metadata": {
        "colab": {
          "base_uri": "https://localhost:8080/",
          "height": 282
        },
        "id": "iC6ed2ygHwoZ",
        "outputId": "490ce740-250c-48f9-cc11-51bc0751f57c"
      },
      "execution_count": null,
      "outputs": [
        {
          "output_type": "execute_result",
          "data": {
            "text/plain": [
              "Text(0, 0.5, 'recall')"
            ]
          },
          "metadata": {},
          "execution_count": 58
        },
        {
          "output_type": "display_data",
          "data": {
            "text/plain": [
              "<Figure size 432x288 with 1 Axes>"
            ],
            "image/png": "[encoded data removed]"
          },
          "metadata": {
            "needs_background": "light"
          }
        }
      ]
    },
    {
      "cell_type": "code",
      "source": [
        "plt.plot(k_range,f1)\n",
        "plt.xlabel=(\"K\")\n",
        "plt.ylabel(\"f1\")"
      ],
      "metadata": {
        "colab": {
          "base_uri": "https://localhost:8080/",
          "height": 282
        },
        "id": "dVlJba-mHxC3",
        "outputId": "ac2f7e19-372a-4972-abee-9fb7bd3eea10"
      },
      "execution_count": null,
      "outputs": [
        {
          "output_type": "execute_result",
          "data": {
            "text/plain": [
              "Text(0, 0.5, 'f1')"
            ]
          },
          "metadata": {},
          "execution_count": 59
        },
        {
          "output_type": "display_data",
          "data": {
            "text/plain": [
              "<Figure size 432x288 with 1 Axes>"
            ],
            "image/png": "[encoded data removed]"
          },
          "metadata": {
            "needs_background": "light"
          }
        }
      ]
    },
    {
      "cell_type": "code",
      "source": [
        "from sklearn import tree\n",
        "from sklearn.tree import DecisionTreeClassifier"
      ],
      "metadata": {
        "id": "sSiqZehbRhZL"
      },
      "execution_count": null,
      "outputs": []
    },
    {
      "cell_type": "code",
      "source": [
        "dtree = DecisionTreeClassifier()\n",
        "dtree = dtree.fit(X, Y)\n",
        "tree.plot_tree(dtree)"
      ],
      "metadata": {
        "colab": {
          "base_uri": "https://localhost:8080/",
          "height": 1000
        },
        "id": "iDsYybIRJm_s",
        "outputId": "e32ed882-87e3-4c7f-a2bd-6e2889141ab4"
      },
      "execution_count": null,
      "outputs": [
        {
          "output_type": "execute_result",
          "data": {
            "text/plain": [
              "[Text(0.8737456529246063, 0.9857142857142858, 'x[52] <= 0.056\\ngini = 0.478\\nsamples = 4601\\nvalue = [2788, 1813]'),\n",
              " Text(0.7749166952166536, 0.9571428571428572, 'x[7] <= 0.055\\ngini = 0.36\\nsamples = 3471\\nvalue = [2655, 816]'),\n",
              " Text(0.6528526195292786, 0.9285714285714286, 'x[51] <= 0.378\\ngini = 0.275\\nsamples = 3141\\nvalue = [2625, 516]'),\n",
              " Text(0.5412573142347515, 0.9, 'x[16] <= 0.2\\ngini = 0.181\\nsamples = 2737\\nvalue = [2462, 275]'),\n",
              " Text(0.4555416884190377, 0.8714285714285714, 'x[23] <= 0.01\\ngini = 0.135\\nsamples = 2507\\nvalue = [2325, 182]'),\n",
              " Text(0.4167128904550596, 0.8428571428571429, 'x[22] <= 0.155\\ngini = 0.111\\nsamples = 2439\\nvalue = [2295, 144]'),\n",
              " Text(0.37914926476985994, 0.8142857142857143, 'x[55] <= 416.0\\ngini = 0.101\\nsamples = 2404\\nvalue = [2276, 128]'),\n",
              " Text(0.3746943791873314, 0.7857142857142857, 'x[5] <= 0.715\\ngini = 0.097\\nsamples = 2399\\nvalue = [2276, 123]'),\n",
              " Text(0.317386670147046, 0.7571428571428571, 'x[27] <= 7.105\\ngini = 0.079\\nsamples = 2199\\nvalue = [2109, 90]'),\n",
              " Text(0.31293178456451753, 0.7285714285714285, 'x[4] <= 0.565\\ngini = 0.077\\nsamples = 2197\\nvalue = [2109, 88]'),\n",
              " Text(0.30847689898198905, 0.7, 'x[24] <= 0.015\\ngini = 0.075\\nsamples = 2195\\nvalue = [2109, 86]'),\n",
              " Text(0.2690376751065866, 0.6714285714285714, 'x[27] <= 0.23\\ngini = 0.11\\nsamples = 1367\\nvalue = [1287, 80]'),\n",
              " Text(0.23916296876359522, 0.6428571428571429, 'x[55] <= 9.5\\ngini = 0.095\\nsamples = 1340\\nvalue = [1273, 67]'),\n",
              " Text(0.2039154267815192, 0.6142857142857143, 'x[8] <= 8.495\\ngini = 0.053\\nsamples = 918\\nvalue = [893, 25]'),\n",
              " Text(0.19946054119899068, 0.5857142857142857, 'x[20] <= 9.72\\ngini = 0.051\\nsamples = 917\\nvalue = [893, 24]'),\n",
              " Text(0.1950056556164622, 0.5571428571428572, 'x[17] <= 2.89\\ngini = 0.049\\nsamples = 916\\nvalue = [893, 23]'),\n",
              " Text(0.1905507700339337, 0.5285714285714286, 'x[35] <= 0.555\\ngini = 0.047\\nsamples = 915\\nvalue = [893, 22]'),\n",
              " Text(0.1761768032715566, 0.5, 'x[11] <= 0.55\\ngini = 0.041\\nsamples = 901\\nvalue = [882, 19]'),\n",
              " Text(0.16079352649438788, 0.4714285714285714, 'x[12] <= 6.065\\ngini = 0.039\\nsamples = 899\\nvalue = [881, 18]'),\n",
              " Text(0.14339162968763594, 0.44285714285714284, 'x[21] <= 4.91\\ngini = 0.037\\nsamples = 896\\nvalue = [879, 17]'),\n",
              " Text(0.12195249282171756, 0.4142857142857143, 'x[10] <= 0.355\\ngini = 0.033\\nsamples = 882\\nvalue = [867, 15]'),\n",
              " Text(0.10580353258505178, 0.38571428571428573, 'x[18] <= 1.9\\ngini = 0.028\\nsamples = 844\\nvalue = [832, 12]'),\n",
              " Text(0.09132515444183416, 0.35714285714285715, 'x[54] <= 1.276\\ngini = 0.026\\nsamples = 836\\nvalue = [825, 11]'),\n",
              " Text(0.07573305490298443, 0.32857142857142857, 'x[54] <= 1.265\\ngini = 0.046\\nsamples = 420\\nvalue = [410, 10]'),\n",
              " Text(0.057913512572870446, 0.3, 'x[19] <= 4.725\\ngini = 0.034\\nsamples = 410\\nvalue = [403, 7]'),\n",
              " Text(0.04009397024275646, 0.2714285714285714, 'x[56] <= 31.5\\ngini = 0.022\\nsamples = 359\\nvalue = [355, 4]'),\n",
              " Text(0.031184199077699468, 0.24285714285714285, 'x[56] <= 6.5\\ngini = 0.006\\nsamples = 309\\nvalue = [308, 1]'),\n",
              " Text(0.026729313495170975, 0.21428571428571427, 'gini = 0.0\\nsamples = 177\\nvalue = [177, 0]'),\n",
              " Text(0.035639084660227964, 0.21428571428571427, 'x[56] <= 7.5\\ngini = 0.015\\nsamples = 132\\nvalue = [131, 1]'),\n",
              " Text(0.031184199077699468, 0.18571428571428572, 'x[55] <= 1.5\\ngini = 0.091\\nsamples = 21\\nvalue = [20, 1]'),\n",
              " Text(0.026729313495170975, 0.15714285714285714, 'x[26] <= 2.08\\ngini = 0.133\\nsamples = 14\\nvalue = [13, 1]'),\n",
              " Text(0.02227442791264248, 0.12857142857142856, 'x[49] <= 0.238\\ngini = 0.245\\nsamples = 7\\nvalue = [6, 1]'),\n",
              " Text(0.017819542330113982, 0.1, 'x[45] <= 1.56\\ngini = 0.32\\nsamples = 5\\nvalue = [4, 1]'),\n",
              " Text(0.013364656747585487, 0.07142857142857142, 'x[41] <= 2.63\\ngini = 0.444\\nsamples = 3\\nvalue = [2, 1]'),\n",
              " Text(0.008909771165056991, 0.04285714285714286, 'x[44] <= 3.125\\ngini = 0.5\\nsamples = 2\\nvalue = [1, 1]'),\n",
              " Text(0.0044548855825284955, 0.014285714285714285, 'gini = 0.0\\nsamples = 1\\nvalue = [0, 1]'),\n",
              " Text(0.013364656747585487, 0.014285714285714285, 'gini = 0.0\\nsamples = 1\\nvalue = [1, 0]'),\n",
              " Text(0.017819542330113982, 0.04285714285714286, 'gini = 0.0\\nsamples = 1\\nvalue = [1, 0]'),\n",
              " Text(0.02227442791264248, 0.07142857142857142, 'gini = 0.0\\nsamples = 2\\nvalue = [2, 0]'),\n",
              " Text(0.026729313495170975, 0.1, 'gini = 0.0\\nsamples = 2\\nvalue = [2, 0]'),\n",
              " Text(0.031184199077699468, 0.12857142857142856, 'gini = 0.0\\nsamples = 7\\nvalue = [7, 0]'),\n",
              " Text(0.035639084660227964, 0.15714285714285714, 'gini = 0.0\\nsamples = 7\\nvalue = [7, 0]'),\n",
              " Text(0.04009397024275646, 0.18571428571428572, 'gini = 0.0\\nsamples = 111\\nvalue = [111, 0]'),\n",
              " Text(0.04900374140781345, 0.24285714285714285, 'x[56] <= 32.5\\ngini = 0.113\\nsamples = 50\\nvalue = [47, 3]'),\n",
              " Text(0.04454885582528496, 0.21428571428571427, 'gini = 0.0\\nsamples = 2\\nvalue = [0, 2]'),\n",
              " Text(0.05345862699034195, 0.21428571428571427, 'x[54] <= 1.056\\ngini = 0.041\\nsamples = 48\\nvalue = [47, 1]'),\n",
              " Text(0.04900374140781345, 0.18571428571428572, 'x[54] <= 1.039\\ngini = 0.32\\nsamples = 5\\nvalue = [4, 1]'),\n",
              " Text(0.04454885582528496, 0.15714285714285714, 'gini = 0.0\\nsamples = 4\\nvalue = [4, 0]'),\n",
              " Text(0.05345862699034195, 0.15714285714285714, 'gini = 0.0\\nsamples = 1\\nvalue = [0, 1]'),\n",
              " Text(0.057913512572870446, 0.18571428571428572, 'gini = 0.0\\nsamples = 43\\nvalue = [43, 0]'),\n",
              " Text(0.07573305490298443, 0.2714285714285714, 'x[19] <= 4.78\\ngini = 0.111\\nsamples = 51\\nvalue = [48, 3]'),\n",
              " Text(0.06682328373792744, 0.24285714285714285, 'x[41] <= 0.475\\ngini = 0.444\\nsamples = 3\\nvalue = [1, 2]'),\n",
              " Text(0.062368398155398935, 0.21428571428571427, 'gini = 0.0\\nsamples = 2\\nvalue = [0, 2]'),\n",
              " Text(0.07127816932045593, 0.21428571428571427, 'gini = 0.0\\nsamples = 1\\nvalue = [1, 0]'),\n",
              " Text(0.08464282606804141, 0.24285714285714285, 'x[21] <= 1.615\\ngini = 0.041\\nsamples = 48\\nvalue = [47, 1]'),\n",
              " Text(0.08018794048551292, 0.21428571428571427, 'gini = 0.0\\nsamples = 40\\nvalue = [40, 0]'),\n",
              " Text(0.08909771165056991, 0.21428571428571427, 'x[21] <= 1.72\\ngini = 0.219\\nsamples = 8\\nvalue = [7, 1]'),\n",
              " Text(0.08464282606804141, 0.18571428571428572, 'gini = 0.0\\nsamples = 1\\nvalue = [0, 1]'),\n",
              " Text(0.0935525972330984, 0.18571428571428572, 'gini = 0.0\\nsamples = 7\\nvalue = [7, 0]'),\n",
              " Text(0.0935525972330984, 0.3, 'x[19] <= 0.33\\ngini = 0.42\\nsamples = 10\\nvalue = [7, 3]'),\n",
              " Text(0.08909771165056991, 0.2714285714285714, 'gini = 0.0\\nsamples = 2\\nvalue = [0, 2]'),\n",
              " Text(0.0980074828156269, 0.2714285714285714, 'x[12] <= 1.545\\ngini = 0.219\\nsamples = 8\\nvalue = [7, 1]'),\n",
              " Text(0.0935525972330984, 0.24285714285714285, 'gini = 0.0\\nsamples = 7\\nvalue = [7, 0]'),\n",
              " Text(0.1024623683981554, 0.24285714285714285, 'gini = 0.0\\nsamples = 1\\nvalue = [0, 1]'),\n",
              " Text(0.1069172539806839, 0.32857142857142857, 'x[12] <= 1.135\\ngini = 0.005\\nsamples = 416\\nvalue = [415, 1]'),\n",
              " Text(0.1024623683981554, 0.3, 'gini = 0.0\\nsamples = 350\\nvalue = [350, 0]'),\n",
              " Text(0.11137213956321239, 0.3, 'x[12] <= 1.145\\ngini = 0.03\\nsamples = 66\\nvalue = [65, 1]'),\n",
              " Text(0.1069172539806839, 0.2714285714285714, 'gini = 0.0\\nsamples = 1\\nvalue = [0, 1]'),\n",
              " Text(0.11582702514574089, 0.2714285714285714, 'gini = 0.0\\nsamples = 65\\nvalue = [65, 0]'),\n",
              " Text(0.12028191072826938, 0.35714285714285715, 'x[55] <= 5.5\\ngini = 0.219\\nsamples = 8\\nvalue = [7, 1]'),\n",
              " Text(0.11582702514574089, 0.32857142857142857, 'gini = 0.0\\nsamples = 7\\nvalue = [7, 0]'),\n",
              " Text(0.12473679631079787, 0.32857142857142857, 'gini = 0.0\\nsamples = 1\\nvalue = [0, 1]'),\n",
              " Text(0.13810145305838337, 0.38571428571428573, 'x[10] <= 0.365\\ngini = 0.145\\nsamples = 38\\nvalue = [35, 3]'),\n",
              " Text(0.13364656747585488, 0.35714285714285715, 'gini = 0.0\\nsamples = 1\\nvalue = [0, 1]'),\n",
              " Text(0.14255633864091186, 0.35714285714285715, 'x[12] <= 2.23\\ngini = 0.102\\nsamples = 37\\nvalue = [35, 2]'),\n",
              " Text(0.13364656747585488, 0.32857142857142857, 'x[10] <= 3.625\\ngini = 0.057\\nsamples = 34\\nvalue = [33, 1]'),\n",
              " Text(0.12919168189332636, 0.3, 'gini = 0.0\\nsamples = 28\\nvalue = [28, 0]'),\n",
              " Text(0.13810145305838337, 0.3, 'x[10] <= 3.96\\ngini = 0.278\\nsamples = 6\\nvalue = [5, 1]'),\n",
              " Text(0.13364656747585488, 0.2714285714285714, 'gini = 0.0\\nsamples = 1\\nvalue = [0, 1]'),\n",
              " Text(0.14255633864091186, 0.2714285714285714, 'gini = 0.0\\nsamples = 5\\nvalue = [5, 0]'),\n",
              " Text(0.15146610980596886, 0.32857142857142857, 'x[44] <= 0.38\\ngini = 0.444\\nsamples = 3\\nvalue = [2, 1]'),\n",
              " Text(0.14701122422344035, 0.3, 'gini = 0.0\\nsamples = 2\\nvalue = [2, 0]'),\n",
              " Text(0.15592099538849735, 0.3, 'gini = 0.0\\nsamples = 1\\nvalue = [0, 1]'),\n",
              " Text(0.16483076655355433, 0.4142857142857143, 'x[21] <= 5.16\\ngini = 0.245\\nsamples = 14\\nvalue = [12, 2]'),\n",
              " Text(0.16037588097102584, 0.38571428571428573, 'gini = 0.0\\nsamples = 1\\nvalue = [0, 1]'),\n",
              " Text(0.16928565213608282, 0.38571428571428573, 'x[21] <= 6.2\\ngini = 0.142\\nsamples = 13\\nvalue = [12, 1]'),\n",
              " Text(0.16483076655355433, 0.35714285714285715, 'x[21] <= 5.675\\ngini = 0.444\\nsamples = 3\\nvalue = [2, 1]'),\n",
              " Text(0.16037588097102584, 0.32857142857142857, 'gini = 0.0\\nsamples = 2\\nvalue = [2, 0]'),\n",
              " Text(0.16928565213608282, 0.32857142857142857, 'gini = 0.0\\nsamples = 1\\nvalue = [0, 1]'),\n",
              " Text(0.17374053771861134, 0.35714285714285715, 'gini = 0.0\\nsamples = 10\\nvalue = [10, 0]'),\n",
              " Text(0.17819542330113983, 0.44285714285714284, 'x[56] <= 9.0\\ngini = 0.444\\nsamples = 3\\nvalue = [2, 1]'),\n",
              " Text(0.17374053771861134, 0.4142857142857143, 'gini = 0.0\\nsamples = 1\\nvalue = [0, 1]'),\n",
              " Text(0.18265030888366832, 0.4142857142857143, 'gini = 0.0\\nsamples = 2\\nvalue = [2, 0]'),\n",
              " Text(0.19156008004872532, 0.4714285714285714, 'x[3] <= 0.43\\ngini = 0.5\\nsamples = 2\\nvalue = [1, 1]'),\n",
              " Text(0.1871051944661968, 0.44285714285714284, 'gini = 0.0\\nsamples = 1\\nvalue = [0, 1]'),\n",
              " Text(0.1960149656312538, 0.44285714285714284, 'gini = 0.0\\nsamples = 1\\nvalue = [1, 0]'),\n",
              " Text(0.2049247367963108, 0.5, 'x[21] <= 0.795\\ngini = 0.337\\nsamples = 14\\nvalue = [11, 3]'),\n",
              " Text(0.2004698512137823, 0.4714285714285714, 'gini = 0.0\\nsamples = 11\\nvalue = [11, 0]'),\n",
              " Text(0.20937962237883928, 0.4714285714285714, 'gini = 0.0\\nsamples = 3\\nvalue = [0, 3]'),\n",
              " Text(0.19946054119899068, 0.5285714285714286, 'gini = 0.0\\nsamples = 1\\nvalue = [0, 1]'),\n",
              " Text(0.2039154267815192, 0.5571428571428572, 'gini = 0.0\\nsamples = 1\\nvalue = [0, 1]'),\n",
              " Text(0.20837031236404768, 0.5857142857142857, 'gini = 0.0\\nsamples = 1\\nvalue = [0, 1]'),\n",
              " Text(0.2744105107456713, 0.6142857142857143, 'x[6] <= 0.785\\ngini = 0.179\\nsamples = 422\\nvalue = [380, 42]'),\n",
              " Text(0.25881841120682153, 0.5857142857142857, 'x[19] <= 6.09\\ngini = 0.159\\nsamples = 413\\nvalue = [377, 36]'),\n",
              " Text(0.24990864004176455, 0.5571428571428572, 'x[0] <= 0.46\\ngini = 0.142\\nsamples = 403\\nvalue = [372, 31]'),\n",
              " Text(0.24545375445923606, 0.5285714285714286, 'x[1] <= 2.16\\ngini = 0.134\\nsamples = 401\\nvalue = [372, 29]'),\n",
              " Text(0.24099886887670757, 0.5, 'x[45] <= 0.045\\ngini = 0.126\\nsamples = 399\\nvalue = [372, 27]'),\n",
              " Text(0.2282084747237449, 0.4714285714285714, 'x[26] <= 0.035\\ngini = 0.191\\nsamples = 243\\nvalue = [217, 26]'),\n",
              " Text(0.2237535891412164, 0.44285714285714284, 'x[17] <= 0.135\\ngini = 0.255\\nsamples = 173\\nvalue = [147, 26]'),\n",
              " Text(0.20262768641781953, 0.4142857142857143, 'x[55] <= 32.5\\ngini = 0.22\\nsamples = 159\\nvalue = [139, 20]'),\n",
              " Text(0.1871051944661968, 0.38571428571428573, 'x[10] <= 3.64\\ngini = 0.146\\nsamples = 126\\nvalue = [116, 10]'),\n",
              " Text(0.18265030888366832, 0.35714285714285715, 'x[16] <= 0.135\\ngini = 0.134\\nsamples = 125\\nvalue = [116, 9]'),\n",
              " Text(0.17819542330113983, 0.32857142857142857, 'x[19] <= 3.925\\ngini = 0.121\\nsamples = 124\\nvalue = [116, 8]'),\n",
              " Text(0.16496998172800836, 0.3, 'x[35] <= 0.69\\ngini = 0.097\\nsamples = 118\\nvalue = [112, 6]'),\n",
              " Text(0.1518837553293309, 0.2714285714285714, 'x[50] <= 0.07\\ngini = 0.082\\nsamples = 116\\nvalue = [111, 5]'),\n",
              " Text(0.13907595927956148, 0.24285714285714285, 'x[56] <= 19.5\\ngini = 0.068\\nsamples = 114\\nvalue = [110, 4]'),\n",
              " Text(0.1268250239276081, 0.21428571428571427, 'x[49] <= 0.289\\ngini = 0.444\\nsamples = 3\\nvalue = [2, 1]'),\n",
              " Text(0.12237013834507961, 0.18571428571428572, 'gini = 0.0\\nsamples = 2\\nvalue = [2, 0]'),\n",
              " Text(0.1312799095101366, 0.18571428571428572, 'gini = 0.0\\nsamples = 1\\nvalue = [0, 1]'),\n",
              " Text(0.15132689463151483, 0.21428571428571427, 'x[51] <= 0.302\\ngini = 0.053\\nsamples = 111\\nvalue = [108, 3]'),\n",
              " Text(0.1401896806751936, 0.18571428571428572, 'x[12] <= 2.36\\ngini = 0.037\\nsamples = 106\\nvalue = [104, 2]'),\n",
              " Text(0.1312799095101366, 0.15714285714285714, 'x[56] <= 33.5\\ngini = 0.02\\nsamples = 99\\nvalue = [98, 1]'),\n",
              " Text(0.1268250239276081, 0.12857142857142856, 'x[56] <= 32.5\\ngini = 0.18\\nsamples = 10\\nvalue = [9, 1]'),\n",
              " Text(0.12237013834507961, 0.1, 'gini = 0.0\\nsamples = 9\\nvalue = [9, 0]'),\n",
              " Text(0.1312799095101366, 0.1, 'gini = 0.0\\nsamples = 1\\nvalue = [0, 1]'),\n",
              " Text(0.1357347950926651, 0.12857142857142856, 'gini = 0.0\\nsamples = 89\\nvalue = [89, 0]'),\n",
              " Text(0.14909945184025059, 0.15714285714285714, 'x[19] <= 1.8\\ngini = 0.245\\nsamples = 7\\nvalue = [6, 1]'),\n",
              " Text(0.1446445662577221, 0.12857142857142856, 'gini = 0.0\\nsamples = 6\\nvalue = [6, 0]'),\n",
              " Text(0.15355433742277907, 0.12857142857142856, 'gini = 0.0\\nsamples = 1\\nvalue = [0, 1]'),\n",
              " Text(0.16246410858783608, 0.18571428571428572, 'x[54] <= 1.487\\ngini = 0.32\\nsamples = 5\\nvalue = [4, 1]'),\n",
              " Text(0.1580092230053076, 0.15714285714285714, 'gini = 0.0\\nsamples = 1\\nvalue = [0, 1]'),\n",
              " Text(0.16691899417036457, 0.15714285714285714, 'gini = 0.0\\nsamples = 4\\nvalue = [4, 0]'),\n",
              " Text(0.16469155137910033, 0.24285714285714285, 'x[11] <= 0.165\\ngini = 0.5\\nsamples = 2\\nvalue = [1, 1]'),\n",
              " Text(0.16023666579657184, 0.21428571428571427, 'gini = 0.0\\nsamples = 1\\nvalue = [0, 1]'),\n",
              " Text(0.16914643696162882, 0.21428571428571427, 'gini = 0.0\\nsamples = 1\\nvalue = [1, 0]'),\n",
              " Text(0.17805620812668582, 0.2714285714285714, 'x[56] <= 123.5\\ngini = 0.5\\nsamples = 2\\nvalue = [1, 1]'),\n",
              " Text(0.1736013225441573, 0.24285714285714285, 'gini = 0.0\\nsamples = 1\\nvalue = [0, 1]'),\n",
              " Text(0.1825110937092143, 0.24285714285714285, 'gini = 0.0\\nsamples = 1\\nvalue = [1, 0]'),\n",
              " Text(0.1914208648742713, 0.3, 'x[19] <= 4.685\\ngini = 0.444\\nsamples = 6\\nvalue = [4, 2]'),\n",
              " Text(0.1869659792917428, 0.2714285714285714, 'gini = 0.0\\nsamples = 2\\nvalue = [0, 2]'),\n",
              " Text(0.19587575045679978, 0.2714285714285714, 'gini = 0.0\\nsamples = 4\\nvalue = [4, 0]'),\n",
              " Text(0.1871051944661968, 0.32857142857142857, 'gini = 0.0\\nsamples = 1\\nvalue = [0, 1]'),\n",
              " Text(0.19156008004872532, 0.35714285714285715, 'gini = 0.0\\nsamples = 1\\nvalue = [0, 1]'),\n",
              " Text(0.21815017836944228, 0.38571428571428573, 'x[55] <= 51.5\\ngini = 0.422\\nsamples = 33\\nvalue = [23, 10]'),\n",
              " Text(0.20924040720438528, 0.35714285714285715, 'x[56] <= 88.5\\ngini = 0.49\\nsamples = 14\\nvalue = [6, 8]'),\n",
              " Text(0.2047855216218568, 0.32857142857142857, 'gini = 0.0\\nsamples = 4\\nvalue = [4, 0]'),\n",
              " Text(0.21369529278691377, 0.32857142857142857, 'x[48] <= 0.106\\ngini = 0.32\\nsamples = 10\\nvalue = [2, 8]'),\n",
              " Text(0.20924040720438528, 0.3, 'x[41] <= 0.22\\ngini = 0.198\\nsamples = 9\\nvalue = [1, 8]'),\n",
              " Text(0.2047855216218568, 0.2714285714285714, 'gini = 0.0\\nsamples = 8\\nvalue = [0, 8]'),\n",
              " Text(0.21369529278691377, 0.2714285714285714, 'gini = 0.0\\nsamples = 1\\nvalue = [1, 0]'),\n",
              " Text(0.21815017836944228, 0.3, 'gini = 0.0\\nsamples = 1\\nvalue = [1, 0]'),\n",
              " Text(0.22705994953449926, 0.35714285714285715, 'x[5] <= 0.085\\ngini = 0.188\\nsamples = 19\\nvalue = [17, 2]'),\n",
              " Text(0.22260506395197077, 0.32857142857142857, 'gini = 0.0\\nsamples = 16\\nvalue = [16, 0]'),\n",
              " Text(0.23151483511702775, 0.32857142857142857, 'x[51] <= 0.049\\ngini = 0.444\\nsamples = 3\\nvalue = [1, 2]'),\n",
              " Text(0.22705994953449926, 0.3, 'gini = 0.0\\nsamples = 2\\nvalue = [0, 2]'),\n",
              " Text(0.23596972069955624, 0.3, 'gini = 0.0\\nsamples = 1\\nvalue = [1, 0]'),\n",
              " Text(0.24487949186461325, 0.4142857142857143, 'x[51] <= 0.056\\ngini = 0.49\\nsamples = 14\\nvalue = [8, 6]'),\n",
              " Text(0.24042460628208476, 0.38571428571428573, 'x[6] <= 0.16\\ngini = 0.397\\nsamples = 11\\nvalue = [8, 3]'),\n",
              " Text(0.23596972069955624, 0.35714285714285715, 'gini = 0.0\\nsamples = 8\\nvalue = [8, 0]'),\n",
              " Text(0.24487949186461325, 0.35714285714285715, 'gini = 0.0\\nsamples = 3\\nvalue = [0, 3]'),\n",
              " Text(0.24933437744714174, 0.38571428571428573, 'gini = 0.0\\nsamples = 3\\nvalue = [0, 3]'),\n",
              " Text(0.23266336030627338, 0.44285714285714284, 'gini = 0.0\\nsamples = 70\\nvalue = [70, 0]'),\n",
              " Text(0.25378926302967025, 0.4714285714285714, 'x[49] <= 0.35\\ngini = 0.013\\nsamples = 156\\nvalue = [155, 1]'),\n",
              " Text(0.24933437744714174, 0.44285714285714284, 'gini = 0.0\\nsamples = 149\\nvalue = [149, 0]'),\n",
              " Text(0.25824414861219874, 0.44285714285714284, 'x[54] <= 3.143\\ngini = 0.245\\nsamples = 7\\nvalue = [6, 1]'),\n",
              " Text(0.25378926302967025, 0.4142857142857143, 'gini = 0.0\\nsamples = 6\\nvalue = [6, 0]'),\n",
              " Text(0.26269903419472723, 0.4142857142857143, 'gini = 0.0\\nsamples = 1\\nvalue = [0, 1]'),\n",
              " Text(0.24990864004176455, 0.5, 'gini = 0.0\\nsamples = 2\\nvalue = [0, 2]'),\n",
              " Text(0.25436352562429304, 0.5285714285714286, 'gini = 0.0\\nsamples = 2\\nvalue = [0, 2]'),\n",
              " Text(0.2677281823718785, 0.5571428571428572, 'x[44] <= 0.585\\ngini = 0.5\\nsamples = 10\\nvalue = [5, 5]'),\n",
              " Text(0.26327329678935, 0.5285714285714286, 'gini = 0.0\\nsamples = 5\\nvalue = [0, 5]'),\n",
              " Text(0.27218306795440705, 0.5285714285714286, 'gini = 0.0\\nsamples = 5\\nvalue = [5, 0]'),\n",
              " Text(0.290002610284521, 0.5857142857142857, 'x[44] <= 0.405\\ngini = 0.444\\nsamples = 9\\nvalue = [3, 6]'),\n",
              " Text(0.2855477247019925, 0.5571428571428572, 'x[8] <= 1.035\\ngini = 0.245\\nsamples = 7\\nvalue = [1, 6]'),\n",
              " Text(0.28109283911946403, 0.5285714285714286, 'gini = 0.0\\nsamples = 6\\nvalue = [0, 6]'),\n",
              " Text(0.290002610284521, 0.5285714285714286, 'gini = 0.0\\nsamples = 1\\nvalue = [1, 0]'),\n",
              " Text(0.2944574958670495, 0.5571428571428572, 'gini = 0.0\\nsamples = 2\\nvalue = [2, 0]'),\n",
              " Text(0.298912381449578, 0.6428571428571429, 'x[55] <= 19.5\\ngini = 0.499\\nsamples = 27\\nvalue = [14, 13]'),\n",
              " Text(0.2944574958670495, 0.6142857142857143, 'gini = 0.0\\nsamples = 12\\nvalue = [12, 0]'),\n",
              " Text(0.3033672670321065, 0.6142857142857143, 'x[34] <= 0.145\\ngini = 0.231\\nsamples = 15\\nvalue = [2, 13]'),\n",
              " Text(0.298912381449578, 0.5857142857142857, 'gini = 0.0\\nsamples = 13\\nvalue = [0, 13]'),\n",
              " Text(0.30782215261463497, 0.5857142857142857, 'gini = 0.0\\nsamples = 2\\nvalue = [2, 0]'),\n",
              " Text(0.34791612285739143, 0.6714285714285714, 'x[11] <= 1.13\\ngini = 0.014\\nsamples = 828\\nvalue = [822, 6]'),\n",
              " Text(0.34346123727486294, 0.6428571428571429, 'x[56] <= 2429.5\\ngini = 0.01\\nsamples = 826\\nvalue = [822, 4]'),\n",
              " Text(0.33009658052727747, 0.6142857142857143, 'x[52] <= 0.053\\ngini = 0.007\\nsamples = 822\\nvalue = [819, 3]'),\n",
              " Text(0.316731923779692, 0.5857142857142857, 'x[32] <= 1.02\\ngini = 0.005\\nsamples = 814\\nvalue = [812, 2]'),\n",
              " Text(0.3033672670321065, 0.5571428571428572, 'x[43] <= 0.385\\ngini = 0.003\\nsamples = 773\\nvalue = [772, 1]'),\n",
              " Text(0.298912381449578, 0.5285714285714286, 'gini = 0.0\\nsamples = 726\\nvalue = [726, 0]'),\n",
              " Text(0.30782215261463497, 0.5285714285714286, 'x[43] <= 0.395\\ngini = 0.042\\nsamples = 47\\nvalue = [46, 1]'),\n",
              " Text(0.3033672670321065, 0.5, 'gini = 0.0\\nsamples = 1\\nvalue = [0, 1]'),\n",
              " Text(0.3122770381971635, 0.5, 'gini = 0.0\\nsamples = 46\\nvalue = [46, 0]'),\n",
              " Text(0.33009658052727747, 0.5571428571428572, 'x[32] <= 1.04\\ngini = 0.048\\nsamples = 41\\nvalue = [40, 1]'),\n",
              " Text(0.325641694944749, 0.5285714285714286, 'x[24] <= 1.545\\ngini = 0.5\\nsamples = 2\\nvalue = [1, 1]'),\n",
              " Text(0.3211868093622205, 0.5, 'gini = 0.0\\nsamples = 1\\nvalue = [1, 0]'),\n",
              " Text(0.33009658052727747, 0.5, 'gini = 0.0\\nsamples = 1\\nvalue = [0, 1]'),\n",
              " Text(0.33455146610980596, 0.5285714285714286, 'gini = 0.0\\nsamples = 39\\nvalue = [39, 0]'),\n",
              " Text(0.34346123727486294, 0.5857142857142857, 'x[11] <= 0.055\\ngini = 0.219\\nsamples = 8\\nvalue = [7, 1]'),\n",
              " Text(0.33900635169233445, 0.5571428571428572, 'gini = 0.0\\nsamples = 6\\nvalue = [6, 0]'),\n",
              " Text(0.34791612285739143, 0.5571428571428572, 'gini = 0.5\\nsamples = 2\\nvalue = [1, 1]'),\n",
              " Text(0.35682589402244846, 0.6142857142857143, 'x[32] <= 0.045\\ngini = 0.375\\nsamples = 4\\nvalue = [3, 1]'),\n",
              " Text(0.35237100843992, 0.5857142857142857, 'gini = 0.0\\nsamples = 1\\nvalue = [0, 1]'),\n",
              " Text(0.36128077960497695, 0.5857142857142857, 'gini = 0.0\\nsamples = 3\\nvalue = [3, 0]'),\n",
              " Text(0.35237100843992, 0.6428571428571429, 'gini = 0.0\\nsamples = 2\\nvalue = [0, 2]'),\n",
              " Text(0.317386670147046, 0.7, 'gini = 0.0\\nsamples = 2\\nvalue = [0, 2]'),\n",
              " Text(0.3218415557295745, 0.7285714285714285, 'gini = 0.0\\nsamples = 2\\nvalue = [0, 2]'),\n",
              " Text(0.4320020882276168, 0.7571428571428571, 'x[8] <= 0.335\\ngini = 0.276\\nsamples = 200\\nvalue = [167, 33]'),\n",
              " Text(0.4175237100843992, 0.7285714285714285, 'x[54] <= 5.74\\ngini = 0.216\\nsamples = 187\\nvalue = [164, 23]'),\n",
              " Text(0.4130688245018707, 0.7, 'x[18] <= 0.435\\ngini = 0.186\\nsamples = 183\\nvalue = [164, 19]'),\n",
              " Text(0.39747672496302094, 0.6714285714285714, 'x[54] <= 3.676\\ngini = 0.15\\nsamples = 172\\nvalue = [158, 14]'),\n",
              " Text(0.38856695379796397, 0.6428571428571429, 'x[17] <= 1.035\\ngini = 0.124\\nsamples = 165\\nvalue = [154, 11]'),\n",
              " Text(0.3841120682154355, 0.6142857142857143, 'x[21] <= 3.555\\ngini = 0.115\\nsamples = 164\\nvalue = [154, 10]'),\n",
              " Text(0.379657182632907, 0.5857142857142857, 'x[10] <= 0.18\\ngini = 0.104\\nsamples = 163\\nvalue = [154, 9]'),\n",
              " Text(0.36239450100060905, 0.5571428571428572, 'x[11] <= 0.36\\ngini = 0.058\\nsamples = 135\\nvalue = [131, 4]'),\n",
              " Text(0.35014356564865573, 0.5285714285714286, 'x[3] <= 2.135\\ngini = 0.044\\nsamples = 133\\nvalue = [130, 3]'),\n",
              " Text(0.33900635169233445, 0.5, 'x[5] <= 7.415\\ngini = 0.031\\nsamples = 129\\nvalue = [127, 2]'),\n",
              " Text(0.33009658052727747, 0.4714285714285714, 'x[19] <= 4.63\\ngini = 0.016\\nsamples = 125\\nvalue = [124, 1]'),\n",
              " Text(0.325641694944749, 0.44285714285714284, 'gini = 0.0\\nsamples = 120\\nvalue = [120, 0]'),\n",
              " Text(0.33455146610980596, 0.44285714285714284, 'x[19] <= 4.835\\ngini = 0.32\\nsamples = 5\\nvalue = [4, 1]'),\n",
              " Text(0.33009658052727747, 0.4142857142857143, 'gini = 0.0\\nsamples = 1\\nvalue = [0, 1]'),\n",
              " Text(0.33900635169233445, 0.4142857142857143, 'gini = 0.0\\nsamples = 4\\nvalue = [4, 0]'),\n",
              " Text(0.34791612285739143, 0.4714285714285714, 'x[49] <= 0.294\\ngini = 0.375\\nsamples = 4\\nvalue = [3, 1]'),\n",
              " Text(0.34346123727486294, 0.44285714285714284, 'gini = 0.0\\nsamples = 3\\nvalue = [3, 0]'),\n",
              " Text(0.35237100843992, 0.44285714285714284, 'gini = 0.0\\nsamples = 1\\nvalue = [0, 1]'),\n",
              " Text(0.36128077960497695, 0.5, 'x[3] <= 2.685\\ngini = 0.375\\nsamples = 4\\nvalue = [3, 1]'),\n",
              " Text(0.35682589402244846, 0.4714285714285714, 'gini = 0.0\\nsamples = 1\\nvalue = [0, 1]'),\n",
              " Text(0.36573566518750544, 0.4714285714285714, 'gini = 0.0\\nsamples = 3\\nvalue = [3, 0]'),\n",
              " Text(0.3746454363525624, 0.5285714285714286, 'x[54] <= 1.332\\ngini = 0.5\\nsamples = 2\\nvalue = [1, 1]'),\n",
              " Text(0.37019055077003393, 0.5, 'gini = 0.0\\nsamples = 1\\nvalue = [1, 0]'),\n",
              " Text(0.3791003219350909, 0.5, 'gini = 0.0\\nsamples = 1\\nvalue = [0, 1]'),\n",
              " Text(0.3969198642652049, 0.5571428571428572, 'x[56] <= 226.0\\ngini = 0.293\\nsamples = 28\\nvalue = [23, 5]'),\n",
              " Text(0.39246497868267644, 0.5285714285714286, 'x[17] <= 0.6\\ngini = 0.204\\nsamples = 26\\nvalue = [23, 3]'),\n",
              " Text(0.3880100931001479, 0.5, 'x[45] <= 0.66\\ngini = 0.147\\nsamples = 25\\nvalue = [23, 2]'),\n",
              " Text(0.3835552075176194, 0.4714285714285714, 'x[54] <= 1.121\\ngini = 0.08\\nsamples = 24\\nvalue = [23, 1]'),\n",
              " Text(0.3791003219350909, 0.44285714285714284, 'gini = 0.0\\nsamples = 1\\nvalue = [0, 1]'),\n",
              " Text(0.3880100931001479, 0.44285714285714284, 'gini = 0.0\\nsamples = 23\\nvalue = [23, 0]'),\n",
              " Text(0.39246497868267644, 0.4714285714285714, 'gini = 0.0\\nsamples = 1\\nvalue = [0, 1]'),\n",
              " Text(0.3969198642652049, 0.5, 'gini = 0.0\\nsamples = 1\\nvalue = [0, 1]'),\n",
              " Text(0.4013747498477334, 0.5285714285714286, 'gini = 0.0\\nsamples = 2\\nvalue = [0, 2]'),\n",
              " Text(0.38856695379796397, 0.5857142857142857, 'gini = 0.0\\nsamples = 1\\nvalue = [0, 1]'),\n",
              " Text(0.39302183938049245, 0.6142857142857143, 'gini = 0.0\\nsamples = 1\\nvalue = [0, 1]'),\n",
              " Text(0.406386496128078, 0.6428571428571429, 'x[54] <= 3.888\\ngini = 0.49\\nsamples = 7\\nvalue = [4, 3]'),\n",
              " Text(0.4019316105455495, 0.6142857142857143, 'gini = 0.0\\nsamples = 3\\nvalue = [0, 3]'),\n",
              " Text(0.41084138171060647, 0.6142857142857143, 'gini = 0.0\\nsamples = 4\\nvalue = [4, 0]'),\n",
              " Text(0.4286609240407204, 0.6714285714285714, 'x[51] <= 0.055\\ngini = 0.496\\nsamples = 11\\nvalue = [6, 5]'),\n",
              " Text(0.42420603845819194, 0.6428571428571429, 'x[18] <= 0.55\\ngini = 0.245\\nsamples = 7\\nvalue = [6, 1]'),\n",
              " Text(0.41975115287566345, 0.6142857142857143, 'gini = 0.0\\nsamples = 1\\nvalue = [0, 1]'),\n",
              " Text(0.4286609240407204, 0.6142857142857143, 'gini = 0.0\\nsamples = 6\\nvalue = [6, 0]'),\n",
              " Text(0.4331158096232489, 0.6428571428571429, 'gini = 0.0\\nsamples = 4\\nvalue = [0, 4]'),\n",
              " Text(0.4219785956669277, 0.7, 'gini = 0.0\\nsamples = 4\\nvalue = [0, 4]'),\n",
              " Text(0.44648046637083444, 0.7285714285714285, 'x[21] <= 0.46\\ngini = 0.355\\nsamples = 13\\nvalue = [3, 10]'),\n",
              " Text(0.44202558078830595, 0.7, 'x[6] <= 0.075\\ngini = 0.48\\nsamples = 5\\nvalue = [3, 2]'),\n",
              " Text(0.4375706952057774, 0.6714285714285714, 'gini = 0.0\\nsamples = 2\\nvalue = [0, 2]'),\n",
              " Text(0.44648046637083444, 0.6714285714285714, 'gini = 0.0\\nsamples = 3\\nvalue = [3, 0]'),\n",
              " Text(0.45093535195336293, 0.7, 'gini = 0.0\\nsamples = 8\\nvalue = [0, 8]'),\n",
              " Text(0.38360415035238843, 0.7857142857142857, 'gini = 0.0\\nsamples = 5\\nvalue = [0, 5]'),\n",
              " Text(0.45427651614025927, 0.8142857142857143, 'x[48] <= 0.311\\ngini = 0.496\\nsamples = 35\\nvalue = [19, 16]'),\n",
              " Text(0.4453667449752023, 0.7857142857142857, 'x[36] <= 0.175\\ngini = 0.208\\nsamples = 17\\nvalue = [2, 15]'),\n",
              " Text(0.4409118593926738, 0.7571428571428571, 'gini = 0.0\\nsamples = 15\\nvalue = [0, 15]'),\n",
              " Text(0.4498216305577308, 0.7571428571428571, 'gini = 0.0\\nsamples = 2\\nvalue = [2, 0]'),\n",
              " Text(0.4631862873053163, 0.7857142857142857, 'x[21] <= 1.87\\ngini = 0.105\\nsamples = 18\\nvalue = [17, 1]'),\n",
              " Text(0.45873140172278776, 0.7571428571428571, 'gini = 0.0\\nsamples = 17\\nvalue = [17, 0]'),\n",
              " Text(0.4676411728878448, 0.7571428571428571, 'gini = 0.0\\nsamples = 1\\nvalue = [0, 1]'),\n",
              " Text(0.49437048638301573, 0.8428571428571429, 'x[54] <= 2.655\\ngini = 0.493\\nsamples = 68\\nvalue = [30, 38]'),\n",
              " Text(0.48546071521795875, 0.8142857142857143, 'x[6] <= 0.185\\ngini = 0.424\\nsamples = 36\\nvalue = [25, 11]'),\n",
              " Text(0.48100582963543026, 0.7857142857142857, 'x[18] <= 0.585\\ngini = 0.342\\nsamples = 32\\nvalue = [25, 7]'),\n",
              " Text(0.47655094405290177, 0.7571428571428571, 'x[42] <= 0.035\\ngini = 0.238\\nsamples = 29\\nvalue = [25, 4]'),\n",
              " Text(0.4676411728878448, 0.7285714285714285, 'x[34] <= 0.59\\ngini = 0.142\\nsamples = 26\\nvalue = [24, 2]'),\n",
              " Text(0.4631862873053163, 0.7, 'x[56] <= 4.5\\ngini = 0.077\\nsamples = 25\\nvalue = [24, 1]'),\n",
              " Text(0.45873140172278776, 0.6714285714285714, 'gini = 0.0\\nsamples = 1\\nvalue = [0, 1]'),\n",
              " Text(0.4676411728878448, 0.6714285714285714, 'gini = 0.0\\nsamples = 24\\nvalue = [24, 0]'),\n",
              " Text(0.4720960584703733, 0.7, 'gini = 0.0\\nsamples = 1\\nvalue = [0, 1]'),\n",
              " Text(0.48546071521795875, 0.7285714285714285, 'x[9] <= 0.035\\ngini = 0.444\\nsamples = 3\\nvalue = [1, 2]'),\n",
              " Text(0.48100582963543026, 0.7, 'gini = 0.0\\nsamples = 1\\nvalue = [1, 0]'),\n",
              " Text(0.48991560080048724, 0.7, 'gini = 0.0\\nsamples = 2\\nvalue = [0, 2]'),\n",
              " Text(0.48546071521795875, 0.7571428571428571, 'gini = 0.0\\nsamples = 3\\nvalue = [0, 3]'),\n",
              " Text(0.48991560080048724, 0.7857142857142857, 'gini = 0.0\\nsamples = 4\\nvalue = [0, 4]'),\n",
              " Text(0.5032802575480727, 0.8142857142857143, 'x[49] <= 0.479\\ngini = 0.264\\nsamples = 32\\nvalue = [5, 27]'),\n",
              " Text(0.4988253719655442, 0.7857142857142857, 'x[18] <= 0.095\\ngini = 0.128\\nsamples = 29\\nvalue = [2, 27]'),\n",
              " Text(0.49437048638301573, 0.7571428571428571, 'gini = 0.0\\nsamples = 27\\nvalue = [0, 27]'),\n",
              " Text(0.5032802575480727, 0.7571428571428571, 'gini = 0.0\\nsamples = 2\\nvalue = [2, 0]'),\n",
              " Text(0.5077351431306012, 0.7857142857142857, 'gini = 0.0\\nsamples = 3\\nvalue = [3, 0]'),\n",
              " Text(0.6269729400504656, 0.8714285714285714, 'x[36] <= 0.195\\ngini = 0.482\\nsamples = 230\\nvalue = [137, 93]'),\n",
              " Text(0.5902897415818325, 0.8428571428571429, 'x[51] <= 0.119\\ngini = 0.5\\nsamples = 179\\nvalue = [91, 88]'),\n",
              " Text(0.5614722004698512, 0.8142857142857143, 'x[5] <= 1.09\\ngini = 0.472\\nsamples = 123\\nvalue = [76, 47]'),\n",
              " Text(0.5394762029061168, 0.7857142857142857, 'x[56] <= 341.0\\ngini = 0.38\\nsamples = 94\\nvalue = [70, 24]'),\n",
              " Text(0.5222135212738188, 0.7571428571428571, 'x[8] <= 0.44\\ngini = 0.323\\nsamples = 84\\nvalue = [67, 17]'),\n",
              " Text(0.5099625859218655, 0.7285714285714285, 'x[32] <= 0.115\\ngini = 0.263\\nsamples = 77\\nvalue = [65, 12]'),\n",
              " Text(0.4988253719655442, 0.7, 'x[16] <= 4.38\\ngini = 0.216\\nsamples = 73\\nvalue = [64, 9]'),\n",
              " Text(0.48991560080048724, 0.6714285714285714, 'x[29] <= 2.385\\ngini = 0.14\\nsamples = 66\\nvalue = [61, 5]'),\n",
              " Text(0.48546071521795875, 0.6428571428571429, 'x[19] <= 1.35\\ngini = 0.116\\nsamples = 65\\nvalue = [61, 4]'),\n",
              " Text(0.48100582963543026, 0.6142857142857143, 'x[10] <= 0.165\\ngini = 0.278\\nsamples = 24\\nvalue = [20, 4]'),\n",
              " Text(0.47655094405290177, 0.5857142857142857, 'x[28] <= 0.235\\ngini = 0.165\\nsamples = 22\\nvalue = [20, 2]'),\n",
              " Text(0.4676411728878448, 0.5571428571428572, 'x[12] <= 1.365\\ngini = 0.095\\nsamples = 20\\nvalue = [19, 1]'),\n",
              " Text(0.4631862873053163, 0.5285714285714286, 'gini = 0.0\\nsamples = 18\\nvalue = [18, 0]'),\n",
              " Text(0.4720960584703733, 0.5285714285714286, 'x[56] <= 22.0\\ngini = 0.5\\nsamples = 2\\nvalue = [1, 1]'),\n",
              " Text(0.4676411728878448, 0.5, 'gini = 0.0\\nsamples = 1\\nvalue = [1, 0]'),\n",
              " Text(0.47655094405290177, 0.5, 'gini = 0.0\\nsamples = 1\\nvalue = [0, 1]'),\n",
              " Text(0.48546071521795875, 0.5571428571428572, 'x[35] <= 0.45\\ngini = 0.5\\nsamples = 2\\nvalue = [1, 1]'),\n",
              " Text(0.48100582963543026, 0.5285714285714286, 'gini = 0.0\\nsamples = 1\\nvalue = [0, 1]'),\n",
              " Text(0.48991560080048724, 0.5285714285714286, 'gini = 0.0\\nsamples = 1\\nvalue = [1, 0]'),\n",
              " Text(0.48546071521795875, 0.5857142857142857, 'gini = 0.0\\nsamples = 2\\nvalue = [0, 2]'),\n",
              " Text(0.48991560080048724, 0.6142857142857143, 'gini = 0.0\\nsamples = 41\\nvalue = [41, 0]'),\n",
              " Text(0.49437048638301573, 0.6428571428571429, 'gini = 0.0\\nsamples = 1\\nvalue = [0, 1]'),\n",
              " Text(0.5077351431306012, 0.6714285714285714, 'x[55] <= 2.5\\ngini = 0.49\\nsamples = 7\\nvalue = [3, 4]'),\n",
              " Text(0.5032802575480727, 0.6428571428571429, 'x[56] <= 3.0\\ngini = 0.375\\nsamples = 4\\nvalue = [3, 1]'),\n",
              " Text(0.4988253719655442, 0.6142857142857143, 'gini = 0.0\\nsamples = 1\\nvalue = [0, 1]'),\n",
              " Text(0.5077351431306012, 0.6142857142857143, 'gini = 0.0\\nsamples = 3\\nvalue = [3, 0]'),\n",
              " Text(0.5121900287131297, 0.6428571428571429, 'gini = 0.0\\nsamples = 3\\nvalue = [0, 3]'),\n",
              " Text(0.5210997998781868, 0.7, 'x[10] <= 0.4\\ngini = 0.375\\nsamples = 4\\nvalue = [1, 3]'),\n",
              " Text(0.5166449142956582, 0.6714285714285714, 'gini = 0.0\\nsamples = 3\\nvalue = [0, 3]'),\n",
              " Text(0.5255546854607153, 0.6714285714285714, 'gini = 0.0\\nsamples = 1\\nvalue = [1, 0]'),\n",
              " Text(0.5344644566257722, 0.7285714285714285, 'x[56] <= 97.0\\ngini = 0.408\\nsamples = 7\\nvalue = [2, 5]'),\n",
              " Text(0.5300095710432438, 0.7, 'gini = 0.0\\nsamples = 4\\nvalue = [0, 4]'),\n",
              " Text(0.5389193422083007, 0.7, 'x[55] <= 7.5\\ngini = 0.444\\nsamples = 3\\nvalue = [2, 1]'),\n",
              " Text(0.5344644566257722, 0.6714285714285714, 'gini = 0.0\\nsamples = 1\\nvalue = [0, 1]'),\n",
              " Text(0.5433742277908292, 0.6714285714285714, 'gini = 0.0\\nsamples = 2\\nvalue = [2, 0]'),\n",
              " Text(0.5567388845384147, 0.7571428571428571, 'x[24] <= 0.96\\ngini = 0.42\\nsamples = 10\\nvalue = [3, 7]'),\n",
              " Text(0.5522839989558862, 0.7285714285714285, 'x[13] <= 0.155\\ngini = 0.219\\nsamples = 8\\nvalue = [1, 7]'),\n",
              " Text(0.5478291133733577, 0.7, 'gini = 0.0\\nsamples = 7\\nvalue = [0, 7]'),\n",
              " Text(0.5567388845384147, 0.7, 'gini = 0.0\\nsamples = 1\\nvalue = [1, 0]'),\n",
              " Text(0.5611937701209432, 0.7285714285714285, 'gini = 0.0\\nsamples = 2\\nvalue = [2, 0]'),\n",
              " Text(0.5834681980335856, 0.7857142857142857, 'x[21] <= 0.31\\ngini = 0.328\\nsamples = 29\\nvalue = [6, 23]'),\n",
              " Text(0.5745584268685286, 0.7571428571428571, 'x[19] <= 3.765\\ngini = 0.278\\nsamples = 6\\nvalue = [5, 1]'),\n",
              " Text(0.5701035412860002, 0.7285714285714285, 'gini = 0.0\\nsamples = 5\\nvalue = [5, 0]'),\n",
              " Text(0.5790133124510571, 0.7285714285714285, 'gini = 0.0\\nsamples = 1\\nvalue = [0, 1]'),\n",
              " Text(0.5923779691986426, 0.7571428571428571, 'x[44] <= 1.055\\ngini = 0.083\\nsamples = 23\\nvalue = [1, 22]'),\n",
              " Text(0.5879230836161141, 0.7285714285714285, 'gini = 0.0\\nsamples = 22\\nvalue = [0, 22]'),\n",
              " Text(0.5968328547811711, 0.7285714285714285, 'gini = 0.0\\nsamples = 1\\nvalue = [1, 0]'),\n",
              " Text(0.6191072826938137, 0.8142857142857143, 'x[56] <= 42.0\\ngini = 0.392\\nsamples = 56\\nvalue = [15, 41]'),\n",
              " Text(0.6057426259462282, 0.7857142857142857, 'x[19] <= 0.52\\ngini = 0.48\\nsamples = 10\\nvalue = [6, 4]'),\n",
              " Text(0.6012877403636997, 0.7571428571428571, 'gini = 0.0\\nsamples = 3\\nvalue = [0, 3]'),\n",
              " Text(0.6101975115287567, 0.7571428571428571, 'x[3] <= 1.315\\ngini = 0.245\\nsamples = 7\\nvalue = [6, 1]'),\n",
              " Text(0.6057426259462282, 0.7285714285714285, 'gini = 0.0\\nsamples = 6\\nvalue = [6, 0]'),\n",
              " Text(0.6146523971112852, 0.7285714285714285, 'gini = 0.0\\nsamples = 1\\nvalue = [0, 1]'),\n",
              " Text(0.6324719394413991, 0.7857142857142857, 'x[3] <= 1.715\\ngini = 0.315\\nsamples = 46\\nvalue = [9, 37]'),\n",
              " Text(0.6280170538588706, 0.7571428571428571, 'x[13] <= 0.6\\ngini = 0.268\\nsamples = 44\\nvalue = [7, 37]'),\n",
              " Text(0.6235621682763421, 0.7285714285714285, 'x[18] <= 1.62\\ngini = 0.21\\nsamples = 42\\nvalue = [5, 37]'),\n",
              " Text(0.6191072826938137, 0.7, 'x[53] <= 0.027\\ngini = 0.139\\nsamples = 40\\nvalue = [3, 37]'),\n",
              " Text(0.6101975115287567, 0.6714285714285714, 'x[11] <= 1.03\\ngini = 0.056\\nsamples = 35\\nvalue = [1, 34]'),\n",
              " Text(0.6057426259462282, 0.6428571428571429, 'gini = 0.0\\nsamples = 33\\nvalue = [0, 33]'),\n",
              " Text(0.6146523971112852, 0.6428571428571429, 'x[8] <= 0.565\\ngini = 0.5\\nsamples = 2\\nvalue = [1, 1]'),\n",
              " Text(0.6101975115287567, 0.6142857142857143, 'gini = 0.0\\nsamples = 1\\nvalue = [1, 0]'),\n",
              " Text(0.6191072826938137, 0.6142857142857143, 'gini = 0.0\\nsamples = 1\\nvalue = [0, 1]'),\n",
              " Text(0.6280170538588706, 0.6714285714285714, 'x[44] <= 0.325\\ngini = 0.48\\nsamples = 5\\nvalue = [2, 3]'),\n",
              " Text(0.6235621682763421, 0.6428571428571429, 'gini = 0.0\\nsamples = 3\\nvalue = [0, 3]'),\n",
              " Text(0.6324719394413991, 0.6428571428571429, 'gini = 0.0\\nsamples = 2\\nvalue = [2, 0]'),\n",
              " Text(0.6280170538588706, 0.7, 'gini = 0.0\\nsamples = 2\\nvalue = [2, 0]'),\n",
              " Text(0.6324719394413991, 0.7285714285714285, 'gini = 0.0\\nsamples = 2\\nvalue = [2, 0]'),\n",
              " Text(0.6369268250239276, 0.7571428571428571, 'gini = 0.0\\nsamples = 2\\nvalue = [2, 0]'),\n",
              " Text(0.6636561385190985, 0.8428571428571429, 'x[17] <= 0.255\\ngini = 0.177\\nsamples = 51\\nvalue = [46, 5]'),\n",
              " Text(0.6547463673540416, 0.8142857142857143, 'x[6] <= 0.53\\ngini = 0.117\\nsamples = 48\\nvalue = [45, 3]'),\n",
              " Text(0.6502914817715131, 0.7857142857142857, 'x[1] <= 0.945\\ngini = 0.081\\nsamples = 47\\nvalue = [45, 2]'),\n",
              " Text(0.6458365961889846, 0.7571428571428571, 'x[15] <= 0.175\\ngini = 0.043\\nsamples = 46\\nvalue = [45, 1]'),\n",
              " Text(0.6413817106064561, 0.7285714285714285, 'gini = 0.0\\nsamples = 44\\nvalue = [44, 0]'),\n",
              " Text(0.6502914817715131, 0.7285714285714285, 'x[55] <= 17.0\\ngini = 0.5\\nsamples = 2\\nvalue = [1, 1]'),\n",
              " Text(0.6458365961889846, 0.7, 'gini = 0.0\\nsamples = 1\\nvalue = [0, 1]'),\n",
              " Text(0.6547463673540416, 0.7, 'gini = 0.0\\nsamples = 1\\nvalue = [1, 0]'),\n",
              " Text(0.6547463673540416, 0.7571428571428571, 'gini = 0.0\\nsamples = 1\\nvalue = [0, 1]'),\n",
              " Text(0.6592012529365701, 0.7857142857142857, 'gini = 0.0\\nsamples = 1\\nvalue = [0, 1]'),\n",
              " Text(0.6725659096841555, 0.8142857142857143, 'x[1] <= 0.215\\ngini = 0.444\\nsamples = 3\\nvalue = [1, 2]'),\n",
              " Text(0.668111024101627, 0.7857142857142857, 'gini = 0.0\\nsamples = 2\\nvalue = [0, 2]'),\n",
              " Text(0.677020795266684, 0.7857142857142857, 'gini = 0.0\\nsamples = 1\\nvalue = [1, 0]'),\n",
              " Text(0.7644479248238057, 0.9, 'x[56] <= 55.5\\ngini = 0.481\\nsamples = 404\\nvalue = [163, 241]'),\n",
              " Text(0.7148873227181762, 0.8714285714285714, 'x[16] <= 0.845\\ngini = 0.408\\nsamples = 182\\nvalue = [130, 52]'),\n",
              " Text(0.7059775515531193, 0.8428571428571429, 'x[17] <= 0.66\\ngini = 0.319\\nsamples = 161\\nvalue = [129, 32]'),\n",
              " Text(0.7015226659705908, 0.8142857142857143, 'x[23] <= 2.66\\ngini = 0.286\\nsamples = 156\\nvalue = [129, 27]'),\n",
              " Text(0.6970677803880623, 0.7857142857142857, 'x[51] <= 0.984\\ngini = 0.257\\nsamples = 152\\nvalue = [129, 23]'),\n",
              " Text(0.6725659096841555, 0.7571428571428571, 'x[54] <= 3.638\\ngini = 0.11\\nsamples = 103\\nvalue = [97, 6]'),\n",
              " Text(0.668111024101627, 0.7285714285714285, 'x[0] <= 0.56\\ngini = 0.076\\nsamples = 101\\nvalue = [97, 4]'),\n",
              " Text(0.6636561385190985, 0.7, 'x[19] <= 2.445\\ngini = 0.058\\nsamples = 100\\nvalue = [97, 3]'),\n",
              " Text(0.6592012529365701, 0.6714285714285714, 'gini = 0.0\\nsamples = 52\\nvalue = [52, 0]'),\n",
              " Text(0.668111024101627, 0.6714285714285714, 'x[19] <= 2.48\\ngini = 0.117\\nsamples = 48\\nvalue = [45, 3]'),\n",
              " Text(0.6636561385190985, 0.6428571428571429, 'gini = 0.0\\nsamples = 1\\nvalue = [0, 1]'),\n",
              " Text(0.6725659096841555, 0.6428571428571429, 'x[51] <= 0.817\\ngini = 0.081\\nsamples = 47\\nvalue = [45, 2]'),\n",
              " Text(0.6636561385190985, 0.6142857142857143, 'x[55] <= 8.5\\ngini = 0.044\\nsamples = 44\\nvalue = [43, 1]'),\n",
              " Text(0.6592012529365701, 0.5857142857142857, 'gini = 0.0\\nsamples = 35\\nvalue = [35, 0]'),\n",
              " Text(0.668111024101627, 0.5857142857142857, 'x[56] <= 24.0\\ngini = 0.198\\nsamples = 9\\nvalue = [8, 1]'),\n",
              " Text(0.6636561385190985, 0.5571428571428572, 'x[56] <= 20.5\\ngini = 0.5\\nsamples = 2\\nvalue = [1, 1]'),\n",
              " Text(0.6592012529365701, 0.5285714285714286, 'gini = 0.0\\nsamples = 1\\nvalue = [1, 0]'),\n",
              " Text(0.668111024101627, 0.5285714285714286, 'gini = 0.0\\nsamples = 1\\nvalue = [0, 1]'),\n",
              " Text(0.6725659096841555, 0.5571428571428572, 'gini = 0.0\\nsamples = 7\\nvalue = [7, 0]'),\n",
              " Text(0.6814756808492126, 0.6142857142857143, 'x[19] <= 4.72\\ngini = 0.444\\nsamples = 3\\nvalue = [2, 1]'),\n",
              " Text(0.677020795266684, 0.5857142857142857, 'gini = 0.0\\nsamples = 1\\nvalue = [0, 1]'),\n",
              " Text(0.6859305664317411, 0.5857142857142857, 'gini = 0.0\\nsamples = 2\\nvalue = [2, 0]'),\n",
              " Text(0.6725659096841555, 0.7, 'gini = 0.0\\nsamples = 1\\nvalue = [0, 1]'),\n",
              " Text(0.677020795266684, 0.7285714285714285, 'gini = 0.0\\nsamples = 2\\nvalue = [0, 2]'),\n",
              " Text(0.721569651091969, 0.7571428571428571, 'x[19] <= 3.635\\ngini = 0.453\\nsamples = 49\\nvalue = [32, 17]'),\n",
              " Text(0.712659879926912, 0.7285714285714285, 'x[56] <= 2.5\\ngini = 0.305\\nsamples = 32\\nvalue = [26, 6]'),\n",
              " Text(0.7082049943443836, 0.7, 'gini = 0.0\\nsamples = 2\\nvalue = [0, 2]'),\n",
              " Text(0.7171147655094405, 0.7, 'x[11] <= 0.615\\ngini = 0.231\\nsamples = 30\\nvalue = [26, 4]'),\n",
              " Text(0.712659879926912, 0.6714285714285714, 'x[5] <= 0.655\\ngini = 0.185\\nsamples = 29\\nvalue = [26, 3]'),\n",
              " Text(0.7082049943443836, 0.6428571428571429, 'x[51] <= 1.083\\ngini = 0.133\\nsamples = 28\\nvalue = [26, 2]'),\n",
              " Text(0.6992952231793266, 0.6142857142857143, 'x[56] <= 18.0\\ngini = 0.444\\nsamples = 3\\nvalue = [2, 1]'),\n",
              " Text(0.6948403375967981, 0.5857142857142857, 'gini = 0.0\\nsamples = 2\\nvalue = [2, 0]'),\n",
              " Text(0.7037501087618551, 0.5857142857142857, 'gini = 0.0\\nsamples = 1\\nvalue = [0, 1]'),\n",
              " Text(0.7171147655094405, 0.6142857142857143, 'x[56] <= 7.5\\ngini = 0.077\\nsamples = 25\\nvalue = [24, 1]'),\n",
              " Text(0.712659879926912, 0.5857142857142857, 'x[56] <= 6.5\\ngini = 0.245\\nsamples = 7\\nvalue = [6, 1]'),\n",
              " Text(0.7082049943443836, 0.5571428571428572, 'gini = 0.0\\nsamples = 5\\nvalue = [5, 0]'),\n",
              " Text(0.7171147655094405, 0.5571428571428572, 'x[51] <= 1.535\\ngini = 0.5\\nsamples = 2\\nvalue = [1, 1]'),\n",
              " Text(0.712659879926912, 0.5285714285714286, 'gini = 0.0\\nsamples = 1\\nvalue = [1, 0]'),\n",
              " Text(0.721569651091969, 0.5285714285714286, 'gini = 0.0\\nsamples = 1\\nvalue = [0, 1]'),\n",
              " Text(0.721569651091969, 0.5857142857142857, 'gini = 0.0\\nsamples = 18\\nvalue = [18, 0]'),\n",
              " Text(0.7171147655094405, 0.6428571428571429, 'gini = 0.0\\nsamples = 1\\nvalue = [0, 1]'),\n",
              " Text(0.721569651091969, 0.6714285714285714, 'gini = 0.0\\nsamples = 1\\nvalue = [0, 1]'),\n",
              " Text(0.730479422257026, 0.7285714285714285, 'x[55] <= 4.0\\ngini = 0.457\\nsamples = 17\\nvalue = [6, 11]'),\n",
              " Text(0.7260245366744975, 0.7, 'gini = 0.0\\nsamples = 5\\nvalue = [5, 0]'),\n",
              " Text(0.7349343078395545, 0.7, 'x[56] <= 44.5\\ngini = 0.153\\nsamples = 12\\nvalue = [1, 11]'),\n",
              " Text(0.730479422257026, 0.6714285714285714, 'gini = 0.0\\nsamples = 11\\nvalue = [0, 11]'),\n",
              " Text(0.739389193422083, 0.6714285714285714, 'gini = 0.0\\nsamples = 1\\nvalue = [1, 0]'),\n",
              " Text(0.7059775515531193, 0.7857142857142857, 'gini = 0.0\\nsamples = 4\\nvalue = [0, 4]'),\n",
              " Text(0.7104324371356477, 0.8142857142857143, 'gini = 0.0\\nsamples = 5\\nvalue = [0, 5]'),\n",
              " Text(0.7237970938832333, 0.8428571428571429, 'x[51] <= 0.451\\ngini = 0.091\\nsamples = 21\\nvalue = [1, 20]'),\n",
              " Text(0.7193422083007047, 0.8142857142857143, 'gini = 0.0\\nsamples = 1\\nvalue = [1, 0]'),\n",
              " Text(0.7282519794657618, 0.8142857142857143, 'gini = 0.0\\nsamples = 20\\nvalue = [0, 20]'),\n",
              " Text(0.8140085269294353, 0.8714285714285714, 'x[45] <= 0.065\\ngini = 0.253\\nsamples = 222\\nvalue = [33, 189]'),\n",
              " Text(0.8095536413469068, 0.8428571428571429, 'x[26] <= 1.375\\ngini = 0.206\\nsamples = 214\\nvalue = [25, 189]'),\n",
              " Text(0.8050987557643783, 0.8142857142857143, 'x[44] <= 0.585\\ngini = 0.173\\nsamples = 209\\nvalue = [20, 189]'),\n",
              " Text(0.7939615418080571, 0.7857142857142857, 'x[24] <= 0.225\\ngini = 0.126\\nsamples = 193\\nvalue = [13, 180]'),\n",
              " Text(0.7850517706430001, 0.7571428571428571, 'x[41] <= 0.095\\ngini = 0.109\\nsamples = 190\\nvalue = [11, 179]'),\n",
              " Text(0.7805968850604716, 0.7285714285714285, 'x[49] <= 0.634\\ngini = 0.1\\nsamples = 189\\nvalue = [10, 179]'),\n",
              " Text(0.776141999477943, 0.7, 'x[12] <= 2.92\\ngini = 0.091\\nsamples = 188\\nvalue = [9, 179]'),\n",
              " Text(0.7716871138954146, 0.6714285714285714, 'x[51] <= 5.971\\ngini = 0.082\\nsamples = 187\\nvalue = [8, 179]'),\n",
              " Text(0.7672322283128861, 0.6428571428571429, 'x[42] <= 0.43\\ngini = 0.072\\nsamples = 186\\nvalue = [7, 179]'),\n",
              " Text(0.7549812929609327, 0.6142857142857143, 'x[51] <= 0.564\\ngini = 0.063\\nsamples = 184\\nvalue = [6, 178]'),\n",
              " Text(0.7438440790046115, 0.5857142857142857, 'x[51] <= 0.56\\ngini = 0.187\\nsamples = 48\\nvalue = [5, 43]'),\n",
              " Text(0.7349343078395545, 0.5571428571428572, 'x[12] <= 1.445\\ngini = 0.124\\nsamples = 45\\nvalue = [3, 42]'),\n",
              " Text(0.730479422257026, 0.5285714285714286, 'x[55] <= 52.0\\ngini = 0.087\\nsamples = 44\\nvalue = [2, 42]'),\n",
              " Text(0.7260245366744975, 0.5, 'gini = 0.0\\nsamples = 34\\nvalue = [0, 34]'),\n",
              " Text(0.7349343078395545, 0.5, 'x[54] <= 3.812\\ngini = 0.32\\nsamples = 10\\nvalue = [2, 8]'),\n",
              " Text(0.730479422257026, 0.4714285714285714, 'x[3] <= 0.335\\ngini = 0.444\\nsamples = 3\\nvalue = [2, 1]'),\n",
              " Text(0.7260245366744975, 0.44285714285714284, 'gini = 0.0\\nsamples = 1\\nvalue = [0, 1]'),\n",
              " Text(0.7349343078395545, 0.44285714285714284, 'gini = 0.0\\nsamples = 2\\nvalue = [2, 0]'),\n",
              " Text(0.739389193422083, 0.4714285714285714, 'gini = 0.0\\nsamples = 7\\nvalue = [0, 7]'),\n",
              " Text(0.739389193422083, 0.5285714285714286, 'gini = 0.0\\nsamples = 1\\nvalue = [1, 0]'),\n",
              " Text(0.7527538501696684, 0.5571428571428572, 'x[3] <= 0.275\\ngini = 0.444\\nsamples = 3\\nvalue = [2, 1]'),\n",
              " Text(0.74829896458714, 0.5285714285714286, 'gini = 0.0\\nsamples = 1\\nvalue = [0, 1]'),\n",
              " Text(0.7572087357521969, 0.5285714285714286, 'gini = 0.0\\nsamples = 2\\nvalue = [2, 0]'),\n",
              " Text(0.766118506917254, 0.5857142857142857, 'x[1] <= 0.685\\ngini = 0.015\\nsamples = 136\\nvalue = [1, 135]'),\n",
              " Text(0.7616636213347255, 0.5571428571428572, 'gini = 0.0\\nsamples = 131\\nvalue = [0, 131]'),\n",
              " Text(0.7705733924997825, 0.5571428571428572, 'x[1] <= 0.7\\ngini = 0.32\\nsamples = 5\\nvalue = [1, 4]'),\n",
              " Text(0.766118506917254, 0.5285714285714286, 'gini = 0.0\\nsamples = 1\\nvalue = [1, 0]'),\n",
              " Text(0.775028278082311, 0.5285714285714286, 'gini = 0.0\\nsamples = 4\\nvalue = [0, 4]'),\n",
              " Text(0.7794831636648395, 0.6142857142857143, 'x[19] <= 2.1\\ngini = 0.5\\nsamples = 2\\nvalue = [1, 1]'),\n",
              " Text(0.775028278082311, 0.5857142857142857, 'gini = 0.0\\nsamples = 1\\nvalue = [1, 0]'),\n",
              " Text(0.783938049247368, 0.5857142857142857, 'gini = 0.0\\nsamples = 1\\nvalue = [0, 1]'),\n",
              " Text(0.776141999477943, 0.6428571428571429, 'gini = 0.0\\nsamples = 1\\nvalue = [1, 0]'),\n",
              " Text(0.7805968850604716, 0.6714285714285714, 'gini = 0.0\\nsamples = 1\\nvalue = [1, 0]'),\n",
              " Text(0.7850517706430001, 0.7, 'gini = 0.0\\nsamples = 1\\nvalue = [1, 0]'),\n",
              " Text(0.7895066562255286, 0.7285714285714285, 'gini = 0.0\\nsamples = 1\\nvalue = [1, 0]'),\n",
              " Text(0.8028713129731141, 0.7571428571428571, 'x[12] <= 0.225\\ngini = 0.444\\nsamples = 3\\nvalue = [2, 1]'),\n",
              " Text(0.7984164273905856, 0.7285714285714285, 'gini = 0.0\\nsamples = 1\\nvalue = [0, 1]'),\n",
              " Text(0.8073261985556426, 0.7285714285714285, 'gini = 0.0\\nsamples = 2\\nvalue = [2, 0]'),\n",
              " Text(0.8162359697206996, 0.7857142857142857, 'x[51] <= 0.728\\ngini = 0.492\\nsamples = 16\\nvalue = [7, 9]'),\n",
              " Text(0.8117810841381711, 0.7571428571428571, 'gini = 0.0\\nsamples = 5\\nvalue = [5, 0]'),\n",
              " Text(0.820690855303228, 0.7571428571428571, 'x[41] <= 1.29\\ngini = 0.298\\nsamples = 11\\nvalue = [2, 9]'),\n",
              " Text(0.8162359697206996, 0.7285714285714285, 'x[56] <= 58.5\\ngini = 0.18\\nsamples = 10\\nvalue = [1, 9]'),\n",
              " Text(0.8117810841381711, 0.7, 'gini = 0.0\\nsamples = 1\\nvalue = [1, 0]'),\n",
              " Text(0.820690855303228, 0.7, 'gini = 0.0\\nsamples = 9\\nvalue = [0, 9]'),\n",
              " Text(0.8251457408857565, 0.7285714285714285, 'gini = 0.0\\nsamples = 1\\nvalue = [1, 0]'),\n",
              " Text(0.8140085269294353, 0.8142857142857143, 'gini = 0.0\\nsamples = 5\\nvalue = [5, 0]'),\n",
              " Text(0.8184634125119638, 0.8428571428571429, 'gini = 0.0\\nsamples = 8\\nvalue = [8, 0]'),\n",
              " Text(0.8969807709040285, 0.9285714285714286, 'x[26] <= 0.14\\ngini = 0.165\\nsamples = 330\\nvalue = [30, 300]'),\n",
              " Text(0.8925258853215, 0.9, 'x[45] <= 0.115\\ngini = 0.102\\nsamples = 317\\nvalue = [17, 300]'),\n",
              " Text(0.8813886713651788, 0.8714285714285714, 'x[24] <= 0.3\\ngini = 0.08\\nsamples = 311\\nvalue = [13, 298]'),\n",
              " Text(0.8724789002001219, 0.8428571428571429, 'x[10] <= 2.48\\ngini = 0.057\\nsamples = 304\\nvalue = [9, 295]'),\n",
              " Text(0.8680240146175933, 0.8142857142857143, 'x[29] <= 0.98\\ngini = 0.051\\nsamples = 303\\nvalue = [8, 295]'),\n",
              " Text(0.8635691290350648, 0.7857142857142857, 'x[32] <= 1.58\\ngini = 0.045\\nsamples = 302\\nvalue = [7, 295]'),\n",
              " Text(0.8591142434525363, 0.7571428571428571, 'x[52] <= 0.048\\ngini = 0.039\\nsamples = 301\\nvalue = [6, 295]'),\n",
              " Text(0.8418515618202385, 0.7285714285714285, 'x[14] <= 0.4\\ngini = 0.027\\nsamples = 292\\nvalue = [4, 288]'),\n",
              " Text(0.829600626468285, 0.7, 'x[7] <= 2.9\\ngini = 0.021\\nsamples = 288\\nvalue = [3, 285]'),\n",
              " Text(0.8184634125119638, 0.6714285714285714, 'x[10] <= 1.75\\ngini = 0.014\\nsamples = 281\\nvalue = [2, 279]'),\n",
              " Text(0.8095536413469068, 0.6428571428571429, 'x[55] <= 5.5\\ngini = 0.007\\nsamples = 273\\nvalue = [1, 272]'),\n",
              " Text(0.8050987557643783, 0.6142857142857143, 'x[56] <= 84.0\\ngini = 0.124\\nsamples = 15\\nvalue = [1, 14]'),\n",
              " Text(0.8006438701818498, 0.5857142857142857, 'gini = 0.0\\nsamples = 14\\nvalue = [0, 14]'),\n",
              " Text(0.8095536413469068, 0.5857142857142857, 'gini = 0.0\\nsamples = 1\\nvalue = [1, 0]'),\n",
              " Text(0.8140085269294353, 0.6142857142857143, 'gini = 0.0\\nsamples = 258\\nvalue = [0, 258]'),\n",
              " Text(0.8273731836770208, 0.6428571428571429, 'x[16] <= 1.67\\ngini = 0.219\\nsamples = 8\\nvalue = [1, 7]'),\n",
              " Text(0.8229182980944924, 0.6142857142857143, 'gini = 0.0\\nsamples = 7\\nvalue = [0, 7]'),\n",
              " Text(0.8318280692595493, 0.6142857142857143, 'gini = 0.0\\nsamples = 1\\nvalue = [1, 0]'),\n",
              " Text(0.8407378404246063, 0.6714285714285714, 'x[7] <= 3.095\\ngini = 0.245\\nsamples = 7\\nvalue = [1, 6]'),\n",
              " Text(0.8362829548420778, 0.6428571428571429, 'gini = 0.0\\nsamples = 1\\nvalue = [1, 0]'),\n",
              " Text(0.8451927260071348, 0.6428571428571429, 'gini = 0.0\\nsamples = 6\\nvalue = [0, 6]'),\n",
              " Text(0.8541024971721918, 0.7, 'x[55] <= 67.0\\ngini = 0.375\\nsamples = 4\\nvalue = [1, 3]'),\n",
              " Text(0.8496476115896633, 0.6714285714285714, 'gini = 0.0\\nsamples = 3\\nvalue = [0, 3]'),\n",
              " Text(0.8585573827547203, 0.6714285714285714, 'gini = 0.0\\nsamples = 1\\nvalue = [1, 0]'),\n",
              " Text(0.8763769250848342, 0.7285714285714285, 'x[19] <= 2.015\\ngini = 0.346\\nsamples = 9\\nvalue = [2, 7]'),\n",
              " Text(0.8719220395023057, 0.7, 'x[6] <= 0.23\\ngini = 0.444\\nsamples = 3\\nvalue = [2, 1]'),\n",
              " Text(0.8674671539197772, 0.6714285714285714, 'gini = 0.0\\nsamples = 2\\nvalue = [2, 0]'),\n",
              " Text(0.8763769250848342, 0.6714285714285714, 'gini = 0.0\\nsamples = 1\\nvalue = [0, 1]'),\n",
              " Text(0.8808318106673627, 0.7, 'gini = 0.0\\nsamples = 6\\nvalue = [0, 6]'),\n",
              " Text(0.8680240146175933, 0.7571428571428571, 'gini = 0.0\\nsamples = 1\\nvalue = [1, 0]'),\n",
              " Text(0.8724789002001219, 0.7857142857142857, 'gini = 0.0\\nsamples = 1\\nvalue = [1, 0]'),\n",
              " Text(0.8769337857826504, 0.8142857142857143, 'gini = 0.0\\nsamples = 1\\nvalue = [1, 0]'),\n",
              " Text(0.8902984425302358, 0.8428571428571429, 'x[25] <= 0.17\\ngini = 0.49\\nsamples = 7\\nvalue = [4, 3]'),\n",
              " Text(0.8858435569477073, 0.8142857142857143, 'gini = 0.0\\nsamples = 3\\nvalue = [3, 0]'),\n",
              " Text(0.8947533281127643, 0.8142857142857143, 'x[24] <= 0.43\\ngini = 0.375\\nsamples = 4\\nvalue = [1, 3]'),\n",
              " Text(0.8902984425302358, 0.7857142857142857, 'gini = 0.5\\nsamples = 2\\nvalue = [1, 1]'),\n",
              " Text(0.8992082136952928, 0.7857142857142857, 'gini = 0.0\\nsamples = 2\\nvalue = [0, 2]'),\n",
              " Text(0.9036630992778213, 0.8714285714285714, 'x[18] <= 0.115\\ngini = 0.444\\nsamples = 6\\nvalue = [4, 2]'),\n",
              " Text(0.8992082136952928, 0.8428571428571429, 'gini = 0.0\\nsamples = 2\\nvalue = [0, 2]'),\n",
              " Text(0.9081179848603498, 0.8428571428571429, 'gini = 0.0\\nsamples = 4\\nvalue = [4, 0]'),\n",
              " Text(0.901435656486557, 0.9, 'gini = 0.0\\nsamples = 13\\nvalue = [13, 0]'),\n",
              " Text(0.9725746106325589, 0.9571428571428572, 'x[24] <= 0.4\\ngini = 0.208\\nsamples = 1130\\nvalue = [133, 997]'),\n",
              " Text(0.9540589924301749, 0.9285714285714286, 'x[45] <= 0.49\\ngini = 0.123\\nsamples = 1060\\nvalue = [70, 990]'),\n",
              " Text(0.9496041068476464, 0.9, 'x[55] <= 6.5\\ngini = 0.1\\nsamples = 1045\\nvalue = [55, 990]'),\n",
              " Text(0.9259375271904637, 0.8714285714285714, 'x[19] <= 2.845\\ngini = 0.473\\nsamples = 26\\nvalue = [16, 10]'),\n",
              " Text(0.9170277560254068, 0.8428571428571429, 'x[2] <= 0.515\\ngini = 0.124\\nsamples = 15\\nvalue = [14, 1]'),\n",
              " Text(0.9125728704428783, 0.8142857142857143, 'gini = 0.0\\nsamples = 14\\nvalue = [14, 0]'),\n",
              " Text(0.9214826416079352, 0.8142857142857143, 'gini = 0.0\\nsamples = 1\\nvalue = [0, 1]'),\n",
              " Text(0.9348472983555207, 0.8428571428571429, 'x[54] <= 1.427\\ngini = 0.298\\nsamples = 11\\nvalue = [2, 9]'),\n",
              " Text(0.9303924127729922, 0.8142857142857143, 'x[54] <= 1.121\\ngini = 0.444\\nsamples = 3\\nvalue = [2, 1]'),\n",
              " Text(0.9259375271904637, 0.7857142857142857, 'gini = 0.0\\nsamples = 1\\nvalue = [0, 1]'),\n",
              " Text(0.9348472983555207, 0.7857142857142857, 'gini = 0.0\\nsamples = 2\\nvalue = [2, 0]'),\n",
              " Text(0.9393021839380492, 0.8142857142857143, 'gini = 0.0\\nsamples = 8\\nvalue = [0, 8]'),\n",
              " Text(0.9732706865048291, 0.8714285714285714, 'x[26] <= 0.21\\ngini = 0.074\\nsamples = 1019\\nvalue = [39, 980]'),\n",
              " Text(0.9643609153397721, 0.8428571428571429, 'x[47] <= 0.525\\ngini = 0.063\\nsamples = 1012\\nvalue = [33, 979]'),\n",
              " Text(0.9599060297572435, 0.8142857142857143, 'x[25] <= 0.16\\ngini = 0.06\\nsamples = 1010\\nvalue = [31, 979]'),\n",
              " Text(0.9437570695205777, 0.7857142857142857, 'x[49] <= 0.427\\ngini = 0.054\\nsamples = 1005\\nvalue = [28, 977]'),\n",
              " Text(0.9248238057948316, 0.7571428571428571, 'x[45] <= 0.225\\ngini = 0.042\\nsamples = 980\\nvalue = [21, 959]'),\n",
              " Text(0.9136865918385104, 0.7285714285714285, 'x[41] <= 0.19\\ngini = 0.036\\nsamples = 974\\nvalue = [18, 956]'),\n",
              " Text(0.9047768206734534, 0.7, 'x[28] <= 0.185\\ngini = 0.032\\nsamples = 971\\nvalue = [16, 955]'),\n",
              " Text(0.900321935090925, 0.6714285714285714, 'x[42] <= 0.33\\ngini = 0.03\\nsamples = 970\\nvalue = [15, 955]'),\n",
              " Text(0.8958670495083965, 0.6428571428571429, 'x[55] <= 9.5\\ngini = 0.028\\nsamples = 969\\nvalue = [14, 955]'),\n",
              " Text(0.8730357608979379, 0.6142857142857143, 'x[55] <= 8.5\\ngini = 0.291\\nsamples = 17\\nvalue = [3, 14]'),\n",
              " Text(0.8685808753154094, 0.5857142857142857, 'gini = 0.0\\nsamples = 13\\nvalue = [0, 13]'),\n",
              " Text(0.8774906464804664, 0.5857142857142857, 'x[20] <= 0.58\\ngini = 0.375\\nsamples = 4\\nvalue = [3, 1]'),\n",
              " Text(0.8730357608979379, 0.5571428571428572, 'gini = 0.0\\nsamples = 3\\nvalue = [3, 0]'),\n",
              " Text(0.8819455320629949, 0.5571428571428572, 'gini = 0.0\\nsamples = 1\\nvalue = [0, 1]'),\n",
              " Text(0.9186983381188549, 0.6142857142857143, 'x[36] <= 0.085\\ngini = 0.023\\nsamples = 952\\nvalue = [11, 941]'),\n",
              " Text(0.9019925171843731, 0.5857142857142857, 'x[13] <= 1.785\\ngini = 0.015\\nsamples = 903\\nvalue = [7, 896]'),\n",
              " Text(0.8908553032280518, 0.5571428571428572, 'x[54] <= 2.463\\ngini = 0.013\\nsamples = 898\\nvalue = [6, 892]'),\n",
              " Text(0.8819455320629949, 0.5285714285714286, 'x[54] <= 2.459\\ngini = 0.05\\nsamples = 194\\nvalue = [5, 189]'),\n",
              " Text(0.8774906464804664, 0.5, 'x[52] <= 0.801\\ngini = 0.041\\nsamples = 193\\nvalue = [4, 189]'),\n",
              " Text(0.8730357608979379, 0.4714285714285714, 'x[23] <= 0.805\\ngini = 0.031\\nsamples = 192\\nvalue = [3, 189]'),\n",
              " Text(0.8685808753154094, 0.44285714285714284, 'x[53] <= 0.085\\ngini = 0.021\\nsamples = 191\\nvalue = [2, 189]'),\n",
              " Text(0.8596711041503524, 0.4142857142857143, 'x[53] <= 0.036\\ngini = 0.011\\nsamples = 185\\nvalue = [1, 184]'),\n",
              " Text(0.8552162185678239, 0.38571428571428573, 'gini = 0.0\\nsamples = 165\\nvalue = [0, 165]'),\n",
              " Text(0.8641259897328809, 0.38571428571428573, 'x[53] <= 0.046\\ngini = 0.095\\nsamples = 20\\nvalue = [1, 19]'),\n",
              " Text(0.8596711041503524, 0.35714285714285715, 'gini = 0.0\\nsamples = 1\\nvalue = [1, 0]'),\n",
              " Text(0.8685808753154094, 0.35714285714285715, 'gini = 0.0\\nsamples = 19\\nvalue = [0, 19]'),\n",
              " Text(0.8774906464804664, 0.4142857142857143, 'x[52] <= 0.102\\ngini = 0.278\\nsamples = 6\\nvalue = [1, 5]'),\n",
              " Text(0.8730357608979379, 0.38571428571428573, 'gini = 0.0\\nsamples = 1\\nvalue = [1, 0]'),\n",
              " Text(0.8819455320629949, 0.38571428571428573, 'gini = 0.0\\nsamples = 5\\nvalue = [0, 5]'),\n",
              " Text(0.8774906464804664, 0.44285714285714284, 'gini = 0.0\\nsamples = 1\\nvalue = [1, 0]'),\n",
              " Text(0.8819455320629949, 0.4714285714285714, 'gini = 0.0\\nsamples = 1\\nvalue = [1, 0]'),\n",
              " Text(0.8864004176455234, 0.5, 'gini = 0.0\\nsamples = 1\\nvalue = [1, 0]'),\n",
              " Text(0.8997650743931088, 0.5285714285714286, 'x[16] <= 2.605\\ngini = 0.003\\nsamples = 704\\nvalue = [1, 703]'),\n",
              " Text(0.8953101888105803, 0.5, 'gini = 0.0\\nsamples = 692\\nvalue = [0, 692]'),\n",
              " Text(0.9042199599756373, 0.5, 'x[16] <= 2.77\\ngini = 0.153\\nsamples = 12\\nvalue = [1, 11]'),\n",
              " Text(0.8997650743931088, 0.4714285714285714, 'gini = 0.0\\nsamples = 1\\nvalue = [1, 0]'),\n",
              " Text(0.9086748455581658, 0.4714285714285714, 'gini = 0.0\\nsamples = 11\\nvalue = [0, 11]'),\n",
              " Text(0.9131297311406943, 0.5571428571428572, 'x[12] <= 0.585\\ngini = 0.32\\nsamples = 5\\nvalue = [1, 4]'),\n",
              " Text(0.9086748455581658, 0.5285714285714286, 'gini = 0.0\\nsamples = 3\\nvalue = [0, 3]'),\n",
              " Text(0.9175846167232228, 0.5285714285714286, 'gini = 0.5\\nsamples = 2\\nvalue = [1, 1]'),\n",
              " Text(0.9354041590533368, 0.5857142857142857, 'x[26] <= 0.08\\ngini = 0.15\\nsamples = 49\\nvalue = [4, 45]'),\n",
              " Text(0.9309492734708084, 0.5571428571428572, 'x[36] <= 0.095\\ngini = 0.117\\nsamples = 48\\nvalue = [3, 45]'),\n",
              " Text(0.9264943878882799, 0.5285714285714286, 'gini = 0.0\\nsamples = 1\\nvalue = [1, 0]'),\n",
              " Text(0.9354041590533368, 0.5285714285714286, 'x[52] <= 0.062\\ngini = 0.081\\nsamples = 47\\nvalue = [2, 45]'),\n",
              " Text(0.9264943878882799, 0.5, 'x[19] <= 2.375\\ngini = 0.5\\nsamples = 2\\nvalue = [1, 1]'),\n",
              " Text(0.9220395023057514, 0.4714285714285714, 'gini = 0.0\\nsamples = 1\\nvalue = [1, 0]'),\n",
              " Text(0.9309492734708084, 0.4714285714285714, 'gini = 0.0\\nsamples = 1\\nvalue = [0, 1]'),\n",
              " Text(0.9443139302183938, 0.5, 'x[3] <= 1.155\\ngini = 0.043\\nsamples = 45\\nvalue = [1, 44]'),\n",
              " Text(0.9398590446358653, 0.4714285714285714, 'gini = 0.0\\nsamples = 41\\nvalue = [0, 41]'),\n",
              " Text(0.9487688158009223, 0.4714285714285714, 'x[52] <= 0.39\\ngini = 0.375\\nsamples = 4\\nvalue = [1, 3]'),\n",
              " Text(0.9443139302183938, 0.44285714285714284, 'gini = 0.0\\nsamples = 1\\nvalue = [1, 0]'),\n",
              " Text(0.9532237013834508, 0.44285714285714284, 'gini = 0.0\\nsamples = 3\\nvalue = [0, 3]'),\n",
              " Text(0.9398590446358653, 0.5571428571428572, 'gini = 0.0\\nsamples = 1\\nvalue = [1, 0]'),\n",
              " Text(0.9047768206734534, 0.6428571428571429, 'gini = 0.0\\nsamples = 1\\nvalue = [1, 0]'),\n",
              " Text(0.9092317062559819, 0.6714285714285714, 'gini = 0.0\\nsamples = 1\\nvalue = [1, 0]'),\n",
              " Text(0.9225963630035674, 0.7, 'x[19] <= 0.68\\ngini = 0.444\\nsamples = 3\\nvalue = [2, 1]'),\n",
              " Text(0.9181414774210389, 0.6714285714285714, 'gini = 0.0\\nsamples = 1\\nvalue = [0, 1]'),\n",
              " Text(0.9270512485860959, 0.6714285714285714, 'gini = 0.0\\nsamples = 2\\nvalue = [2, 0]'),\n",
              " Text(0.9359610197511529, 0.7285714285714285, 'x[54] <= 1.729\\ngini = 0.5\\nsamples = 6\\nvalue = [3, 3]'),\n",
              " Text(0.9315061341686244, 0.7, 'gini = 0.0\\nsamples = 2\\nvalue = [2, 0]'),\n",
              " Text(0.9404159053336814, 0.7, 'x[52] <= 0.085\\ngini = 0.375\\nsamples = 4\\nvalue = [1, 3]'),\n",
              " Text(0.9359610197511529, 0.6714285714285714, 'gini = 0.0\\nsamples = 1\\nvalue = [1, 0]'),\n",
              " Text(0.9448707909162098, 0.6714285714285714, 'gini = 0.0\\nsamples = 3\\nvalue = [0, 3]'),\n",
              " Text(0.9626903332463238, 0.7571428571428571, 'x[51] <= 0.052\\ngini = 0.403\\nsamples = 25\\nvalue = [7, 18]'),\n",
              " Text(0.9537805620812668, 0.7285714285714285, 'x[52] <= 0.678\\ngini = 0.408\\nsamples = 7\\nvalue = [5, 2]'),\n",
              " Text(0.9493256764987383, 0.7, 'gini = 0.0\\nsamples = 5\\nvalue = [5, 0]'),\n",
              " Text(0.9582354476637953, 0.7, 'gini = 0.0\\nsamples = 2\\nvalue = [0, 2]'),\n",
              " Text(0.9716001044113809, 0.7285714285714285, 'x[52] <= 0.293\\ngini = 0.198\\nsamples = 18\\nvalue = [2, 16]'),\n",
              " Text(0.9671452188288523, 0.7, 'x[1] <= 1.175\\ngini = 0.444\\nsamples = 3\\nvalue = [2, 1]'),\n",
              " Text(0.9626903332463238, 0.6714285714285714, 'gini = 0.0\\nsamples = 2\\nvalue = [2, 0]'),\n",
              " Text(0.9716001044113809, 0.6714285714285714, 'gini = 0.0\\nsamples = 1\\nvalue = [0, 1]'),\n",
              " Text(0.9760549899939094, 0.7, 'gini = 0.0\\nsamples = 15\\nvalue = [0, 15]'),\n",
              " Text(0.9760549899939094, 0.7857142857142857, 'x[10] <= 0.47\\ngini = 0.48\\nsamples = 5\\nvalue = [3, 2]'),\n",
              " Text(0.9716001044113809, 0.7571428571428571, 'gini = 0.0\\nsamples = 3\\nvalue = [3, 0]'),\n",
              " Text(0.9805098755764379, 0.7571428571428571, 'gini = 0.0\\nsamples = 2\\nvalue = [0, 2]'),\n",
              " Text(0.9688158009223006, 0.8142857142857143, 'gini = 0.0\\nsamples = 2\\nvalue = [2, 0]'),\n",
              " Text(0.982180457669886, 0.8428571428571429, 'x[49] <= 0.018\\ngini = 0.245\\nsamples = 7\\nvalue = [6, 1]'),\n",
              " Text(0.9777255720873576, 0.8142857142857143, 'gini = 0.0\\nsamples = 1\\nvalue = [0, 1]'),\n",
              " Text(0.9866353432524145, 0.8142857142857143, 'gini = 0.0\\nsamples = 6\\nvalue = [6, 0]'),\n",
              " Text(0.9585138780127034, 0.9, 'gini = 0.0\\nsamples = 15\\nvalue = [15, 0]'),\n",
              " Text(0.991090228834943, 0.9285714285714286, 'x[7] <= 0.075\\ngini = 0.18\\nsamples = 70\\nvalue = [63, 7]'),\n",
              " Text(0.9866353432524145, 0.9, 'x[18] <= 0.285\\ngini = 0.031\\nsamples = 64\\nvalue = [63, 1]'),\n",
              " Text(0.982180457669886, 0.8714285714285714, 'gini = 0.0\\nsamples = 63\\nvalue = [63, 0]'),\n",
              " Text(0.991090228834943, 0.8714285714285714, 'gini = 0.0\\nsamples = 1\\nvalue = [0, 1]'),\n",
              " Text(0.9955451144174715, 0.9, 'gini = 0.0\\nsamples = 6\\nvalue = [0, 6]')]"
            ]
          },
          "metadata": {},
          "execution_count": 70
        },
        {
          "output_type": "display_data",
          "data": {
            "text/plain": [
              "<Figure size 432x288 with 1 Axes>"
            ],
            "image/png": "[encoded data removed]"
          },
          "metadata": {
            "needs_background": "light"
          }
        }
      ]
    },
    {
      "cell_type": "code",
      "source": [
        "c3= [[0.81,  0.9254163649529327], [0.81, 0.9254163649529327], [0.81, 0.9254163649529327], [0.81, 0.9254163649529327]]\n",
        "df = pd.DataFrame(c3, columns=['KNN', 'Logistic Regression'])\n",
        "df"
      ],
      "metadata": {
        "colab": {
          "base_uri": "https://localhost:8080/",
          "height": 175
        },
        "id": "Jt6VnNztTc52",
        "outputId": "a66fdfd9-5ce7-4c0a-f31c-b83d2e8a457a"
      },
      "execution_count": null,
      "outputs": [
        {
          "output_type": "execute_result",
          "data": {
            "text/plain": [
              "    KNN  Logistic Regression\n",
              "0  0.81             0.925416\n",
              "1  0.81             0.925416\n",
              "2  0.81             0.925416\n",
              "3  0.81             0.925416"
            ],
            "text/html": [
              "\n",
              "  <div id=\"df-625a0caf-02d6-4ea5-b88f-4e66e27475a6\">\n",
              "    <div class=\"colab-df-container\">\n",
              "      <div>\n",
              "<style scoped>\n",
              "    .dataframe tbody tr th:only-of-type {\n",
              "        vertical-align: middle;\n",
              "    }\n",
              "\n",
              "    .dataframe tbody tr th {\n",
              "        vertical-align: top;\n",
              "    }\n",
              "\n",
              "    .dataframe thead th {\n",
              "        text-align: right;\n",
              "    }\n",
              "</style>\n",
              "<table border=\"1\" class=\"dataframe\">\n",
              "  <thead>\n",
              "    <tr style=\"text-align: right;\">\n",
              "      <th></th>\n",
              "      <th>KNN</th>\n",
              "      <th>Logistic Regression</th>\n",
              "    </tr>\n",
              "  </thead>\n",
              "  <tbody>\n",
              "    <tr>\n",
              "      <th>0</th>\n",
              "      <td>0.81</td>\n",
              "      <td>0.925416</td>\n",
              "    </tr>\n",
              "    <tr>\n",
              "      <th>1</th>\n",
              "      <td>0.81</td>\n",
              "      <td>0.925416</td>\n",
              "    </tr>\n",
              "    <tr>\n",
              "      <th>2</th>\n",
              "      <td>0.81</td>\n",
              "      <td>0.925416</td>\n",
              "    </tr>\n",
              "    <tr>\n",
              "      <th>3</th>\n",
              "      <td>0.81</td>\n",
              "      <td>0.925416</td>\n",
              "    </tr>\n",
              "  </tbody>\n",
              "</table>\n",
              "</div>\n",
              "      <button class=\"colab-df-convert\" onclick=\"convertToInteractive('df-625a0caf-02d6-4ea5-b88f-4e66e27475a6')\"\n",
              "              title=\"Convert this dataframe to an interactive table.\"\n",
              "              style=\"display:none;\">\n",
              "        \n",
              "  <svg xmlns=\"http://www.w3.org/2000/svg\" height=\"24px\"viewBox=\"0 0 24 24\"\n",
              "       width=\"24px\">\n",
              "    <path d=\"M0 0h24v24H0V0z\" fill=\"none\"/>\n",
              "    <path d=\"M18.56 5.44l.94 2.06.94-2.06 2.06-.94-2.06-.94-.94-2.06-.94 2.06-2.06.94zm-11 1L8.5 8.5l.94-2.06 2.06-.94-2.06-.94L8.5 2.5l-.94 2.06-2.06.94zm10 10l.94 2.06.94-2.06 2.06-.94-2.06-.94-.94-2.06-.94 2.06-2.06.94z\"/><path d=\"M17.41 7.96l-1.37-1.37c-.4-.4-.92-.59-1.43-.59-.52 0-1.04.2-1.43.59L10.3 9.45l-7.72 7.72c-.78.78-.78 2.05 0 2.83L4 21.41c.39.39.9.59 1.41.59.51 0 1.02-.2 1.41-.59l7.78-7.78 2.81-2.81c.8-.78.8-2.07 0-2.86zM5.41 20L4 18.59l7.72-7.72 1.47 1.35L5.41 20z\"/>\n",
              "  </svg>\n",
              "      </button>\n",
              "      \n",
              "  <style>\n",
              "    .colab-df-container {\n",
              "      display:flex;\n",
              "      flex-wrap:wrap;\n",
              "      gap: 12px;\n",
              "    }\n",
              "\n",
              "    .colab-df-convert {\n",
              "      background-color: #E8F0FE;\n",
              "      border: none;\n",
              "      border-radius: 50%;\n",
              "      cursor: pointer;\n",
              "      display: none;\n",
              "      fill: #1967D2;\n",
              "      height: 32px;\n",
              "      padding: 0 0 0 0;\n",
              "      width: 32px;\n",
              "    }\n",
              "\n",
              "    .colab-df-convert:hover {\n",
              "      background-color: #E2EBFA;\n",
              "      box-shadow: 0px 1px 2px rgba(60, 64, 67, 0.3), 0px 1px 3px 1px rgba(60, 64, 67, 0.15);\n",
              "      fill: #174EA6;\n",
              "    }\n",
              "\n",
              "    [theme=dark] .colab-df-convert {\n",
              "      background-color: #3B4455;\n",
              "      fill: #D2E3FC;\n",
              "    }\n",
              "\n",
              "    [theme=dark] .colab-df-convert:hover {\n",
              "      background-color: #434B5C;\n",
              "      box-shadow: 0px 1px 3px 1px rgba(0, 0, 0, 0.15);\n",
              "      filter: drop-shadow(0px 1px 2px rgba(0, 0, 0, 0.3));\n",
              "      fill: #FFFFFF;\n",
              "    }\n",
              "  </style>\n",
              "\n",
              "      <script>\n",
              "        const buttonEl =\n",
              "          document.querySelector('#df-625a0caf-02d6-4ea5-b88f-4e66e27475a6 button.colab-df-convert');\n",
              "        buttonEl.style.display =\n",
              "          google.colab.kernel.accessAllowed ? 'block' : 'none';\n",
              "\n",
              "        async function convertToInteractive(key) {\n",
              "          const element = document.querySelector('#df-625a0caf-02d6-4ea5-b88f-4e66e27475a6');\n",
              "          const dataTable =\n",
              "            await google.colab.kernel.invokeFunction('convertToInteractive',\n",
              "                                                     [key], {});\n",
              "          if (!dataTable) return;\n",
              "\n",
              "          const docLinkHtml = 'Like what you see? Visit the ' +\n",
              "            '<a target=\"_blank\" href=https://colab.research.google.com/notebooks/data_table.ipynb>data table notebook</a>'\n",
              "            + ' to learn more about interactive tables.';\n",
              "          element.innerHTML = '';\n",
              "          dataTable['output_type'] = 'display_data';\n",
              "          await google.colab.output.renderOutput(dataTable, element);\n",
              "          const docLink = document.createElement('div');\n",
              "          docLink.innerHTML = docLinkHtml;\n",
              "          element.appendChild(docLink);\n",
              "        }\n",
              "      </script>\n",
              "    </div>\n",
              "  </div>\n",
              "  "
            ]
          },
          "metadata": {},
          "execution_count": 81
        }
      ]
    },
    {
      "cell_type": "markdown",
      "source": [
        "#Finally,\n",
        "Save a copy in your Github. Remember renaming the notebook."
      ],
      "metadata": {
        "id": "Ok7RGkea_b7n"
      }
    }
  ]
}