{
  "nbformat": 4,
  "nbformat_minor": 0,
  "metadata": {
    "colab": {
      "provenance": [],
      "include_colab_link": true
    },
    "kernelspec": {
      "name": "python3",
      "display_name": "Python 3"
    },
    "language_info": {
      "name": "python"
    }
  },
  "cells": [
    {
      "cell_type": "markdown",
      "metadata": {
        "id": "view-in-github",
        "colab_type": "text"
      },
      "source": [
        "<a href=\"https://colab.research.google.com/github/tranbuituanngoc/ML/blob/main/Lab_4_20130337_TranBuiTuanNgoc.ipynb\" target=\"_parent\"><img src=\"https://colab.research.google.com/assets/colab-badge.svg\" alt=\"Open In Colab\"/></a>"
      ]
    },
    {
      "cell_type": "markdown",
      "source": [
        "# This lab is to continous dealing with **Logistic Regression**, **kNN**, and **Decision Tree** alogirthms applied to classification tasks. \n",
        "\n",
        "*   **Deadline: 23:59, 12/03/2023**\n",
        "\n"
      ],
      "metadata": {
        "id": "LMzehe0sy5wr"
      }
    },
    {
      "cell_type": "markdown",
      "source": [
        "# Import libraries"
      ],
      "metadata": {
        "id": "H4nJmxp9zGX4"
      }
    },
    {
      "cell_type": "code",
      "execution_count": 1,
      "metadata": {
        "id": "DoVWQ8AEyc-C"
      },
      "outputs": [],
      "source": [
        "import numpy as np\n",
        "import pandas as pd\n",
        "import matplotlib.pyplot as plt\n",
        "from sklearn.impute import SimpleImputer"
      ]
    },
    {
      "cell_type": "markdown",
      "source": [
        "#Task 1. \n",
        "Apply **LogisticRegression** to iris dataset which aims at classifying species of iris based on sepal_length (chiều dài đài hoa), sepal_width, petal_length (chiều dài cánh hoa), petal_width. The species are '**setosa**' '**versicolor**' and '**virginica**'. \n",
        "\n",
        "\n",
        "\n",
        "```\n",
        "from sklearn import datasets\n",
        "data4 = datasets.load_iris()\n",
        "```\n",
        "\n",
        "\n"
      ],
      "metadata": {
        "id": "kNv07ARGzOUm"
      }
    },
    {
      "cell_type": "code",
      "source": [
        "from sklearn import datasets\n",
        "data4 = datasets.load_iris()"
      ],
      "metadata": {
        "id": "sOsg77IBzEyo"
      },
      "execution_count": 2,
      "outputs": []
    },
    {
      "cell_type": "code",
      "source": [
        "from sklearn.metrics import confusion_matrix \n",
        "from sklearn.metrics import accuracy_score\n",
        "from sklearn.linear_model import LogisticRegression \n",
        "from sklearn.model_selection import train_test_split\n",
        "from sklearn.metrics import precision_score\n",
        "from sklearn.metrics import recall_score\n",
        "from sklearn.metrics import f1_score\n",
        "from sklearn.metrics import confusion_matrix\n",
        "from sklearn.metrics import ConfusionMatrixDisplay"
      ],
      "metadata": {
        "id": "B48EDC90vEhA"
      },
      "execution_count": 3,
      "outputs": []
    },
    {
      "cell_type": "code",
      "source": [
        "classifier = LogisticRegression(random_state = 0) \n",
        "X= data4['data']\n",
        "Y= data4['target']\n",
        "X_train, X_test, y_train, y_test = train_test_split(X, Y, test_size=0.3, train_size=0.7,  random_state = 1)\n",
        "classifier.fit(X_train, y_train) \n",
        "y_pred = classifier.predict(X_test)\n",
        "cm = confusion_matrix(y_test, y_pred)\n",
        "print (\"Confusion Matrix : \\n\", confusion_matrix(y_test, y_pred))\n",
        "print (\"Accuracy : \", accuracy_score(y_test, y_pred))\n",
        "print (\"Precision : \", precision_score(y_test, y_pred, average='micro'))\n",
        "print (\"Recall : \", recall_score(y_test, y_pred, average='micro'))\n",
        "print (\"F1 : \", f1_score(y_test, y_pred, average='micro'))"
      ],
      "metadata": {
        "colab": {
          "base_uri": "https://localhost:8080/"
        },
        "id": "aEzyH7ntrI8I",
        "outputId": "dc8de6db-283a-4fc1-c0f7-6b547cc72a4d"
      },
      "execution_count": 4,
      "outputs": [
        {
          "output_type": "stream",
          "name": "stdout",
          "text": [
            "Confusion Matrix : \n",
            " [[14  0  0]\n",
            " [ 0 17  1]\n",
            " [ 0  0 13]]\n",
            "Accuracy :  0.9777777777777777\n",
            "Precision :  0.9777777777777777\n",
            "Recall :  0.9777777777777777\n",
            "F1 :  0.9777777777777777\n"
          ]
        }
      ]
    },
    {
      "cell_type": "markdown",
      "source": [
        "#Task 2. \n",
        "Apply LogisticRegression to **MNIST** dataset (mnist.csv) which aims at classifying handwritten digits. Dataset includes 784 pixels values of images (28x28). \n",
        "\n",
        "\n",
        "```\n",
        "from sklearn import datasets\n",
        "# load the MNIST digits dataset\n",
        "mnist = datasets.load_digits()\n",
        "```\n",
        "\n"
      ],
      "metadata": {
        "id": "S43IoUT-0OQq"
      }
    },
    {
      "cell_type": "code",
      "source": [
        "from sklearn import datasets\n",
        "# load the MNIST digits dataset\n",
        "mnist = datasets.load_digits()"
      ],
      "metadata": {
        "id": "_xhPpF5b033h"
      },
      "execution_count": 5,
      "outputs": []
    },
    {
      "cell_type": "code",
      "source": [
        "classifier = LogisticRegression(random_state = 0) \n",
        "X1= mnist['data']\n",
        "Y1= mnist['target']\n",
        "X_train1, X_test1, y_train1, y_test1 = train_test_split(X1, Y1, test_size=0.3, train_size=0.7,  random_state = 1)\n",
        "classifier.fit(X_train1, y_train1) \n",
        "y_pred1 = classifier.predict(X_test1)\n",
        "cm = confusion_matrix(y_test1, y_pred1)\n",
        "print (\"Confusion Matrix : \\n\", confusion_matrix(y_test, y_pred))\n",
        "print (\"Accuracy : \", accuracy_score(y_test, y_pred))\n",
        "print (\"Precision : \", precision_score(y_test, y_pred, average='micro'))\n",
        "print (\"Recall : \", recall_score(y_test, y_pred, average='micro'))\n",
        "print (\"F1 : \", f1_score(y_test, y_pred, average='micro'))"
      ],
      "metadata": {
        "colab": {
          "base_uri": "https://localhost:8080/"
        },
        "id": "jXd2kyK_uamx",
        "outputId": "3459b63a-8b67-44a7-a700-365325163f20"
      },
      "execution_count": 6,
      "outputs": [
        {
          "output_type": "stream",
          "name": "stdout",
          "text": [
            "Confusion Matrix : \n",
            " [[14  0  0]\n",
            " [ 0 17  1]\n",
            " [ 0  0 13]]\n",
            "Accuracy :  0.9777777777777777\n",
            "Precision :  0.9777777777777777\n",
            "Recall :  0.9777777777777777\n",
            "F1 :  0.9777777777777777\n"
          ]
        },
        {
          "output_type": "stream",
          "name": "stderr",
          "text": [
            "/usr/local/lib/python3.8/dist-packages/sklearn/linear_model/_logistic.py:458: ConvergenceWarning: lbfgs failed to converge (status=1):\n",
            "STOP: TOTAL NO. of ITERATIONS REACHED LIMIT.\n",
            "\n",
            "Increase the number of iterations (max_iter) or scale the data as shown in:\n",
            "    https://scikit-learn.org/stable/modules/preprocessing.html\n",
            "Please also refer to the documentation for alternative solver options:\n",
            "    https://scikit-learn.org/stable/modules/linear_model.html#logistic-regression\n",
            "  n_iter_i = _check_optimize_result(\n"
          ]
        }
      ]
    },
    {
      "cell_type": "markdown",
      "source": [
        "#Task 3. \n",
        "Apply another classification algorithm named kNN, which is an instance classifcation model. \n",
        "*  3.1. Perform kNN algorithm to Iris dataset with k={1, 3, 5, …, 29}. Select the best value of k.\n",
        "\n",
        "*   3.2. Then compare the obtained results with those using Logistic regression (based on metrics: accuracy, precision, recall, f1 measure).\n"
      ],
      "metadata": {
        "id": "Rti2y0Wz2KY9"
      }
    },
    {
      "cell_type": "code",
      "source": [
        "from sklearn.neighbors import KNeighborsClassifier"
      ],
      "metadata": {
        "id": "13LkkfpS2ZUR"
      },
      "execution_count": 7,
      "outputs": []
    },
    {
      "cell_type": "code",
      "source": [
        "k_range= range(1,30,2)\n",
        "accuracy=[]\n",
        "precision=[]\n",
        "recall=[]\n",
        "f1=[]\n",
        "for i in k_range:\n",
        "  data4 = KNeighborsClassifier(n_neighbors=i)\n",
        "  X_train, X_test, y_train, y_test = train_test_split(X, Y, test_size=0.4, random_state = 0)\n",
        "  data4.fit(X_train,y_train)\n",
        "  y_pred = data4.predict(X_test) \n",
        "  accuracy.append( accuracy_score(y_test, y_pred))\n",
        "  precision.append( precision_score(y_test, y_pred, average='micro'))\n",
        "  recall.append( recall_score(y_test, y_pred, average='micro'))\n",
        "  f1.append( f1_score(y_test, y_pred, average='micro'))\n",
        "plt.plot(k_range,accuracy,label=\"Accuracy\")\n",
        "plt.plot(k_range,precision,label=\"Precision\")\n",
        "plt.plot(k_range,recall,label=\"Recall\")\n",
        "plt.plot(k_range,f1,label=\"F1\")\n",
        "plt.xlabel=(\"K\")\n",
        "plt.legend()\n"
      ],
      "metadata": {
        "colab": {
          "base_uri": "https://localhost:8080/",
          "height": 282
        },
        "id": "qdTbR718yopQ",
        "outputId": "d1e0cf13-c7da-48db-f299-f714245ac974"
      },
      "execution_count": 24,
      "outputs": [
        {
          "output_type": "execute_result",
          "data": {
            "text/plain": [
              "<matplotlib.legend.Legend at 0x7f83703b5cd0>"
            ]
          },
          "metadata": {},
          "execution_count": 24
        },
        {
          "output_type": "display_data",
          "data": {
            "text/plain": [
              "<Figure size 432x288 with 1 Axes>"
            ],
            "image/png": "[encoded data removed]"
          },
          "metadata": {
            "needs_background": "light"
          }
        }
      ]
    },
    {
      "cell_type": "code",
      "source": [
        "ConfusionMatrixDisplay.from_estimator(data4, X_test, y_test)"
      ],
      "metadata": {
        "colab": {
          "base_uri": "https://localhost:8080/",
          "height": 296
        },
        "id": "6qJBUEiV3Tmo",
        "outputId": "9ab3b414-0900-4024-eec3-6b0e684f671b"
      },
      "execution_count": 10,
      "outputs": [
        {
          "output_type": "execute_result",
          "data": {
            "text/plain": [
              "<sklearn.metrics._plot.confusion_matrix.ConfusionMatrixDisplay at 0x7f83785ed040>"
            ]
          },
          "metadata": {},
          "execution_count": 10
        },
        {
          "output_type": "display_data",
          "data": {
            "text/plain": [
              "<Figure size 432x288 with 2 Axes>"
            ],
            "image/png": "[encoded data removed]"
          },
          "metadata": {
            "needs_background": "light"
          }
        }
      ]
    },
    {
      "cell_type": "code",
      "source": [
        "c1= [[0.97,  0.9778], [0.97, 0.9778], [0.97, 0.9778], [0.97, 0.9778]]\n",
        "df = pd.DataFrame(c1, columns=['KNN', 'Logistic Regression'])\n",
        "df"
      ],
      "metadata": {
        "colab": {
          "base_uri": "https://localhost:8080/",
          "height": 175
        },
        "id": "RnRXMlQbVa8o",
        "outputId": "b03edaad-bccc-42de-f3d5-9e4a8789b7e5"
      },
      "execution_count": 47,
      "outputs": [
        {
          "output_type": "execute_result",
          "data": {
            "text/plain": [
              "    KNN  Logistic Regression\n",
              "0  0.97               0.9778\n",
              "1  0.97               0.9778\n",
              "2  0.97               0.9778\n",
              "3  0.97               0.9778"
            ],
            "text/html": [
              "\n",
              "  <div id=\"df-0fd3fa7c-18bd-4dd0-b46b-45a37332e05e\">\n",
              "    <div class=\"colab-df-container\">\n",
              "      <div>\n",
              "<style scoped>\n",
              "    .dataframe tbody tr th:only-of-type {\n",
              "        vertical-align: middle;\n",
              "    }\n",
              "\n",
              "    .dataframe tbody tr th {\n",
              "        vertical-align: top;\n",
              "    }\n",
              "\n",
              "    .dataframe thead th {\n",
              "        text-align: right;\n",
              "    }\n",
              "</style>\n",
              "<table border=\"1\" class=\"dataframe\">\n",
              "  <thead>\n",
              "    <tr style=\"text-align: right;\">\n",
              "      <th></th>\n",
              "      <th>KNN</th>\n",
              "      <th>Logistic Regression</th>\n",
              "    </tr>\n",
              "  </thead>\n",
              "  <tbody>\n",
              "    <tr>\n",
              "      <th>0</th>\n",
              "      <td>0.97</td>\n",
              "      <td>0.9778</td>\n",
              "    </tr>\n",
              "    <tr>\n",
              "      <th>1</th>\n",
              "      <td>0.97</td>\n",
              "      <td>0.9778</td>\n",
              "    </tr>\n",
              "    <tr>\n",
              "      <th>2</th>\n",
              "      <td>0.97</td>\n",
              "      <td>0.9778</td>\n",
              "    </tr>\n",
              "    <tr>\n",
              "      <th>3</th>\n",
              "      <td>0.97</td>\n",
              "      <td>0.9778</td>\n",
              "    </tr>\n",
              "  </tbody>\n",
              "</table>\n",
              "</div>\n",
              "      <button class=\"colab-df-convert\" onclick=\"convertToInteractive('df-0fd3fa7c-18bd-4dd0-b46b-45a37332e05e')\"\n",
              "              title=\"Convert this dataframe to an interactive table.\"\n",
              "              style=\"display:none;\">\n",
              "        \n",
              "  <svg xmlns=\"http://www.w3.org/2000/svg\" height=\"24px\"viewBox=\"0 0 24 24\"\n",
              "       width=\"24px\">\n",
              "    <path d=\"M0 0h24v24H0V0z\" fill=\"none\"/>\n",
              "    <path d=\"M18.56 5.44l.94 2.06.94-2.06 2.06-.94-2.06-.94-.94-2.06-.94 2.06-2.06.94zm-11 1L8.5 8.5l.94-2.06 2.06-.94-2.06-.94L8.5 2.5l-.94 2.06-2.06.94zm10 10l.94 2.06.94-2.06 2.06-.94-2.06-.94-.94-2.06-.94 2.06-2.06.94z\"/><path d=\"M17.41 7.96l-1.37-1.37c-.4-.4-.92-.59-1.43-.59-.52 0-1.04.2-1.43.59L10.3 9.45l-7.72 7.72c-.78.78-.78 2.05 0 2.83L4 21.41c.39.39.9.59 1.41.59.51 0 1.02-.2 1.41-.59l7.78-7.78 2.81-2.81c.8-.78.8-2.07 0-2.86zM5.41 20L4 18.59l7.72-7.72 1.47 1.35L5.41 20z\"/>\n",
              "  </svg>\n",
              "      </button>\n",
              "      \n",
              "  <style>\n",
              "    .colab-df-container {\n",
              "      display:flex;\n",
              "      flex-wrap:wrap;\n",
              "      gap: 12px;\n",
              "    }\n",
              "\n",
              "    .colab-df-convert {\n",
              "      background-color: #E8F0FE;\n",
              "      border: none;\n",
              "      border-radius: 50%;\n",
              "      cursor: pointer;\n",
              "      display: none;\n",
              "      fill: #1967D2;\n",
              "      height: 32px;\n",
              "      padding: 0 0 0 0;\n",
              "      width: 32px;\n",
              "    }\n",
              "\n",
              "    .colab-df-convert:hover {\n",
              "      background-color: #E2EBFA;\n",
              "      box-shadow: 0px 1px 2px rgba(60, 64, 67, 0.3), 0px 1px 3px 1px rgba(60, 64, 67, 0.15);\n",
              "      fill: #174EA6;\n",
              "    }\n",
              "\n",
              "    [theme=dark] .colab-df-convert {\n",
              "      background-color: #3B4455;\n",
              "      fill: #D2E3FC;\n",
              "    }\n",
              "\n",
              "    [theme=dark] .colab-df-convert:hover {\n",
              "      background-color: #434B5C;\n",
              "      box-shadow: 0px 1px 3px 1px rgba(0, 0, 0, 0.15);\n",
              "      filter: drop-shadow(0px 1px 2px rgba(0, 0, 0, 0.3));\n",
              "      fill: #FFFFFF;\n",
              "    }\n",
              "  </style>\n",
              "\n",
              "      <script>\n",
              "        const buttonEl =\n",
              "          document.querySelector('#df-0fd3fa7c-18bd-4dd0-b46b-45a37332e05e button.colab-df-convert');\n",
              "        buttonEl.style.display =\n",
              "          google.colab.kernel.accessAllowed ? 'block' : 'none';\n",
              "\n",
              "        async function convertToInteractive(key) {\n",
              "          const element = document.querySelector('#df-0fd3fa7c-18bd-4dd0-b46b-45a37332e05e');\n",
              "          const dataTable =\n",
              "            await google.colab.kernel.invokeFunction('convertToInteractive',\n",
              "                                                     [key], {});\n",
              "          if (!dataTable) return;\n",
              "\n",
              "          const docLinkHtml = 'Like what you see? Visit the ' +\n",
              "            '<a target=\"_blank\" href=https://colab.research.google.com/notebooks/data_table.ipynb>data table notebook</a>'\n",
              "            + ' to learn more about interactive tables.';\n",
              "          element.innerHTML = '';\n",
              "          dataTable['output_type'] = 'display_data';\n",
              "          await google.colab.output.renderOutput(dataTable, element);\n",
              "          const docLink = document.createElement('div');\n",
              "          docLink.innerHTML = docLinkHtml;\n",
              "          element.appendChild(docLink);\n",
              "        }\n",
              "      </script>\n",
              "    </div>\n",
              "  </div>\n",
              "  "
            ]
          },
          "metadata": {},
          "execution_count": 47
        }
      ]
    },
    {
      "cell_type": "markdown",
      "source": [
        "#Task 4. \n",
        "Similar to Task 3, apply kNN algorithm to **mnist** dataset which included in datasets of sklearn API.\n",
        "*  4.1.\tPerform kNN algorithm to Iris dataset with k={1, 3, 5, …, 29}. Select the best value of k.\n",
        "*  4.2.\tThen compare the obtained results with those using Logistic regression (based on metrics: accuracy, precision, recall, f1 measure).\n"
      ],
      "metadata": {
        "id": "b52OPWPD2afi"
      }
    },
    {
      "cell_type": "code",
      "source": [
        "k_range= range(1,30,2)\n",
        "accuracy1=[]\n",
        "precision1=[]\n",
        "recall1=[]\n",
        "f11=[]\n",
        "for i in k_range:\n",
        "  mnist = KNeighborsClassifier(n_neighbors=i)\n",
        "  X_train1, X_test1, y_train1, y_test1 = train_test_split(X1, Y1, test_size=0.3, train_size=0.7,  random_state = 1)\n",
        "  mnist.fit(X_train1,y_train1)\n",
        "  y_pred1 = mnist.predict(X_test1) \n",
        "  accuracy1.append( accuracy_score(y_test1, y_pred1))\n",
        "  precision1.append( precision_score(y_test1, y_pred1, average='micro'))\n",
        "  recall1.append( recall_score(y_test1, y_pred1, average='micro'))\n",
        "  f11.append( f1_score(y_test1, y_pred1, average='micro'))\n",
        "plt.plot(k_range,accuracy1,label=\"Accuracy\")\n",
        "plt.plot(k_range,precision1,label=\"Precision\")\n",
        "plt.plot(k_range,recall1,label=\"Recall\")\n",
        "plt.plot(k_range,f11,label=\"F1\")\n",
        "plt.xlabel=(\"K\")\n",
        "plt.legend()"
      ],
      "metadata": {
        "id": "Rw_-8FIf2KxW",
        "colab": {
          "base_uri": "https://localhost:8080/",
          "height": 282
        },
        "outputId": "cb1f3471-53bb-476d-ac48-94a0047212db"
      },
      "execution_count": 17,
      "outputs": [
        {
          "output_type": "execute_result",
          "data": {
            "text/plain": [
              "<matplotlib.legend.Legend at 0x7f83797c52b0>"
            ]
          },
          "metadata": {},
          "execution_count": 17
        },
        {
          "output_type": "display_data",
          "data": {
            "text/plain": [
              "<Figure size 432x288 with 1 Axes>"
            ],
            "image/png": "[encoded data removed]"
          },
          "metadata": {
            "needs_background": "light"
          }
        }
      ]
    },
    {
      "cell_type": "code",
      "source": [
        "ConfusionMatrixDisplay.from_estimator(mnist, X_test1, y_test1)"
      ],
      "metadata": {
        "colab": {
          "base_uri": "https://localhost:8080/",
          "height": 297
        },
        "id": "hOJuOFuN6cYI",
        "outputId": "73a4cdee-b234-4a37-9fa7-4a3723945333"
      },
      "execution_count": 19,
      "outputs": [
        {
          "output_type": "execute_result",
          "data": {
            "text/plain": [
              "<sklearn.metrics._plot.confusion_matrix.ConfusionMatrixDisplay at 0x7f8374ee2130>"
            ]
          },
          "metadata": {},
          "execution_count": 19
        },
        {
          "output_type": "display_data",
          "data": {
            "text/plain": [
              "<Figure size 432x288 with 2 Axes>"
            ],
            "image/png": "[encoded data removed]"
          },
          "metadata": {
            "needs_background": "light"
          }
        }
      ]
    },
    {
      "cell_type": "code",
      "source": [
        "c2= [[0.992,  0.9778], [0.992, 0.9778], [0.992, 0.9778], [0.992, 0.9778]]\n",
        "df = pd.DataFrame(c2, columns=['KNN', 'Logistic Regression'])\n",
        "df"
      ],
      "metadata": {
        "colab": {
          "base_uri": "https://localhost:8080/",
          "height": 175
        },
        "id": "O3PPWYxqTgN8",
        "outputId": "cb6a2eeb-962c-40e6-b0cf-27d3ff13a65c"
      },
      "execution_count": 48,
      "outputs": [
        {
          "output_type": "execute_result",
          "data": {
            "text/plain": [
              "     KNN  Logistic Regression\n",
              "0  0.992               0.9778\n",
              "1  0.992               0.9778\n",
              "2  0.992               0.9778\n",
              "3  0.992               0.9778"
            ],
            "text/html": [
              "\n",
              "  <div id=\"df-bdab689b-b1b7-496b-8121-2c4d1050062f\">\n",
              "    <div class=\"colab-df-container\">\n",
              "      <div>\n",
              "<style scoped>\n",
              "    .dataframe tbody tr th:only-of-type {\n",
              "        vertical-align: middle;\n",
              "    }\n",
              "\n",
              "    .dataframe tbody tr th {\n",
              "        vertical-align: top;\n",
              "    }\n",
              "\n",
              "    .dataframe thead th {\n",
              "        text-align: right;\n",
              "    }\n",
              "</style>\n",
              "<table border=\"1\" class=\"dataframe\">\n",
              "  <thead>\n",
              "    <tr style=\"text-align: right;\">\n",
              "      <th></th>\n",
              "      <th>KNN</th>\n",
              "      <th>Logistic Regression</th>\n",
              "    </tr>\n",
              "  </thead>\n",
              "  <tbody>\n",
              "    <tr>\n",
              "      <th>0</th>\n",
              "      <td>0.992</td>\n",
              "      <td>0.9778</td>\n",
              "    </tr>\n",
              "    <tr>\n",
              "      <th>1</th>\n",
              "      <td>0.992</td>\n",
              "      <td>0.9778</td>\n",
              "    </tr>\n",
              "    <tr>\n",
              "      <th>2</th>\n",
              "      <td>0.992</td>\n",
              "      <td>0.9778</td>\n",
              "    </tr>\n",
              "    <tr>\n",
              "      <th>3</th>\n",
              "      <td>0.992</td>\n",
              "      <td>0.9778</td>\n",
              "    </tr>\n",
              "  </tbody>\n",
              "</table>\n",
              "</div>\n",
              "      <button class=\"colab-df-convert\" onclick=\"convertToInteractive('df-bdab689b-b1b7-496b-8121-2c4d1050062f')\"\n",
              "              title=\"Convert this dataframe to an interactive table.\"\n",
              "              style=\"display:none;\">\n",
              "        \n",
              "  <svg xmlns=\"http://www.w3.org/2000/svg\" height=\"24px\"viewBox=\"0 0 24 24\"\n",
              "       width=\"24px\">\n",
              "    <path d=\"M0 0h24v24H0V0z\" fill=\"none\"/>\n",
              "    <path d=\"M18.56 5.44l.94 2.06.94-2.06 2.06-.94-2.06-.94-.94-2.06-.94 2.06-2.06.94zm-11 1L8.5 8.5l.94-2.06 2.06-.94-2.06-.94L8.5 2.5l-.94 2.06-2.06.94zm10 10l.94 2.06.94-2.06 2.06-.94-2.06-.94-.94-2.06-.94 2.06-2.06.94z\"/><path d=\"M17.41 7.96l-1.37-1.37c-.4-.4-.92-.59-1.43-.59-.52 0-1.04.2-1.43.59L10.3 9.45l-7.72 7.72c-.78.78-.78 2.05 0 2.83L4 21.41c.39.39.9.59 1.41.59.51 0 1.02-.2 1.41-.59l7.78-7.78 2.81-2.81c.8-.78.8-2.07 0-2.86zM5.41 20L4 18.59l7.72-7.72 1.47 1.35L5.41 20z\"/>\n",
              "  </svg>\n",
              "      </button>\n",
              "      \n",
              "  <style>\n",
              "    .colab-df-container {\n",
              "      display:flex;\n",
              "      flex-wrap:wrap;\n",
              "      gap: 12px;\n",
              "    }\n",
              "\n",
              "    .colab-df-convert {\n",
              "      background-color: #E8F0FE;\n",
              "      border: none;\n",
              "      border-radius: 50%;\n",
              "      cursor: pointer;\n",
              "      display: none;\n",
              "      fill: #1967D2;\n",
              "      height: 32px;\n",
              "      padding: 0 0 0 0;\n",
              "      width: 32px;\n",
              "    }\n",
              "\n",
              "    .colab-df-convert:hover {\n",
              "      background-color: #E2EBFA;\n",
              "      box-shadow: 0px 1px 2px rgba(60, 64, 67, 0.3), 0px 1px 3px 1px rgba(60, 64, 67, 0.15);\n",
              "      fill: #174EA6;\n",
              "    }\n",
              "\n",
              "    [theme=dark] .colab-df-convert {\n",
              "      background-color: #3B4455;\n",
              "      fill: #D2E3FC;\n",
              "    }\n",
              "\n",
              "    [theme=dark] .colab-df-convert:hover {\n",
              "      background-color: #434B5C;\n",
              "      box-shadow: 0px 1px 3px 1px rgba(0, 0, 0, 0.15);\n",
              "      filter: drop-shadow(0px 1px 2px rgba(0, 0, 0, 0.3));\n",
              "      fill: #FFFFFF;\n",
              "    }\n",
              "  </style>\n",
              "\n",
              "      <script>\n",
              "        const buttonEl =\n",
              "          document.querySelector('#df-bdab689b-b1b7-496b-8121-2c4d1050062f button.colab-df-convert');\n",
              "        buttonEl.style.display =\n",
              "          google.colab.kernel.accessAllowed ? 'block' : 'none';\n",
              "\n",
              "        async function convertToInteractive(key) {\n",
              "          const element = document.querySelector('#df-bdab689b-b1b7-496b-8121-2c4d1050062f');\n",
              "          const dataTable =\n",
              "            await google.colab.kernel.invokeFunction('convertToInteractive',\n",
              "                                                     [key], {});\n",
              "          if (!dataTable) return;\n",
              "\n",
              "          const docLinkHtml = 'Like what you see? Visit the ' +\n",
              "            '<a target=\"_blank\" href=https://colab.research.google.com/notebooks/data_table.ipynb>data table notebook</a>'\n",
              "            + ' to learn more about interactive tables.';\n",
              "          element.innerHTML = '';\n",
              "          dataTable['output_type'] = 'display_data';\n",
              "          await google.colab.output.renderOutput(dataTable, element);\n",
              "          const docLink = document.createElement('div');\n",
              "          docLink.innerHTML = docLinkHtml;\n",
              "          element.appendChild(docLink);\n",
              "        }\n",
              "      </script>\n",
              "    </div>\n",
              "  </div>\n",
              "  "
            ]
          },
          "metadata": {},
          "execution_count": 48
        }
      ]
    },
    {
      "cell_type": "markdown",
      "source": [
        "#Task 5. \n",
        "Compare the performance of selected classification algorithms (**Decision Treen, kNN, and Logistic Regression**) to ***spam detection***. The dataset can be accessed from the link: http://archive.ics.uci.edu/ml/datasets/Spambase \n",
        "Attribute Information:\n",
        "The last column of 'spambase.csv denotes whether the e-mail was considered spam (1) or not (0), i.e. unsolicited commercial e-mail. Most of the attributes indicate whether a particular word or character was frequently occuring in the e-mail. The run-length attributes (55-57) measure the length of sequences of consecutive capital letters. For the statistical measures of each attribute, see the end of this file. Here are the definitions of the attributes: \n",
        "*  48 continuous real [0,100] attributes of type word_freq_WORD \n",
        "= percentage of words in the e-mail that match WORD, i.e. 100 * (number of times the WORD appears in the e-mail) / total number of words in e-mail. A \"word\" in this case is any string of alphanumeric characters bounded by non-alphanumeric characters or end-of-string. **Example**: word_freq_address: percentage of words in the e-mail that match ADDRESS.\n",
        "*  6 continuous real [0,100] attributes of type char_freq_CHAR] \n",
        "= percentage of characters in the e-mail that match CHAR, i.e. 100 * (number of CHAR occurences) / total characters in e-mail\n",
        "*  1 continuous real [1,...] attribute of type capital_run_length_average \n",
        "= average length of uninterrupted sequences of capital letters\n",
        "*  1 continuous integer [1,...] attribute of type capital_run_length_longest \n",
        "= length of longest uninterrupted sequence of capital letters\n",
        "*  1 continuous integer [1,...] attribute of type capital_run_length_total = sum of length of uninterrupted sequences of capital letters = total number of capital letters in the e-mail\n",
        "*  1 nominal {0,1} class attribute of type spam = denotes whether the e-mail was considered spam (1) or not (0), i.e. unsolicited commercial e-mail. \n",
        "\n",
        "\n",
        "---\n",
        "\n",
        "\n",
        "In order to compare the performance of selected algorithms, some common metrics including **accuracy, precision, recall, f1 measures** could be used.\n"
      ],
      "metadata": {
        "id": "MVzSk4l505E0"
      }
    },
    {
      "cell_type": "code",
      "source": [
        "data=pd.read_csv('spambase.csv')"
      ],
      "metadata": {
        "id": "W_1v_ivR2f6D"
      },
      "execution_count": 40,
      "outputs": []
    },
    {
      "cell_type": "code",
      "source": [
        "classifier = LogisticRegression(random_state = 0) \n",
        "X2= data[['word_freq_000', 'word_freq_make', 'word_freq_address', 'word_freq_all', 'word_freq_3d', 'word_freq_our',\n",
        " 'word_freq_over', 'word_freq_remove', 'word_freq_internet', 'word_freq_order', 'word_freq_mail', 'word_freq_receive',\n",
        "  'word_freq_will', 'word_freq_people', 'word_freq_report', 'word_freq_addresses', 'word_freq_free', 'word_freq_business',\n",
        "  'word_freq_email', 'word_freq_you', 'word_freq_credit', 'word_freq_your', 'word_freq_font', 'word_freq_money', 'word_freq_hp',\n",
        "  'word_freq_hpl', 'word_freq_george', 'word_freq_650', 'word_freq_lab', 'word_freq_labs', 'word_freq_telnet',\n",
        "  'word_freq_857', 'word_freq_data', 'word_freq_415', 'word_freq_85', 'word_freq_technology', 'word_freq_1999', 'word_freq_parts',\n",
        "  'word_freq_pm', 'word_freq_direct', 'word_freq_cs', 'word_freq_meeting', 'word_freq_original', 'word_freq_project', 'word_freq_re',\n",
        "  'word_freq_edu', 'word_freq_table', 'word_freq_conference', 'char_freq_%3B', 'char_freq_%28', 'char_freq_%5B', 'char_freq_%21',\n",
        "  'char_freq_%24', 'char_freq_%23', 'capital_run_length_average', 'capital_run_length_longest', 'capital_run_length_total']]\n",
        "Y2= data['class']\n",
        "X_train2, X_test2, y_train2, y_test2 = train_test_split(X2, Y2, test_size=0.3, train_size=0.7,  random_state = 1)\n",
        "classifier.fit(X_train2, y_train2) \n",
        "y_pred2 = classifier.predict(X_test2)\n",
        "cm = confusion_matrix(y_test2, y_pred2)\n",
        "print (\"Confusion Matrix : \\n\", confusion_matrix(y_test2, y_pred2))\n",
        "print (\"Accuracy : \", accuracy_score(y_test2, y_pred2))\n",
        "print (\"Precision : \", precision_score(y_test2, y_pred2, average='micro'))\n",
        "print (\"Recall : \", recall_score(y_test2, y_pred2, average='micro'))\n",
        "print (\"F1 : \", f1_score(y_test2, y_pred2, average='micro'))\n",
        "k_range= range(1,30,2)\n",
        "accuracy2=[]\n",
        "precision2=[]\n",
        "recall2=[]\n",
        "f12=[]\n",
        "for i in k_range:\n",
        "  data = KNeighborsClassifier(n_neighbors=i)\n",
        "  X_train2, X_test2, y_train2, y_test2 = train_test_split(X2, Y2, test_size=0.4,  random_state = 0)\n",
        "  data.fit(X_train2,y_train2)\n",
        "  y_pred2 = data.predict(X_test2) \n",
        "  accuracy2.append( accuracy_score(y_test2, y_pred2))\n",
        "  precision2.append( precision_score(y_test2, y_pred2, average='micro'))\n",
        "  recall2.append( recall_score(y_test2, y_pred2, average='micro'))\n",
        "  f12.append( f1_score(y_test2, y_pred2, average='micro'))\n",
        "plt.plot(k_range,accuracy2,label=\"Accuracy\")\n",
        "plt.plot(k_range,precision2,label=\"Precision\")\n",
        "plt.plot(k_range,recall2,label=\"Recall\")\n",
        "plt.plot(k_range,f12,label=\"F1\")\n",
        "plt.xlabel=(\"K\")\n",
        "plt.legend()"
      ],
      "metadata": {
        "id": "AEuOBxRg8wHY",
        "colab": {
          "base_uri": "https://localhost:8080/",
          "height": 543
        },
        "outputId": "6951175a-350a-4e2c-ed1b-98bf6bb06223"
      },
      "execution_count": 42,
      "outputs": [
        {
          "output_type": "stream",
          "name": "stderr",
          "text": [
            "/usr/local/lib/python3.8/dist-packages/sklearn/linear_model/_logistic.py:458: ConvergenceWarning: lbfgs failed to converge (status=1):\n",
            "STOP: TOTAL NO. of ITERATIONS REACHED LIMIT.\n",
            "\n",
            "Increase the number of iterations (max_iter) or scale the data as shown in:\n",
            "    https://scikit-learn.org/stable/modules/preprocessing.html\n",
            "Please also refer to the documentation for alternative solver options:\n",
            "    https://scikit-learn.org/stable/modules/linear_model.html#logistic-regression\n",
            "  n_iter_i = _check_optimize_result(\n"
          ]
        },
        {
          "output_type": "stream",
          "name": "stdout",
          "text": [
            "Confusion Matrix : \n",
            " [[803  38]\n",
            " [ 65 475]]\n",
            "Accuracy :  0.9254163649529327\n",
            "Precision :  0.9254163649529327\n",
            "Recall :  0.9254163649529327\n",
            "F1 :  0.9254163649529327\n"
          ]
        },
        {
          "output_type": "execute_result",
          "data": {
            "text/plain": [
              "<matplotlib.legend.Legend at 0x7f836ff38250>"
            ]
          },
          "metadata": {},
          "execution_count": 42
        },
        {
          "output_type": "display_data",
          "data": {
            "text/plain": [
              "<Figure size 432x288 with 1 Axes>"
            ],
            "image/png": "[encoded data removed]"
          },
          "metadata": {
            "needs_background": "light"
          }
        }
      ]
    },
    {
      "cell_type": "code",
      "source": [
        "ConfusionMatrixDisplay.from_estimator(data, X_test2, y_test2)"
      ],
      "metadata": {
        "colab": {
          "base_uri": "https://localhost:8080/",
          "height": 300
        },
        "id": "tqTtBcbAHv-5",
        "outputId": "d70649a7-b579-412f-ed14-c0c9d5c10cce"
      },
      "execution_count": 44,
      "outputs": [
        {
          "output_type": "execute_result",
          "data": {
            "text/plain": [
              "<sklearn.metrics._plot.confusion_matrix.ConfusionMatrixDisplay at 0x7f836f5f0af0>"
            ]
          },
          "metadata": {},
          "execution_count": 44
        },
        {
          "output_type": "display_data",
          "data": {
            "text/plain": [
              "<Figure size 432x288 with 2 Axes>"
            ],
            "image/png": "[encoded data removed]"
          },
          "metadata": {
            "needs_background": "light"
          }
        }
      ]
    },
    {
      "cell_type": "code",
      "source": [
        "from sklearn import tree\n",
        "from sklearn.tree import DecisionTreeClassifier"
      ],
      "metadata": {
        "id": "sSiqZehbRhZL"
      },
      "execution_count": 30,
      "outputs": []
    },
    {
      "cell_type": "code",
      "source": [
        "dtree = DecisionTreeClassifier()\n",
        "dtree = dtree.fit(X2, Y2)\n",
        "tree.plot_tree(dtree)"
      ],
      "metadata": {
        "colab": {
          "base_uri": "https://localhost:8080/",
          "height": 1000
        },
        "id": "iDsYybIRJm_s",
        "outputId": "86298e23-ffb8-4211-d1c6-3f4d812711cb"
      },
      "execution_count": 32,
      "outputs": [
        {
          "output_type": "execute_result",
          "data": {
            "text/plain": [
              "[Text(0.8729126865635158, 0.9857142857142858, 'x[52] <= 0.056\\ngini = 0.478\\nsamples = 4601\\nvalue = [2788, 1813]'),\n",
              " Text(0.7734983728315284, 0.9571428571428572, 'x[7] <= 0.055\\ngini = 0.36\\nsamples = 3471\\nvalue = [2655, 816]'),\n",
              " Text(0.6510138500799597, 0.9285714285714286, 'x[51] <= 0.378\\ngini = 0.275\\nsamples = 3141\\nvalue = [2625, 516]'),\n",
              " Text(0.5406551749986963, 0.9, 'x[16] <= 0.2\\ngini = 0.181\\nsamples = 2737\\nvalue = [2462, 275]'),\n",
              " Text(0.4550349063081229, 0.8714285714285714, 'x[23] <= 0.01\\ngini = 0.135\\nsamples = 2507\\nvalue = [2325, 182]'),\n",
              " Text(0.4162493046984999, 0.8428571428571429, 'x[22] <= 0.155\\ngini = 0.111\\nsamples = 2439\\nvalue = [2295, 144]'),\n",
              " Text(0.37872746788576195, 0.8142857142857143, 'x[55] <= 416.0\\ngini = 0.101\\nsamples = 2404\\nvalue = [2276, 128]'),\n",
              " Text(0.37427753828503885, 0.7857142857142857, 'x[5] <= 0.715\\ngini = 0.097\\nsamples = 2399\\nvalue = [2276, 123]'),\n",
              " Text(0.31703358306245544, 0.7571428571428571, 'x[27] <= 7.105\\ngini = 0.079\\nsamples = 2199\\nvalue = [2109, 90]'),\n",
              " Text(0.31258365346173234, 0.7285714285714285, 'x[4] <= 0.565\\ngini = 0.077\\nsamples = 2197\\nvalue = [2109, 88]'),\n",
              " Text(0.30813372386100923, 0.7, 'x[24] <= 0.015\\ngini = 0.075\\nsamples = 2195\\nvalue = [2109, 86]'),\n",
              " Text(0.26873837542804496, 0.6714285714285714, 'x[27] <= 0.23\\ngini = 0.11\\nsamples = 1367\\nvalue = [1287, 80]'),\n",
              " Text(0.23889690417007076, 0.6428571428571429, 'x[55] <= 9.5\\ngini = 0.095\\nsamples = 1340\\nvalue = [1273, 67]'),\n",
              " Text(0.2036885744580994, 0.6142857142857143, 'x[21] <= 10.91\\ngini = 0.053\\nsamples = 918\\nvalue = [893, 25]'),\n",
              " Text(0.19923864485737627, 0.5857142857142857, 'x[20] <= 9.72\\ngini = 0.051\\nsamples = 917\\nvalue = [893, 24]'),\n",
              " Text(0.19478871525665317, 0.5571428571428572, 'x[17] <= 2.89\\ngini = 0.049\\nsamples = 916\\nvalue = [893, 23]'),\n",
              " Text(0.19033878565593004, 0.5285714285714286, 'x[35] <= 0.555\\ngini = 0.047\\nsamples = 915\\nvalue = [893, 22]'),\n",
              " Text(0.1759808096785969, 0.5, 'x[11] <= 0.55\\ngini = 0.041\\nsamples = 901\\nvalue = [882, 19]'),\n",
              " Text(0.16061464652609989, 0.4714285714285714, 'x[12] <= 6.065\\ngini = 0.039\\nsamples = 899\\nvalue = [881, 18]'),\n",
              " Text(0.1432321090232752, 0.44285714285714284, 'x[21] <= 4.91\\ngini = 0.037\\nsamples = 896\\nvalue = [879, 17]'),\n",
              " Text(0.12181682281979524, 0.4142857142857143, 'x[10] <= 0.355\\ngini = 0.033\\nsamples = 882\\nvalue = [867, 15]'),\n",
              " Text(0.10568582801717395, 0.38571428571428573, 'x[18] <= 1.9\\ngini = 0.028\\nsamples = 844\\nvalue = [832, 12]'),\n",
              " Text(0.09122355681482383, 0.35714285714285715, 'x[54] <= 1.276\\ngini = 0.026\\nsamples = 836\\nvalue = [825, 11]'),\n",
              " Text(0.07564880321229293, 0.32857142857142857, 'x[54] <= 1.265\\ngini = 0.046\\nsamples = 420\\nvalue = [410, 10]'),\n",
              " Text(0.05784908480940048, 0.3, 'x[19] <= 4.725\\ngini = 0.034\\nsamples = 410\\nvalue = [403, 7]'),\n",
              " Text(0.040049366406508025, 0.2714285714285714, 'x[56] <= 31.5\\ngini = 0.022\\nsamples = 359\\nvalue = [355, 4]'),\n",
              " Text(0.031149507205061794, 0.24285714285714285, 'x[56] <= 6.5\\ngini = 0.006\\nsamples = 309\\nvalue = [308, 1]'),\n",
              " Text(0.026699577604338682, 0.21428571428571427, 'gini = 0.0\\nsamples = 177\\nvalue = [177, 0]'),\n",
              " Text(0.03559943680578491, 0.21428571428571427, 'x[56] <= 7.5\\ngini = 0.015\\nsamples = 132\\nvalue = [131, 1]'),\n",
              " Text(0.031149507205061794, 0.18571428571428572, 'x[55] <= 1.5\\ngini = 0.091\\nsamples = 21\\nvalue = [20, 1]'),\n",
              " Text(0.026699577604338682, 0.15714285714285714, 'x[26] <= 2.08\\ngini = 0.133\\nsamples = 14\\nvalue = [13, 1]'),\n",
              " Text(0.022249648003615567, 0.12857142857142856, 'x[19] <= 1.47\\ngini = 0.245\\nsamples = 7\\nvalue = [6, 1]'),\n",
              " Text(0.017799718402892455, 0.1, 'x[45] <= 1.56\\ngini = 0.32\\nsamples = 5\\nvalue = [4, 1]'),\n",
              " Text(0.013349788802169341, 0.07142857142857142, 'x[44] <= 3.125\\ngini = 0.444\\nsamples = 3\\nvalue = [2, 1]'),\n",
              " Text(0.008899859201446227, 0.04285714285714286, 'x[41] <= 2.63\\ngini = 0.5\\nsamples = 2\\nvalue = [1, 1]'),\n",
              " Text(0.004449929600723114, 0.014285714285714285, 'gini = 0.0\\nsamples = 1\\nvalue = [0, 1]'),\n",
              " Text(0.013349788802169341, 0.014285714285714285, 'gini = 0.0\\nsamples = 1\\nvalue = [1, 0]'),\n",
              " Text(0.017799718402892455, 0.04285714285714286, 'gini = 0.0\\nsamples = 1\\nvalue = [1, 0]'),\n",
              " Text(0.022249648003615567, 0.07142857142857142, 'gini = 0.0\\nsamples = 2\\nvalue = [2, 0]'),\n",
              " Text(0.026699577604338682, 0.1, 'gini = 0.0\\nsamples = 2\\nvalue = [2, 0]'),\n",
              " Text(0.031149507205061794, 0.12857142857142856, 'gini = 0.0\\nsamples = 7\\nvalue = [7, 0]'),\n",
              " Text(0.03559943680578491, 0.15714285714285714, 'gini = 0.0\\nsamples = 7\\nvalue = [7, 0]'),\n",
              " Text(0.040049366406508025, 0.18571428571428572, 'gini = 0.0\\nsamples = 111\\nvalue = [111, 0]'),\n",
              " Text(0.04894922560795425, 0.24285714285714285, 'x[56] <= 32.5\\ngini = 0.113\\nsamples = 50\\nvalue = [47, 3]'),\n",
              " Text(0.04449929600723113, 0.21428571428571427, 'gini = 0.0\\nsamples = 2\\nvalue = [0, 2]'),\n",
              " Text(0.053399155208677364, 0.21428571428571427, 'x[19] <= 0.115\\ngini = 0.041\\nsamples = 48\\nvalue = [47, 1]'),\n",
              " Text(0.04894922560795425, 0.18571428571428572, 'x[54] <= 1.129\\ngini = 0.32\\nsamples = 5\\nvalue = [4, 1]'),\n",
              " Text(0.04449929600723113, 0.15714285714285714, 'gini = 0.0\\nsamples = 1\\nvalue = [0, 1]'),\n",
              " Text(0.053399155208677364, 0.15714285714285714, 'gini = 0.0\\nsamples = 4\\nvalue = [4, 0]'),\n",
              " Text(0.05784908480940048, 0.18571428571428572, 'gini = 0.0\\nsamples = 43\\nvalue = [43, 0]'),\n",
              " Text(0.07564880321229293, 0.2714285714285714, 'x[19] <= 4.78\\ngini = 0.111\\nsamples = 51\\nvalue = [48, 3]'),\n",
              " Text(0.0667489440108467, 0.24285714285714285, 'x[54] <= 1.038\\ngini = 0.444\\nsamples = 3\\nvalue = [1, 2]'),\n",
              " Text(0.06229901441012359, 0.21428571428571427, 'gini = 0.0\\nsamples = 2\\nvalue = [0, 2]'),\n",
              " Text(0.07119887361156982, 0.21428571428571427, 'gini = 0.0\\nsamples = 1\\nvalue = [1, 0]'),\n",
              " Text(0.08454866241373916, 0.24285714285714285, 'x[21] <= 1.615\\ngini = 0.041\\nsamples = 48\\nvalue = [47, 1]'),\n",
              " Text(0.08009873281301605, 0.21428571428571427, 'gini = 0.0\\nsamples = 40\\nvalue = [40, 0]'),\n",
              " Text(0.08899859201446227, 0.21428571428571427, 'x[21] <= 1.72\\ngini = 0.219\\nsamples = 8\\nvalue = [7, 1]'),\n",
              " Text(0.08454866241373916, 0.18571428571428572, 'gini = 0.0\\nsamples = 1\\nvalue = [0, 1]'),\n",
              " Text(0.09344852161518538, 0.18571428571428572, 'gini = 0.0\\nsamples = 7\\nvalue = [7, 0]'),\n",
              " Text(0.09344852161518538, 0.3, 'x[19] <= 0.33\\ngini = 0.42\\nsamples = 10\\nvalue = [7, 3]'),\n",
              " Text(0.08899859201446227, 0.2714285714285714, 'gini = 0.0\\nsamples = 2\\nvalue = [0, 2]'),\n",
              " Text(0.0978984512159085, 0.2714285714285714, 'x[12] <= 1.545\\ngini = 0.219\\nsamples = 8\\nvalue = [7, 1]'),\n",
              " Text(0.09344852161518538, 0.24285714285714285, 'gini = 0.0\\nsamples = 7\\nvalue = [7, 0]'),\n",
              " Text(0.10234838081663161, 0.24285714285714285, 'gini = 0.0\\nsamples = 1\\nvalue = [0, 1]'),\n",
              " Text(0.10679831041735473, 0.32857142857142857, 'x[12] <= 1.135\\ngini = 0.005\\nsamples = 416\\nvalue = [415, 1]'),\n",
              " Text(0.10234838081663161, 0.3, 'gini = 0.0\\nsamples = 350\\nvalue = [350, 0]'),\n",
              " Text(0.11124824001807784, 0.3, 'x[12] <= 1.145\\ngini = 0.03\\nsamples = 66\\nvalue = [65, 1]'),\n",
              " Text(0.10679831041735473, 0.2714285714285714, 'gini = 0.0\\nsamples = 1\\nvalue = [0, 1]'),\n",
              " Text(0.11569816961880096, 0.2714285714285714, 'gini = 0.0\\nsamples = 65\\nvalue = [65, 0]'),\n",
              " Text(0.12014809921952406, 0.35714285714285715, 'x[55] <= 5.5\\ngini = 0.219\\nsamples = 8\\nvalue = [7, 1]'),\n",
              " Text(0.11569816961880096, 0.32857142857142857, 'gini = 0.0\\nsamples = 7\\nvalue = [7, 0]'),\n",
              " Text(0.12459802882024718, 0.32857142857142857, 'gini = 0.0\\nsamples = 1\\nvalue = [0, 1]'),\n",
              " Text(0.1379478176224165, 0.38571428571428573, 'x[10] <= 0.365\\ngini = 0.145\\nsamples = 38\\nvalue = [35, 3]'),\n",
              " Text(0.1334978880216934, 0.35714285714285715, 'gini = 0.0\\nsamples = 1\\nvalue = [0, 1]'),\n",
              " Text(0.14239774722313964, 0.35714285714285715, 'x[12] <= 2.23\\ngini = 0.102\\nsamples = 37\\nvalue = [35, 2]'),\n",
              " Text(0.1334978880216934, 0.32857142857142857, 'x[10] <= 3.625\\ngini = 0.057\\nsamples = 34\\nvalue = [33, 1]'),\n",
              " Text(0.1290479584209703, 0.3, 'gini = 0.0\\nsamples = 28\\nvalue = [28, 0]'),\n",
              " Text(0.1379478176224165, 0.3, 'x[10] <= 3.96\\ngini = 0.278\\nsamples = 6\\nvalue = [5, 1]'),\n",
              " Text(0.1334978880216934, 0.2714285714285714, 'gini = 0.0\\nsamples = 1\\nvalue = [0, 1]'),\n",
              " Text(0.14239774722313964, 0.2714285714285714, 'gini = 0.0\\nsamples = 5\\nvalue = [5, 0]'),\n",
              " Text(0.15129760642458587, 0.32857142857142857, 'x[12] <= 2.345\\ngini = 0.444\\nsamples = 3\\nvalue = [2, 1]'),\n",
              " Text(0.14684767682386274, 0.3, 'gini = 0.0\\nsamples = 1\\nvalue = [0, 1]'),\n",
              " Text(0.15574753602530897, 0.3, 'gini = 0.0\\nsamples = 2\\nvalue = [2, 0]'),\n",
              " Text(0.1646473952267552, 0.4142857142857143, 'x[56] <= 40.5\\ngini = 0.245\\nsamples = 14\\nvalue = [12, 2]'),\n",
              " Text(0.1601974656260321, 0.38571428571428573, 'x[54] <= 1.416\\ngini = 0.142\\nsamples = 13\\nvalue = [12, 1]'),\n",
              " Text(0.15574753602530897, 0.35714285714285715, 'gini = 0.0\\nsamples = 10\\nvalue = [10, 0]'),\n",
              " Text(0.1646473952267552, 0.35714285714285715, 'x[19] <= 4.79\\ngini = 0.444\\nsamples = 3\\nvalue = [2, 1]'),\n",
              " Text(0.1601974656260321, 0.32857142857142857, 'gini = 0.0\\nsamples = 2\\nvalue = [2, 0]'),\n",
              " Text(0.16909732482747833, 0.32857142857142857, 'gini = 0.0\\nsamples = 1\\nvalue = [0, 1]'),\n",
              " Text(0.16909732482747833, 0.38571428571428573, 'gini = 0.0\\nsamples = 1\\nvalue = [0, 1]'),\n",
              " Text(0.17799718402892453, 0.44285714285714284, 'x[54] <= 1.346\\ngini = 0.444\\nsamples = 3\\nvalue = [2, 1]'),\n",
              " Text(0.17354725442820143, 0.4142857142857143, 'gini = 0.0\\nsamples = 1\\nvalue = [0, 1]'),\n",
              " Text(0.18244711362964766, 0.4142857142857143, 'gini = 0.0\\nsamples = 2\\nvalue = [2, 0]'),\n",
              " Text(0.1913469728310939, 0.4714285714285714, 'x[21] <= 2.745\\ngini = 0.5\\nsamples = 2\\nvalue = [1, 1]'),\n",
              " Text(0.18689704323037076, 0.44285714285714284, 'gini = 0.0\\nsamples = 1\\nvalue = [0, 1]'),\n",
              " Text(0.195796902431817, 0.44285714285714284, 'gini = 0.0\\nsamples = 1\\nvalue = [1, 0]'),\n",
              " Text(0.20469676163326322, 0.5, 'x[21] <= 0.795\\ngini = 0.337\\nsamples = 14\\nvalue = [11, 3]'),\n",
              " Text(0.20024683203254012, 0.4714285714285714, 'gini = 0.0\\nsamples = 11\\nvalue = [11, 0]'),\n",
              " Text(0.20914669123398633, 0.4714285714285714, 'gini = 0.0\\nsamples = 3\\nvalue = [0, 3]'),\n",
              " Text(0.19923864485737627, 0.5285714285714286, 'gini = 0.0\\nsamples = 1\\nvalue = [0, 1]'),\n",
              " Text(0.2036885744580994, 0.5571428571428572, 'gini = 0.0\\nsamples = 1\\nvalue = [0, 1]'),\n",
              " Text(0.2081385040588225, 0.5857142857142857, 'gini = 0.0\\nsamples = 1\\nvalue = [0, 1]'),\n",
              " Text(0.2741052338820421, 0.6142857142857143, 'x[6] <= 0.785\\ngini = 0.179\\nsamples = 422\\nvalue = [380, 42]'),\n",
              " Text(0.2585304802795112, 0.5857142857142857, 'x[19] <= 6.09\\ngini = 0.159\\nsamples = 413\\nvalue = [377, 36]'),\n",
              " Text(0.24963062107806497, 0.5571428571428572, 'x[1] <= 2.16\\ngini = 0.142\\nsamples = 403\\nvalue = [372, 31]'),\n",
              " Text(0.24518069147734187, 0.5285714285714286, 'x[0] <= 0.46\\ngini = 0.134\\nsamples = 401\\nvalue = [372, 29]'),\n",
              " Text(0.24073076187661874, 0.5, 'x[45] <= 0.045\\ngini = 0.126\\nsamples = 399\\nvalue = [372, 27]'),\n",
              " Text(0.2279545968120426, 0.4714285714285714, 'x[26] <= 0.035\\ngini = 0.191\\nsamples = 243\\nvalue = [217, 26]'),\n",
              " Text(0.2235046672113195, 0.44285714285714284, 'x[17] <= 0.135\\ngini = 0.255\\nsamples = 173\\nvalue = [147, 26]'),\n",
              " Text(0.20240226668289038, 0.4142857142857143, 'x[55] <= 32.5\\ngini = 0.22\\nsamples = 159\\nvalue = [139, 20]'),\n",
              " Text(0.18689704323037076, 0.38571428571428573, 'x[16] <= 0.135\\ngini = 0.146\\nsamples = 126\\nvalue = [116, 10]'),\n",
              " Text(0.18244711362964766, 0.35714285714285715, 'x[10] <= 3.64\\ngini = 0.134\\nsamples = 125\\nvalue = [116, 9]'),\n",
              " Text(0.17799718402892453, 0.32857142857142857, 'x[19] <= 3.925\\ngini = 0.121\\nsamples = 124\\nvalue = [116, 8]'),\n",
              " Text(0.1647864555267778, 0.3, 'x[50] <= 0.07\\ngini = 0.097\\nsamples = 118\\nvalue = [112, 6]'),\n",
              " Text(0.15171478732465365, 0.2714285714285714, 'x[35] <= 0.69\\ngini = 0.082\\nsamples = 116\\nvalue = [111, 5]'),\n",
              " Text(0.1389212397225747, 0.24285714285714285, 'x[56] <= 19.5\\ngini = 0.068\\nsamples = 114\\nvalue = [110, 4]'),\n",
              " Text(0.12668393332058614, 0.21428571428571427, 'x[49] <= 0.289\\ngini = 0.444\\nsamples = 3\\nvalue = [2, 1]'),\n",
              " Text(0.12223400371986302, 0.18571428571428572, 'gini = 0.0\\nsamples = 2\\nvalue = [2, 0]'),\n",
              " Text(0.13113386292130924, 0.18571428571428572, 'gini = 0.0\\nsamples = 1\\nvalue = [0, 1]'),\n",
              " Text(0.15115854612456325, 0.21428571428571427, 'x[51] <= 0.302\\ngini = 0.053\\nsamples = 111\\nvalue = [108, 3]'),\n",
              " Text(0.14003372212275547, 0.18571428571428572, 'x[12] <= 2.36\\ngini = 0.037\\nsamples = 106\\nvalue = [104, 2]'),\n",
              " Text(0.13113386292130924, 0.15714285714285714, 'x[56] <= 33.5\\ngini = 0.02\\nsamples = 99\\nvalue = [98, 1]'),\n",
              " Text(0.12668393332058614, 0.12857142857142856, 'x[56] <= 32.5\\ngini = 0.18\\nsamples = 10\\nvalue = [9, 1]'),\n",
              " Text(0.12223400371986302, 0.1, 'gini = 0.0\\nsamples = 9\\nvalue = [9, 0]'),\n",
              " Text(0.13113386292130924, 0.1, 'gini = 0.0\\nsamples = 1\\nvalue = [0, 1]'),\n",
              " Text(0.13558379252203237, 0.12857142857142856, 'gini = 0.0\\nsamples = 89\\nvalue = [89, 0]'),\n",
              " Text(0.1489335813242017, 0.15714285714285714, 'x[21] <= 3.58\\ngini = 0.245\\nsamples = 7\\nvalue = [6, 1]'),\n",
              " Text(0.1444836517234786, 0.12857142857142856, 'gini = 0.0\\nsamples = 6\\nvalue = [6, 0]'),\n",
              " Text(0.15338351092492483, 0.12857142857142856, 'gini = 0.0\\nsamples = 1\\nvalue = [0, 1]'),\n",
              " Text(0.16228337012637103, 0.18571428571428572, 'x[21] <= 1.08\\ngini = 0.32\\nsamples = 5\\nvalue = [4, 1]'),\n",
              " Text(0.15783344052564793, 0.15714285714285714, 'gini = 0.0\\nsamples = 4\\nvalue = [4, 0]'),\n",
              " Text(0.16673329972709416, 0.15714285714285714, 'gini = 0.0\\nsamples = 1\\nvalue = [0, 1]'),\n",
              " Text(0.1645083349267326, 0.24285714285714285, 'x[18] <= 0.215\\ngini = 0.5\\nsamples = 2\\nvalue = [1, 1]'),\n",
              " Text(0.16005840532600948, 0.21428571428571427, 'gini = 0.0\\nsamples = 1\\nvalue = [1, 0]'),\n",
              " Text(0.16895826452745571, 0.21428571428571427, 'gini = 0.0\\nsamples = 1\\nvalue = [0, 1]'),\n",
              " Text(0.17785812372890195, 0.2714285714285714, 'x[50] <= 0.122\\ngini = 0.5\\nsamples = 2\\nvalue = [1, 1]'),\n",
              " Text(0.17340819412817884, 0.24285714285714285, 'gini = 0.0\\nsamples = 1\\nvalue = [0, 1]'),\n",
              " Text(0.18230805332962505, 0.24285714285714285, 'gini = 0.0\\nsamples = 1\\nvalue = [1, 0]'),\n",
              " Text(0.19120791253107128, 0.3, 'x[19] <= 4.685\\ngini = 0.444\\nsamples = 6\\nvalue = [4, 2]'),\n",
              " Text(0.18675798293034818, 0.2714285714285714, 'gini = 0.0\\nsamples = 2\\nvalue = [0, 2]'),\n",
              " Text(0.1956578421317944, 0.2714285714285714, 'gini = 0.0\\nsamples = 4\\nvalue = [4, 0]'),\n",
              " Text(0.18689704323037076, 0.32857142857142857, 'gini = 0.0\\nsamples = 1\\nvalue = [0, 1]'),\n",
              " Text(0.1913469728310939, 0.35714285714285715, 'gini = 0.0\\nsamples = 1\\nvalue = [0, 1]'),\n",
              " Text(0.21790749013540997, 0.38571428571428573, 'x[55] <= 51.5\\ngini = 0.422\\nsamples = 33\\nvalue = [23, 10]'),\n",
              " Text(0.20900763093396374, 0.35714285714285715, 'x[56] <= 88.5\\ngini = 0.49\\nsamples = 14\\nvalue = [6, 8]'),\n",
              " Text(0.20455770133324064, 0.32857142857142857, 'gini = 0.0\\nsamples = 4\\nvalue = [4, 0]'),\n",
              " Text(0.21345756053468684, 0.32857142857142857, 'x[28] <= 0.67\\ngini = 0.32\\nsamples = 10\\nvalue = [2, 8]'),\n",
              " Text(0.20900763093396374, 0.3, 'x[25] <= 1.6\\ngini = 0.198\\nsamples = 9\\nvalue = [1, 8]'),\n",
              " Text(0.20455770133324064, 0.2714285714285714, 'gini = 0.0\\nsamples = 8\\nvalue = [0, 8]'),\n",
              " Text(0.21345756053468684, 0.2714285714285714, 'gini = 0.0\\nsamples = 1\\nvalue = [1, 0]'),\n",
              " Text(0.21790749013540997, 0.3, 'gini = 0.0\\nsamples = 1\\nvalue = [1, 0]'),\n",
              " Text(0.2268073493368562, 0.35714285714285715, 'x[5] <= 0.085\\ngini = 0.188\\nsamples = 19\\nvalue = [17, 2]'),\n",
              " Text(0.22235741973613307, 0.32857142857142857, 'gini = 0.0\\nsamples = 16\\nvalue = [16, 0]'),\n",
              " Text(0.2312572789375793, 0.32857142857142857, 'x[3] <= 0.255\\ngini = 0.444\\nsamples = 3\\nvalue = [1, 2]'),\n",
              " Text(0.2268073493368562, 0.3, 'gini = 0.0\\nsamples = 2\\nvalue = [0, 2]'),\n",
              " Text(0.23570720853830243, 0.3, 'gini = 0.0\\nsamples = 1\\nvalue = [1, 0]'),\n",
              " Text(0.24460706773974863, 0.4142857142857143, 'x[51] <= 0.056\\ngini = 0.49\\nsamples = 14\\nvalue = [8, 6]'),\n",
              " Text(0.24015713813902553, 0.38571428571428573, 'x[6] <= 0.16\\ngini = 0.397\\nsamples = 11\\nvalue = [8, 3]'),\n",
              " Text(0.23570720853830243, 0.35714285714285715, 'gini = 0.0\\nsamples = 8\\nvalue = [8, 0]'),\n",
              " Text(0.24460706773974863, 0.35714285714285715, 'gini = 0.0\\nsamples = 3\\nvalue = [0, 3]'),\n",
              " Text(0.24905699734047176, 0.38571428571428573, 'gini = 0.0\\nsamples = 3\\nvalue = [0, 3]'),\n",
              " Text(0.23240452641276574, 0.44285714285714284, 'gini = 0.0\\nsamples = 70\\nvalue = [70, 0]'),\n",
              " Text(0.25350692694119487, 0.4714285714285714, 'x[49] <= 0.35\\ngini = 0.013\\nsamples = 156\\nvalue = [155, 1]'),\n",
              " Text(0.24905699734047176, 0.44285714285714284, 'gini = 0.0\\nsamples = 149\\nvalue = [149, 0]'),\n",
              " Text(0.25795685654191797, 0.44285714285714284, 'x[49] <= 0.38\\ngini = 0.245\\nsamples = 7\\nvalue = [6, 1]'),\n",
              " Text(0.25350692694119487, 0.4142857142857143, 'gini = 0.0\\nsamples = 1\\nvalue = [0, 1]'),\n",
              " Text(0.2624067861426411, 0.4142857142857143, 'gini = 0.0\\nsamples = 6\\nvalue = [6, 0]'),\n",
              " Text(0.24963062107806497, 0.5, 'gini = 0.0\\nsamples = 2\\nvalue = [0, 2]'),\n",
              " Text(0.2540805506787881, 0.5285714285714286, 'gini = 0.0\\nsamples = 2\\nvalue = [0, 2]'),\n",
              " Text(0.26743033948095746, 0.5571428571428572, 'x[44] <= 0.585\\ngini = 0.5\\nsamples = 10\\nvalue = [5, 5]'),\n",
              " Text(0.2629804098802343, 0.5285714285714286, 'gini = 0.0\\nsamples = 5\\nvalue = [0, 5]'),\n",
              " Text(0.27188026908168056, 0.5285714285714286, 'gini = 0.0\\nsamples = 5\\nvalue = [5, 0]'),\n",
              " Text(0.289679987484573, 0.5857142857142857, 'x[38] <= 0.405\\ngini = 0.444\\nsamples = 9\\nvalue = [3, 6]'),\n",
              " Text(0.28523005788384986, 0.5571428571428572, 'x[50] <= 0.036\\ngini = 0.245\\nsamples = 7\\nvalue = [1, 6]'),\n",
              " Text(0.28078012828312676, 0.5285714285714286, 'gini = 0.0\\nsamples = 6\\nvalue = [0, 6]'),\n",
              " Text(0.289679987484573, 0.5285714285714286, 'gini = 0.0\\nsamples = 1\\nvalue = [1, 0]'),\n",
              " Text(0.2941299170852961, 0.5571428571428572, 'gini = 0.0\\nsamples = 2\\nvalue = [2, 0]'),\n",
              " Text(0.2985798466860192, 0.6428571428571429, 'x[55] <= 19.5\\ngini = 0.499\\nsamples = 27\\nvalue = [14, 13]'),\n",
              " Text(0.2941299170852961, 0.6142857142857143, 'gini = 0.0\\nsamples = 12\\nvalue = [12, 0]'),\n",
              " Text(0.3030297762867423, 0.6142857142857143, 'x[34] <= 0.145\\ngini = 0.231\\nsamples = 15\\nvalue = [2, 13]'),\n",
              " Text(0.2985798466860192, 0.5857142857142857, 'gini = 0.0\\nsamples = 13\\nvalue = [0, 13]'),\n",
              " Text(0.3074797058874654, 0.5857142857142857, 'gini = 0.0\\nsamples = 2\\nvalue = [2, 0]'),\n",
              " Text(0.34752907229397345, 0.6714285714285714, 'x[11] <= 1.13\\ngini = 0.014\\nsamples = 828\\nvalue = [822, 6]'),\n",
              " Text(0.34307914269325035, 0.6428571428571429, 'x[56] <= 2429.5\\ngini = 0.01\\nsamples = 826\\nvalue = [822, 4]'),\n",
              " Text(0.32972935389108105, 0.6142857142857143, 'x[52] <= 0.053\\ngini = 0.007\\nsamples = 822\\nvalue = [819, 3]'),\n",
              " Text(0.3163795650889117, 0.5857142857142857, 'x[32] <= 1.02\\ngini = 0.005\\nsamples = 814\\nvalue = [812, 2]'),\n",
              " Text(0.3030297762867423, 0.5571428571428572, 'x[43] <= 0.385\\ngini = 0.003\\nsamples = 773\\nvalue = [772, 1]'),\n",
              " Text(0.2985798466860192, 0.5285714285714286, 'gini = 0.0\\nsamples = 726\\nvalue = [726, 0]'),\n",
              " Text(0.3074797058874654, 0.5285714285714286, 'x[43] <= 0.395\\ngini = 0.042\\nsamples = 47\\nvalue = [46, 1]'),\n",
              " Text(0.3030297762867423, 0.5, 'gini = 0.0\\nsamples = 1\\nvalue = [0, 1]'),\n",
              " Text(0.3119296354881886, 0.5, 'gini = 0.0\\nsamples = 46\\nvalue = [46, 0]'),\n",
              " Text(0.32972935389108105, 0.5571428571428572, 'x[32] <= 1.04\\ngini = 0.048\\nsamples = 41\\nvalue = [40, 1]'),\n",
              " Text(0.3252794242903579, 0.5285714285714286, 'x[25] <= 0.515\\ngini = 0.5\\nsamples = 2\\nvalue = [1, 1]'),\n",
              " Text(0.3208294946896348, 0.5, 'gini = 0.0\\nsamples = 1\\nvalue = [0, 1]'),\n",
              " Text(0.32972935389108105, 0.5, 'gini = 0.0\\nsamples = 1\\nvalue = [1, 0]'),\n",
              " Text(0.33417928349180415, 0.5285714285714286, 'gini = 0.0\\nsamples = 39\\nvalue = [39, 0]'),\n",
              " Text(0.34307914269325035, 0.5857142857142857, 'x[11] <= 0.055\\ngini = 0.219\\nsamples = 8\\nvalue = [7, 1]'),\n",
              " Text(0.33862921309252725, 0.5571428571428572, 'gini = 0.0\\nsamples = 6\\nvalue = [6, 0]'),\n",
              " Text(0.34752907229397345, 0.5571428571428572, 'gini = 0.5\\nsamples = 2\\nvalue = [1, 1]'),\n",
              " Text(0.3564289314954197, 0.6142857142857143, 'x[50] <= 0.043\\ngini = 0.375\\nsamples = 4\\nvalue = [3, 1]'),\n",
              " Text(0.3519790018946966, 0.5857142857142857, 'gini = 0.0\\nsamples = 1\\nvalue = [0, 1]'),\n",
              " Text(0.3608788610961428, 0.5857142857142857, 'gini = 0.0\\nsamples = 3\\nvalue = [3, 0]'),\n",
              " Text(0.3519790018946966, 0.6428571428571429, 'gini = 0.0\\nsamples = 2\\nvalue = [0, 2]'),\n",
              " Text(0.31703358306245544, 0.7, 'gini = 0.0\\nsamples = 2\\nvalue = [0, 2]'),\n",
              " Text(0.3214835126631786, 0.7285714285714285, 'gini = 0.0\\nsamples = 2\\nvalue = [0, 2]'),\n",
              " Text(0.43152149350762226, 0.7571428571428571, 'x[8] <= 0.335\\ngini = 0.276\\nsamples = 200\\nvalue = [167, 33]'),\n",
              " Text(0.41705922230527215, 0.7285714285714285, 'x[54] <= 5.74\\ngini = 0.216\\nsamples = 187\\nvalue = [164, 23]'),\n",
              " Text(0.412609292704549, 0.7, 'x[18] <= 0.435\\ngini = 0.186\\nsamples = 183\\nvalue = [164, 19]'),\n",
              " Text(0.39703453910201814, 0.6714285714285714, 'x[54] <= 3.676\\ngini = 0.15\\nsamples = 172\\nvalue = [158, 14]'),\n",
              " Text(0.3881346799005719, 0.6428571428571429, 'x[17] <= 1.035\\ngini = 0.124\\nsamples = 165\\nvalue = [154, 11]'),\n",
              " Text(0.3836847502998488, 0.6142857142857143, 'x[21] <= 3.555\\ngini = 0.115\\nsamples = 164\\nvalue = [154, 10]'),\n",
              " Text(0.3792348206991257, 0.5857142857142857, 'x[10] <= 0.18\\ngini = 0.104\\nsamples = 163\\nvalue = [154, 9]'),\n",
              " Text(0.3619913434963236, 0.5571428571428572, 'x[11] <= 0.36\\ngini = 0.058\\nsamples = 135\\nvalue = [131, 4]'),\n",
              " Text(0.34975403709433506, 0.5285714285714286, 'x[5] <= 7.415\\ngini = 0.044\\nsamples = 133\\nvalue = [130, 3]'),\n",
              " Text(0.33862921309252725, 0.5, 'x[3] <= 2.135\\ngini = 0.031\\nsamples = 129\\nvalue = [127, 2]'),\n",
              " Text(0.32972935389108105, 0.4714285714285714, 'x[19] <= 4.63\\ngini = 0.016\\nsamples = 125\\nvalue = [124, 1]'),\n",
              " Text(0.3252794242903579, 0.44285714285714284, 'gini = 0.0\\nsamples = 120\\nvalue = [120, 0]'),\n",
              " Text(0.33417928349180415, 0.44285714285714284, 'x[19] <= 4.835\\ngini = 0.32\\nsamples = 5\\nvalue = [4, 1]'),\n",
              " Text(0.32972935389108105, 0.4142857142857143, 'gini = 0.0\\nsamples = 1\\nvalue = [0, 1]'),\n",
              " Text(0.33862921309252725, 0.4142857142857143, 'gini = 0.0\\nsamples = 4\\nvalue = [4, 0]'),\n",
              " Text(0.34752907229397345, 0.4714285714285714, 'x[56] <= 44.5\\ngini = 0.375\\nsamples = 4\\nvalue = [3, 1]'),\n",
              " Text(0.34307914269325035, 0.44285714285714284, 'gini = 0.0\\nsamples = 3\\nvalue = [3, 0]'),\n",
              " Text(0.3519790018946966, 0.44285714285714284, 'gini = 0.0\\nsamples = 1\\nvalue = [0, 1]'),\n",
              " Text(0.3608788610961428, 0.5, 'x[5] <= 8.01\\ngini = 0.375\\nsamples = 4\\nvalue = [3, 1]'),\n",
              " Text(0.3564289314954197, 0.4714285714285714, 'gini = 0.0\\nsamples = 1\\nvalue = [0, 1]'),\n",
              " Text(0.3653287906968659, 0.4714285714285714, 'gini = 0.0\\nsamples = 3\\nvalue = [3, 0]'),\n",
              " Text(0.37422864989831217, 0.5285714285714286, 'x[2] <= 0.36\\ngini = 0.5\\nsamples = 2\\nvalue = [1, 1]'),\n",
              " Text(0.36977872029758907, 0.5, 'gini = 0.0\\nsamples = 1\\nvalue = [1, 0]'),\n",
              " Text(0.3786785794990353, 0.5, 'gini = 0.0\\nsamples = 1\\nvalue = [0, 1]'),\n",
              " Text(0.39647829790192773, 0.5571428571428572, 'x[56] <= 226.0\\ngini = 0.293\\nsamples = 28\\nvalue = [23, 5]'),\n",
              " Text(0.39202836830120463, 0.5285714285714286, 'x[45] <= 0.66\\ngini = 0.204\\nsamples = 26\\nvalue = [23, 3]'),\n",
              " Text(0.3875784387004815, 0.5, 'x[54] <= 1.121\\ngini = 0.147\\nsamples = 25\\nvalue = [23, 2]'),\n",
              " Text(0.3831285090997584, 0.4714285714285714, 'gini = 0.0\\nsamples = 1\\nvalue = [0, 1]'),\n",
              " Text(0.39202836830120463, 0.4714285714285714, 'x[17] <= 0.6\\ngini = 0.08\\nsamples = 24\\nvalue = [23, 1]'),\n",
              " Text(0.3875784387004815, 0.44285714285714284, 'gini = 0.0\\nsamples = 23\\nvalue = [23, 0]'),\n",
              " Text(0.39647829790192773, 0.44285714285714284, 'gini = 0.0\\nsamples = 1\\nvalue = [0, 1]'),\n",
              " Text(0.39647829790192773, 0.5, 'gini = 0.0\\nsamples = 1\\nvalue = [0, 1]'),\n",
              " Text(0.40092822750265084, 0.5285714285714286, 'gini = 0.0\\nsamples = 2\\nvalue = [0, 2]'),\n",
              " Text(0.3881346799005719, 0.5857142857142857, 'gini = 0.0\\nsamples = 1\\nvalue = [0, 1]'),\n",
              " Text(0.392584609501295, 0.6142857142857143, 'gini = 0.0\\nsamples = 1\\nvalue = [0, 1]'),\n",
              " Text(0.40593439830346434, 0.6428571428571429, 'x[54] <= 3.888\\ngini = 0.49\\nsamples = 7\\nvalue = [4, 3]'),\n",
              " Text(0.40148446870274124, 0.6142857142857143, 'gini = 0.0\\nsamples = 3\\nvalue = [0, 3]'),\n",
              " Text(0.41038432790418744, 0.6142857142857143, 'gini = 0.0\\nsamples = 4\\nvalue = [4, 0]'),\n",
              " Text(0.4281840463070799, 0.6714285714285714, 'x[51] <= 0.055\\ngini = 0.496\\nsamples = 11\\nvalue = [6, 5]'),\n",
              " Text(0.4237341167063568, 0.6428571428571429, 'x[18] <= 0.55\\ngini = 0.245\\nsamples = 7\\nvalue = [6, 1]'),\n",
              " Text(0.4192841871056337, 0.6142857142857143, 'gini = 0.0\\nsamples = 1\\nvalue = [0, 1]'),\n",
              " Text(0.4281840463070799, 0.6142857142857143, 'gini = 0.0\\nsamples = 6\\nvalue = [6, 0]'),\n",
              " Text(0.432633975907803, 0.6428571428571429, 'gini = 0.0\\nsamples = 4\\nvalue = [0, 4]'),\n",
              " Text(0.42150915190599525, 0.7, 'gini = 0.0\\nsamples = 4\\nvalue = [0, 4]'),\n",
              " Text(0.44598376470997236, 0.7285714285714285, 'x[21] <= 0.46\\ngini = 0.355\\nsamples = 13\\nvalue = [3, 10]'),\n",
              " Text(0.44153383510924926, 0.7, 'x[6] <= 0.075\\ngini = 0.48\\nsamples = 5\\nvalue = [3, 2]'),\n",
              " Text(0.43708390550852616, 0.6714285714285714, 'gini = 0.0\\nsamples = 2\\nvalue = [0, 2]'),\n",
              " Text(0.44598376470997236, 0.6714285714285714, 'gini = 0.0\\nsamples = 3\\nvalue = [3, 0]'),\n",
              " Text(0.45043369431069546, 0.7, 'gini = 0.0\\nsamples = 8\\nvalue = [0, 8]'),\n",
              " Text(0.38317739748648505, 0.7857142857142857, 'gini = 0.0\\nsamples = 5\\nvalue = [0, 5]'),\n",
              " Text(0.4537711415112378, 0.8142857142857143, 'x[48] <= 0.311\\ngini = 0.496\\nsamples = 35\\nvalue = [19, 16]'),\n",
              " Text(0.44487128230979156, 0.7857142857142857, 'x[36] <= 0.175\\ngini = 0.208\\nsamples = 17\\nvalue = [2, 15]'),\n",
              " Text(0.44042135270906846, 0.7571428571428571, 'gini = 0.0\\nsamples = 15\\nvalue = [0, 15]'),\n",
              " Text(0.4493212119105147, 0.7571428571428571, 'gini = 0.0\\nsamples = 2\\nvalue = [2, 0]'),\n",
              " Text(0.462671000712684, 0.7857142857142857, 'x[4] <= 0.22\\ngini = 0.105\\nsamples = 18\\nvalue = [17, 1]'),\n",
              " Text(0.4582210711119609, 0.7571428571428571, 'gini = 0.0\\nsamples = 17\\nvalue = [17, 0]'),\n",
              " Text(0.4671209303134072, 0.7571428571428571, 'gini = 0.0\\nsamples = 1\\nvalue = [0, 1]'),\n",
              " Text(0.49382050791774584, 0.8428571428571429, 'x[54] <= 2.655\\ngini = 0.493\\nsamples = 68\\nvalue = [30, 38]'),\n",
              " Text(0.4849206487162996, 0.8142857142857143, 'x[6] <= 0.185\\ngini = 0.424\\nsamples = 36\\nvalue = [25, 11]'),\n",
              " Text(0.4804707191155765, 0.7857142857142857, 'x[18] <= 0.585\\ngini = 0.342\\nsamples = 32\\nvalue = [25, 7]'),\n",
              " Text(0.4760207895148534, 0.7571428571428571, 'x[42] <= 0.035\\ngini = 0.238\\nsamples = 29\\nvalue = [25, 4]'),\n",
              " Text(0.4671209303134072, 0.7285714285714285, 'x[5] <= 0.645\\ngini = 0.142\\nsamples = 26\\nvalue = [24, 2]'),\n",
              " Text(0.462671000712684, 0.7, 'x[56] <= 4.5\\ngini = 0.077\\nsamples = 25\\nvalue = [24, 1]'),\n",
              " Text(0.4582210711119609, 0.6714285714285714, 'gini = 0.0\\nsamples = 1\\nvalue = [0, 1]'),\n",
              " Text(0.4671209303134072, 0.6714285714285714, 'gini = 0.0\\nsamples = 24\\nvalue = [24, 0]'),\n",
              " Text(0.4715708599141303, 0.7, 'gini = 0.0\\nsamples = 1\\nvalue = [0, 1]'),\n",
              " Text(0.4849206487162996, 0.7285714285714285, 'x[1] <= 0.035\\ngini = 0.444\\nsamples = 3\\nvalue = [1, 2]'),\n",
              " Text(0.4804707191155765, 0.7, 'gini = 0.0\\nsamples = 1\\nvalue = [1, 0]'),\n",
              " Text(0.48937057831702274, 0.7, 'gini = 0.0\\nsamples = 2\\nvalue = [0, 2]'),\n",
              " Text(0.4849206487162996, 0.7571428571428571, 'gini = 0.0\\nsamples = 3\\nvalue = [0, 3]'),\n",
              " Text(0.48937057831702274, 0.7857142857142857, 'gini = 0.0\\nsamples = 4\\nvalue = [0, 4]'),\n",
              " Text(0.5027203671191921, 0.8142857142857143, 'x[49] <= 0.479\\ngini = 0.264\\nsamples = 32\\nvalue = [5, 27]'),\n",
              " Text(0.49827043751846894, 0.7857142857142857, 'x[50] <= 0.046\\ngini = 0.128\\nsamples = 29\\nvalue = [2, 27]'),\n",
              " Text(0.49382050791774584, 0.7571428571428571, 'gini = 0.0\\nsamples = 27\\nvalue = [0, 27]'),\n",
              " Text(0.5027203671191921, 0.7571428571428571, 'gini = 0.0\\nsamples = 2\\nvalue = [2, 0]'),\n",
              " Text(0.5071702967199152, 0.7857142857142857, 'gini = 0.0\\nsamples = 3\\nvalue = [3, 0]'),\n",
              " Text(0.6262754436892698, 0.8714285714285714, 'x[36] <= 0.195\\ngini = 0.482\\nsamples = 230\\nvalue = [137, 93]'),\n",
              " Text(0.5896330546333154, 0.8428571428571429, 'x[51] <= 0.119\\ngini = 0.5\\nsamples = 179\\nvalue = [91, 88]'),\n",
              " Text(0.5608475725286377, 0.8142857142857143, 'x[5] <= 1.09\\ngini = 0.472\\nsamples = 123\\nvalue = [76, 47]'),\n",
              " Text(0.5388760451250674, 0.7857142857142857, 'x[56] <= 341.0\\ngini = 0.38\\nsamples = 94\\nvalue = [70, 24]'),\n",
              " Text(0.5216325679222653, 0.7571428571428571, 'x[8] <= 0.44\\ngini = 0.323\\nsamples = 84\\nvalue = [67, 17]'),\n",
              " Text(0.5093952615202767, 0.7285714285714285, 'x[32] <= 0.115\\ngini = 0.263\\nsamples = 77\\nvalue = [65, 12]'),\n",
              " Text(0.49827043751846894, 0.7, 'x[16] <= 4.38\\ngini = 0.216\\nsamples = 73\\nvalue = [64, 9]'),\n",
              " Text(0.48937057831702274, 0.6714285714285714, 'x[29] <= 2.385\\ngini = 0.14\\nsamples = 66\\nvalue = [61, 5]'),\n",
              " Text(0.4849206487162996, 0.6428571428571429, 'x[19] <= 1.35\\ngini = 0.116\\nsamples = 65\\nvalue = [61, 4]'),\n",
              " Text(0.4804707191155765, 0.6142857142857143, 'x[10] <= 0.165\\ngini = 0.278\\nsamples = 24\\nvalue = [20, 4]'),\n",
              " Text(0.4760207895148534, 0.5857142857142857, 'x[12] <= 1.365\\ngini = 0.165\\nsamples = 22\\nvalue = [20, 2]'),\n",
              " Text(0.4671209303134072, 0.5571428571428572, 'x[27] <= 0.92\\ngini = 0.095\\nsamples = 20\\nvalue = [19, 1]'),\n",
              " Text(0.462671000712684, 0.5285714285714286, 'gini = 0.0\\nsamples = 18\\nvalue = [18, 0]'),\n",
              " Text(0.4715708599141303, 0.5285714285714286, 'x[3] <= 0.47\\ngini = 0.5\\nsamples = 2\\nvalue = [1, 1]'),\n",
              " Text(0.4671209303134072, 0.5, 'gini = 0.0\\nsamples = 1\\nvalue = [1, 0]'),\n",
              " Text(0.4760207895148534, 0.5, 'gini = 0.0\\nsamples = 1\\nvalue = [0, 1]'),\n",
              " Text(0.4849206487162996, 0.5571428571428572, 'x[38] <= 1.47\\ngini = 0.5\\nsamples = 2\\nvalue = [1, 1]'),\n",
              " Text(0.4804707191155765, 0.5285714285714286, 'gini = 0.0\\nsamples = 1\\nvalue = [0, 1]'),\n",
              " Text(0.48937057831702274, 0.5285714285714286, 'gini = 0.0\\nsamples = 1\\nvalue = [1, 0]'),\n",
              " Text(0.4849206487162996, 0.5857142857142857, 'gini = 0.0\\nsamples = 2\\nvalue = [0, 2]'),\n",
              " Text(0.48937057831702274, 0.6142857142857143, 'gini = 0.0\\nsamples = 41\\nvalue = [41, 0]'),\n",
              " Text(0.49382050791774584, 0.6428571428571429, 'gini = 0.0\\nsamples = 1\\nvalue = [0, 1]'),\n",
              " Text(0.5071702967199152, 0.6714285714285714, 'x[56] <= 8.0\\ngini = 0.49\\nsamples = 7\\nvalue = [3, 4]'),\n",
              " Text(0.5027203671191921, 0.6428571428571429, 'x[16] <= 7.07\\ngini = 0.375\\nsamples = 4\\nvalue = [3, 1]'),\n",
              " Text(0.49827043751846894, 0.6142857142857143, 'gini = 0.0\\nsamples = 1\\nvalue = [0, 1]'),\n",
              " Text(0.5071702967199152, 0.6142857142857143, 'gini = 0.0\\nsamples = 3\\nvalue = [3, 0]'),\n",
              " Text(0.5116202263206383, 0.6428571428571429, 'gini = 0.0\\nsamples = 3\\nvalue = [0, 3]'),\n",
              " Text(0.5205200855220845, 0.7, 'x[32] <= 0.66\\ngini = 0.375\\nsamples = 4\\nvalue = [1, 3]'),\n",
              " Text(0.5160701559213614, 0.6714285714285714, 'gini = 0.0\\nsamples = 3\\nvalue = [0, 3]'),\n",
              " Text(0.5249700151228076, 0.6714285714285714, 'gini = 0.0\\nsamples = 1\\nvalue = [1, 0]'),\n",
              " Text(0.5338698743242538, 0.7285714285714285, 'x[56] <= 97.0\\ngini = 0.408\\nsamples = 7\\nvalue = [2, 5]'),\n",
              " Text(0.5294199447235307, 0.7, 'gini = 0.0\\nsamples = 4\\nvalue = [0, 4]'),\n",
              " Text(0.5383198039249769, 0.7, 'x[51] <= 0.023\\ngini = 0.444\\nsamples = 3\\nvalue = [2, 1]'),\n",
              " Text(0.5338698743242538, 0.6714285714285714, 'gini = 0.0\\nsamples = 2\\nvalue = [2, 0]'),\n",
              " Text(0.5427697335257001, 0.6714285714285714, 'gini = 0.0\\nsamples = 1\\nvalue = [0, 1]'),\n",
              " Text(0.5561195223278694, 0.7571428571428571, 'x[49] <= 0.144\\ngini = 0.42\\nsamples = 10\\nvalue = [3, 7]'),\n",
              " Text(0.5516695927271463, 0.7285714285714285, 'x[49] <= 0.005\\ngini = 0.219\\nsamples = 8\\nvalue = [1, 7]'),\n",
              " Text(0.5472196631264232, 0.7, 'gini = 0.0\\nsamples = 1\\nvalue = [1, 0]'),\n",
              " Text(0.5561195223278694, 0.7, 'gini = 0.0\\nsamples = 7\\nvalue = [0, 7]'),\n",
              " Text(0.5605694519285925, 0.7285714285714285, 'gini = 0.0\\nsamples = 2\\nvalue = [2, 0]'),\n",
              " Text(0.5828190999322082, 0.7857142857142857, 'x[21] <= 0.31\\ngini = 0.328\\nsamples = 29\\nvalue = [6, 23]'),\n",
              " Text(0.5739192407307618, 0.7571428571428571, 'x[38] <= 1.135\\ngini = 0.278\\nsamples = 6\\nvalue = [5, 1]'),\n",
              " Text(0.5694693111300387, 0.7285714285714285, 'gini = 0.0\\nsamples = 5\\nvalue = [5, 0]'),\n",
              " Text(0.5783691703314849, 0.7285714285714285, 'gini = 0.0\\nsamples = 1\\nvalue = [0, 1]'),\n",
              " Text(0.5917189591336544, 0.7571428571428571, 'x[8] <= 0.71\\ngini = 0.083\\nsamples = 23\\nvalue = [1, 22]'),\n",
              " Text(0.5872690295329313, 0.7285714285714285, 'gini = 0.0\\nsamples = 22\\nvalue = [0, 22]'),\n",
              " Text(0.5961688887343775, 0.7285714285714285, 'gini = 0.0\\nsamples = 1\\nvalue = [1, 0]'),\n",
              " Text(0.618418536737993, 0.8142857142857143, 'x[56] <= 42.0\\ngini = 0.392\\nsamples = 56\\nvalue = [15, 41]'),\n",
              " Text(0.6050687479358237, 0.7857142857142857, 'x[19] <= 0.52\\ngini = 0.48\\nsamples = 10\\nvalue = [6, 4]'),\n",
              " Text(0.6006188183351006, 0.7571428571428571, 'gini = 0.0\\nsamples = 3\\nvalue = [0, 3]'),\n",
              " Text(0.6095186775365468, 0.7571428571428571, 'x[3] <= 1.315\\ngini = 0.245\\nsamples = 7\\nvalue = [6, 1]'),\n",
              " Text(0.6050687479358237, 0.7285714285714285, 'gini = 0.0\\nsamples = 6\\nvalue = [6, 0]'),\n",
              " Text(0.6139686071372699, 0.7285714285714285, 'gini = 0.0\\nsamples = 1\\nvalue = [0, 1]'),\n",
              " Text(0.6317683255401624, 0.7857142857142857, 'x[3] <= 1.715\\ngini = 0.315\\nsamples = 46\\nvalue = [9, 37]'),\n",
              " Text(0.6273183959394393, 0.7571428571428571, 'x[18] <= 1.62\\ngini = 0.268\\nsamples = 44\\nvalue = [7, 37]'),\n",
              " Text(0.6228684663387162, 0.7285714285714285, 'x[13] <= 0.6\\ngini = 0.21\\nsamples = 42\\nvalue = [5, 37]'),\n",
              " Text(0.618418536737993, 0.7, 'x[53] <= 0.027\\ngini = 0.139\\nsamples = 40\\nvalue = [3, 37]'),\n",
              " Text(0.6095186775365468, 0.6714285714285714, 'x[11] <= 1.03\\ngini = 0.056\\nsamples = 35\\nvalue = [1, 34]'),\n",
              " Text(0.6050687479358237, 0.6428571428571429, 'gini = 0.0\\nsamples = 33\\nvalue = [0, 33]'),\n",
              " Text(0.6139686071372699, 0.6428571428571429, 'x[55] <= 23.5\\ngini = 0.5\\nsamples = 2\\nvalue = [1, 1]'),\n",
              " Text(0.6095186775365468, 0.6142857142857143, 'gini = 0.0\\nsamples = 1\\nvalue = [1, 0]'),\n",
              " Text(0.618418536737993, 0.6142857142857143, 'gini = 0.0\\nsamples = 1\\nvalue = [0, 1]'),\n",
              " Text(0.6273183959394393, 0.6714285714285714, 'x[19] <= 2.11\\ngini = 0.48\\nsamples = 5\\nvalue = [2, 3]'),\n",
              " Text(0.6228684663387162, 0.6428571428571429, 'gini = 0.0\\nsamples = 3\\nvalue = [0, 3]'),\n",
              " Text(0.6317683255401624, 0.6428571428571429, 'gini = 0.0\\nsamples = 2\\nvalue = [2, 0]'),\n",
              " Text(0.6273183959394393, 0.7, 'gini = 0.0\\nsamples = 2\\nvalue = [2, 0]'),\n",
              " Text(0.6317683255401624, 0.7285714285714285, 'gini = 0.0\\nsamples = 2\\nvalue = [2, 0]'),\n",
              " Text(0.6362182551408855, 0.7571428571428571, 'gini = 0.0\\nsamples = 2\\nvalue = [2, 0]'),\n",
              " Text(0.6629178327452242, 0.8428571428571429, 'x[17] <= 0.255\\ngini = 0.177\\nsamples = 51\\nvalue = [46, 5]'),\n",
              " Text(0.6540179735437779, 0.8142857142857143, 'x[5] <= 2.03\\ngini = 0.117\\nsamples = 48\\nvalue = [45, 3]'),\n",
              " Text(0.6495680439430548, 0.7857142857142857, 'x[0] <= 0.26\\ngini = 0.081\\nsamples = 47\\nvalue = [45, 2]'),\n",
              " Text(0.6451181143423317, 0.7571428571428571, 'x[53] <= 0.063\\ngini = 0.043\\nsamples = 46\\nvalue = [45, 1]'),\n",
              " Text(0.6406681847416086, 0.7285714285714285, 'gini = 0.0\\nsamples = 44\\nvalue = [44, 0]'),\n",
              " Text(0.6495680439430548, 0.7285714285714285, 'x[15] <= 0.15\\ngini = 0.5\\nsamples = 2\\nvalue = [1, 1]'),\n",
              " Text(0.6451181143423317, 0.7, 'gini = 0.0\\nsamples = 1\\nvalue = [1, 0]'),\n",
              " Text(0.6540179735437779, 0.7, 'gini = 0.0\\nsamples = 1\\nvalue = [0, 1]'),\n",
              " Text(0.6540179735437779, 0.7571428571428571, 'gini = 0.0\\nsamples = 1\\nvalue = [0, 1]'),\n",
              " Text(0.658467903144501, 0.7857142857142857, 'gini = 0.0\\nsamples = 1\\nvalue = [0, 1]'),\n",
              " Text(0.6718176919466704, 0.8142857142857143, 'x[38] <= 0.445\\ngini = 0.444\\nsamples = 3\\nvalue = [1, 2]'),\n",
              " Text(0.6673677623459473, 0.7857142857142857, 'gini = 0.0\\nsamples = 2\\nvalue = [0, 2]'),\n",
              " Text(0.6762676215473935, 0.7857142857142857, 'gini = 0.0\\nsamples = 1\\nvalue = [1, 0]'),\n",
              " Text(0.761372525161223, 0.9, 'x[56] <= 55.5\\ngini = 0.481\\nsamples = 404\\nvalue = [163, 241]'),\n",
              " Text(0.7096420935528168, 0.8714285714285714, 'x[16] <= 0.845\\ngini = 0.408\\nsamples = 182\\nvalue = [130, 52]'),\n",
              " Text(0.7007422343513706, 0.8428571428571429, 'x[17] <= 0.66\\ngini = 0.319\\nsamples = 161\\nvalue = [129, 32]'),\n",
              " Text(0.6962923047506475, 0.8142857142857143, 'x[23] <= 2.66\\ngini = 0.286\\nsamples = 156\\nvalue = [129, 27]'),\n",
              " Text(0.6918423751499244, 0.7857142857142857, 'x[51] <= 0.984\\ngini = 0.257\\nsamples = 152\\nvalue = [129, 23]'),\n",
              " Text(0.6718176919466704, 0.7571428571428571, 'x[54] <= 3.638\\ngini = 0.11\\nsamples = 103\\nvalue = [97, 6]'),\n",
              " Text(0.6673677623459473, 0.7285714285714285, 'x[11] <= 0.9\\ngini = 0.076\\nsamples = 101\\nvalue = [97, 4]'),\n",
              " Text(0.6629178327452242, 0.7, 'x[19] <= 2.445\\ngini = 0.058\\nsamples = 100\\nvalue = [97, 3]'),\n",
              " Text(0.658467903144501, 0.6714285714285714, 'gini = 0.0\\nsamples = 52\\nvalue = [52, 0]'),\n",
              " Text(0.6673677623459473, 0.6714285714285714, 'x[19] <= 2.48\\ngini = 0.117\\nsamples = 48\\nvalue = [45, 3]'),\n",
              " Text(0.6629178327452242, 0.6428571428571429, 'gini = 0.0\\nsamples = 1\\nvalue = [0, 1]'),\n",
              " Text(0.6718176919466704, 0.6428571428571429, 'x[51] <= 0.817\\ngini = 0.081\\nsamples = 47\\nvalue = [45, 2]'),\n",
              " Text(0.6629178327452242, 0.6142857142857143, 'x[54] <= 2.293\\ngini = 0.044\\nsamples = 44\\nvalue = [43, 1]'),\n",
              " Text(0.658467903144501, 0.5857142857142857, 'gini = 0.0\\nsamples = 35\\nvalue = [35, 0]'),\n",
              " Text(0.6673677623459473, 0.5857142857142857, 'x[54] <= 2.337\\ngini = 0.198\\nsamples = 9\\nvalue = [8, 1]'),\n",
              " Text(0.6629178327452242, 0.5571428571428572, 'gini = 0.0\\nsamples = 1\\nvalue = [0, 1]'),\n",
              " Text(0.6718176919466704, 0.5571428571428572, 'gini = 0.0\\nsamples = 8\\nvalue = [8, 0]'),\n",
              " Text(0.6807175511481166, 0.6142857142857143, 'x[54] <= 1.604\\ngini = 0.444\\nsamples = 3\\nvalue = [2, 1]'),\n",
              " Text(0.6762676215473935, 0.5857142857142857, 'gini = 0.0\\nsamples = 1\\nvalue = [0, 1]'),\n",
              " Text(0.6851674807488397, 0.5857142857142857, 'gini = 0.0\\nsamples = 2\\nvalue = [2, 0]'),\n",
              " Text(0.6718176919466704, 0.7, 'gini = 0.0\\nsamples = 1\\nvalue = [0, 1]'),\n",
              " Text(0.6762676215473935, 0.7285714285714285, 'gini = 0.0\\nsamples = 2\\nvalue = [0, 2]'),\n",
              " Text(0.7118670583531784, 0.7571428571428571, 'x[19] <= 3.635\\ngini = 0.453\\nsamples = 49\\nvalue = [32, 17]'),\n",
              " Text(0.7029671991517322, 0.7285714285714285, 'x[56] <= 2.5\\ngini = 0.305\\nsamples = 32\\nvalue = [26, 6]'),\n",
              " Text(0.698517269551009, 0.7, 'gini = 0.0\\nsamples = 2\\nvalue = [0, 2]'),\n",
              " Text(0.7074171287524553, 0.7, 'x[51] <= 1.03\\ngini = 0.231\\nsamples = 30\\nvalue = [26, 4]'),\n",
              " Text(0.7029671991517322, 0.6714285714285714, 'gini = 0.0\\nsamples = 1\\nvalue = [0, 1]'),\n",
              " Text(0.7118670583531784, 0.6714285714285714, 'x[11] <= 0.615\\ngini = 0.185\\nsamples = 29\\nvalue = [26, 3]'),\n",
              " Text(0.7074171287524553, 0.6428571428571429, 'x[51] <= 1.083\\ngini = 0.133\\nsamples = 28\\nvalue = [26, 2]'),\n",
              " Text(0.698517269551009, 0.6142857142857143, 'x[54] <= 1.65\\ngini = 0.444\\nsamples = 3\\nvalue = [2, 1]'),\n",
              " Text(0.6940673399502859, 0.5857142857142857, 'gini = 0.0\\nsamples = 2\\nvalue = [2, 0]'),\n",
              " Text(0.7029671991517322, 0.5857142857142857, 'gini = 0.0\\nsamples = 1\\nvalue = [0, 1]'),\n",
              " Text(0.7163169879539015, 0.6142857142857143, 'x[56] <= 7.5\\ngini = 0.077\\nsamples = 25\\nvalue = [24, 1]'),\n",
              " Text(0.7118670583531784, 0.5857142857142857, 'x[56] <= 6.5\\ngini = 0.245\\nsamples = 7\\nvalue = [6, 1]'),\n",
              " Text(0.7074171287524553, 0.5571428571428572, 'gini = 0.0\\nsamples = 5\\nvalue = [5, 0]'),\n",
              " Text(0.7163169879539015, 0.5571428571428572, 'x[51] <= 1.535\\ngini = 0.5\\nsamples = 2\\nvalue = [1, 1]'),\n",
              " Text(0.7118670583531784, 0.5285714285714286, 'gini = 0.0\\nsamples = 1\\nvalue = [1, 0]'),\n",
              " Text(0.7207669175546246, 0.5285714285714286, 'gini = 0.0\\nsamples = 1\\nvalue = [0, 1]'),\n",
              " Text(0.7207669175546246, 0.5857142857142857, 'gini = 0.0\\nsamples = 18\\nvalue = [18, 0]'),\n",
              " Text(0.7163169879539015, 0.6428571428571429, 'gini = 0.0\\nsamples = 1\\nvalue = [0, 1]'),\n",
              " Text(0.7207669175546246, 0.7285714285714285, 'x[55] <= 4.0\\ngini = 0.457\\nsamples = 17\\nvalue = [6, 11]'),\n",
              " Text(0.7163169879539015, 0.7, 'gini = 0.0\\nsamples = 5\\nvalue = [5, 0]'),\n",
              " Text(0.7252168471553477, 0.7, 'x[48] <= 0.098\\ngini = 0.153\\nsamples = 12\\nvalue = [1, 11]'),\n",
              " Text(0.7207669175546246, 0.6714285714285714, 'gini = 0.0\\nsamples = 11\\nvalue = [0, 11]'),\n",
              " Text(0.7296667767560708, 0.6714285714285714, 'gini = 0.0\\nsamples = 1\\nvalue = [1, 0]'),\n",
              " Text(0.7007422343513706, 0.7857142857142857, 'gini = 0.0\\nsamples = 4\\nvalue = [0, 4]'),\n",
              " Text(0.7051921639520937, 0.8142857142857143, 'gini = 0.0\\nsamples = 5\\nvalue = [0, 5]'),\n",
              " Text(0.718541952754263, 0.8428571428571429, 'x[11] <= 0.33\\ngini = 0.091\\nsamples = 21\\nvalue = [1, 20]'),\n",
              " Text(0.7140920231535399, 0.8142857142857143, 'gini = 0.0\\nsamples = 20\\nvalue = [0, 20]'),\n",
              " Text(0.7229918823549861, 0.8142857142857143, 'gini = 0.0\\nsamples = 1\\nvalue = [1, 0]'),\n",
              " Text(0.8131029567696292, 0.8714285714285714, 'x[45] <= 0.065\\ngini = 0.253\\nsamples = 222\\nvalue = [33, 189]'),\n",
              " Text(0.8086530271689061, 0.8428571428571429, 'x[26] <= 1.375\\ngini = 0.206\\nsamples = 214\\nvalue = [25, 189]'),\n",
              " Text(0.804203097568183, 0.8142857142857143, 'x[44] <= 0.585\\ngini = 0.173\\nsamples = 209\\nvalue = [20, 189]'),\n",
              " Text(0.7930782735663752, 0.7857142857142857, 'x[24] <= 0.225\\ngini = 0.126\\nsamples = 193\\nvalue = [13, 180]'),\n",
              " Text(0.784178414364929, 0.7571428571428571, 'x[12] <= 2.92\\ngini = 0.109\\nsamples = 190\\nvalue = [11, 179]'),\n",
              " Text(0.7797284847642059, 0.7285714285714285, 'x[41] <= 0.095\\ngini = 0.1\\nsamples = 189\\nvalue = [10, 179]'),\n",
              " Text(0.7752785551634828, 0.7, 'x[49] <= 0.634\\ngini = 0.091\\nsamples = 188\\nvalue = [9, 179]'),\n",
              " Text(0.7708286255627597, 0.6714285714285714, 'x[51] <= 5.971\\ngini = 0.082\\nsamples = 187\\nvalue = [8, 179]'),\n",
              " Text(0.7663786959620366, 0.6428571428571429, 'x[42] <= 0.43\\ngini = 0.072\\nsamples = 186\\nvalue = [7, 179]'),\n",
              " Text(0.754141389560048, 0.6142857142857143, 'x[51] <= 0.564\\ngini = 0.063\\nsamples = 184\\nvalue = [6, 178]'),\n",
              " Text(0.7430165655582401, 0.5857142857142857, 'x[51] <= 0.56\\ngini = 0.187\\nsamples = 48\\nvalue = [5, 43]'),\n",
              " Text(0.7341167063567939, 0.5571428571428572, 'x[12] <= 1.445\\ngini = 0.124\\nsamples = 45\\nvalue = [3, 42]'),\n",
              " Text(0.7296667767560708, 0.5285714285714286, 'x[55] <= 52.0\\ngini = 0.087\\nsamples = 44\\nvalue = [2, 42]'),\n",
              " Text(0.7252168471553477, 0.5, 'gini = 0.0\\nsamples = 34\\nvalue = [0, 34]'),\n",
              " Text(0.7341167063567939, 0.5, 'x[54] <= 3.812\\ngini = 0.32\\nsamples = 10\\nvalue = [2, 8]'),\n",
              " Text(0.7296667767560708, 0.4714285714285714, 'x[17] <= 0.115\\ngini = 0.444\\nsamples = 3\\nvalue = [2, 1]'),\n",
              " Text(0.7252168471553477, 0.44285714285714284, 'gini = 0.0\\nsamples = 2\\nvalue = [2, 0]'),\n",
              " Text(0.7341167063567939, 0.44285714285714284, 'gini = 0.0\\nsamples = 1\\nvalue = [0, 1]'),\n",
              " Text(0.738566635957517, 0.4714285714285714, 'gini = 0.0\\nsamples = 7\\nvalue = [0, 7]'),\n",
              " Text(0.738566635957517, 0.5285714285714286, 'gini = 0.0\\nsamples = 1\\nvalue = [1, 0]'),\n",
              " Text(0.7519164247596865, 0.5571428571428572, 'x[21] <= 2.14\\ngini = 0.444\\nsamples = 3\\nvalue = [2, 1]'),\n",
              " Text(0.7474664951589634, 0.5285714285714286, 'gini = 0.0\\nsamples = 2\\nvalue = [2, 0]'),\n",
              " Text(0.7563663543604096, 0.5285714285714286, 'gini = 0.0\\nsamples = 1\\nvalue = [0, 1]'),\n",
              " Text(0.7652662135618558, 0.5857142857142857, 'x[1] <= 0.685\\ngini = 0.015\\nsamples = 136\\nvalue = [1, 135]'),\n",
              " Text(0.7608162839611327, 0.5571428571428572, 'gini = 0.0\\nsamples = 131\\nvalue = [0, 131]'),\n",
              " Text(0.7697161431625789, 0.5571428571428572, 'x[51] <= 1.898\\ngini = 0.32\\nsamples = 5\\nvalue = [1, 4]'),\n",
              " Text(0.7652662135618558, 0.5285714285714286, 'gini = 0.0\\nsamples = 4\\nvalue = [0, 4]'),\n",
              " Text(0.774166072763302, 0.5285714285714286, 'gini = 0.0\\nsamples = 1\\nvalue = [1, 0]'),\n",
              " Text(0.7786160023640251, 0.6142857142857143, 'x[6] <= 0.24\\ngini = 0.5\\nsamples = 2\\nvalue = [1, 1]'),\n",
              " Text(0.774166072763302, 0.5857142857142857, 'gini = 0.0\\nsamples = 1\\nvalue = [0, 1]'),\n",
              " Text(0.7830659319647482, 0.5857142857142857, 'gini = 0.0\\nsamples = 1\\nvalue = [1, 0]'),\n",
              " Text(0.7752785551634828, 0.6428571428571429, 'gini = 0.0\\nsamples = 1\\nvalue = [1, 0]'),\n",
              " Text(0.7797284847642059, 0.6714285714285714, 'gini = 0.0\\nsamples = 1\\nvalue = [1, 0]'),\n",
              " Text(0.784178414364929, 0.7, 'gini = 0.0\\nsamples = 1\\nvalue = [1, 0]'),\n",
              " Text(0.7886283439656521, 0.7285714285714285, 'gini = 0.0\\nsamples = 1\\nvalue = [1, 0]'),\n",
              " Text(0.8019781327678215, 0.7571428571428571, 'x[10] <= 0.675\\ngini = 0.444\\nsamples = 3\\nvalue = [2, 1]'),\n",
              " Text(0.7975282031670984, 0.7285714285714285, 'gini = 0.0\\nsamples = 2\\nvalue = [2, 0]'),\n",
              " Text(0.8064280623685446, 0.7285714285714285, 'gini = 0.0\\nsamples = 1\\nvalue = [0, 1]'),\n",
              " Text(0.8153279215699908, 0.7857142857142857, 'x[51] <= 0.728\\ngini = 0.492\\nsamples = 16\\nvalue = [7, 9]'),\n",
              " Text(0.8108779919692677, 0.7571428571428571, 'gini = 0.0\\nsamples = 5\\nvalue = [5, 0]'),\n",
              " Text(0.8197778511707139, 0.7571428571428571, 'x[36] <= 0.64\\ngini = 0.298\\nsamples = 11\\nvalue = [2, 9]'),\n",
              " Text(0.8153279215699908, 0.7285714285714285, 'x[40] <= 0.43\\ngini = 0.18\\nsamples = 10\\nvalue = [1, 9]'),\n",
              " Text(0.8108779919692677, 0.7, 'gini = 0.0\\nsamples = 9\\nvalue = [0, 9]'),\n",
              " Text(0.8197778511707139, 0.7, 'gini = 0.0\\nsamples = 1\\nvalue = [1, 0]'),\n",
              " Text(0.824227780771437, 0.7285714285714285, 'gini = 0.0\\nsamples = 1\\nvalue = [1, 0]'),\n",
              " Text(0.8131029567696292, 0.8142857142857143, 'gini = 0.0\\nsamples = 5\\nvalue = [5, 0]'),\n",
              " Text(0.8175528863703524, 0.8428571428571429, 'gini = 0.0\\nsamples = 8\\nvalue = [8, 0]'),\n",
              " Text(0.8959828955830972, 0.9285714285714286, 'x[26] <= 0.14\\ngini = 0.165\\nsamples = 330\\nvalue = [30, 300]'),\n",
              " Text(0.8915329659823741, 0.9, 'x[45] <= 0.115\\ngini = 0.102\\nsamples = 317\\nvalue = [17, 300]'),\n",
              " Text(0.8804081419805663, 0.8714285714285714, 'x[24] <= 0.3\\ngini = 0.08\\nsamples = 311\\nvalue = [13, 298]'),\n",
              " Text(0.8715082827791201, 0.8428571428571429, 'x[35] <= 1.6\\ngini = 0.057\\nsamples = 304\\nvalue = [9, 295]'),\n",
              " Text(0.867058353178397, 0.8142857142857143, 'x[10] <= 2.48\\ngini = 0.051\\nsamples = 303\\nvalue = [8, 295]'),\n",
              " Text(0.8626084235776739, 0.7857142857142857, 'x[32] <= 1.58\\ngini = 0.045\\nsamples = 302\\nvalue = [7, 295]'),\n",
              " Text(0.8581584939769508, 0.7571428571428571, 'x[52] <= 0.048\\ngini = 0.039\\nsamples = 301\\nvalue = [6, 295]'),\n",
              " Text(0.8409150167741487, 0.7285714285714285, 'x[14] <= 0.4\\ngini = 0.027\\nsamples = 292\\nvalue = [4, 288]'),\n",
              " Text(0.8286777103721601, 0.7, 'x[7] <= 2.9\\ngini = 0.021\\nsamples = 288\\nvalue = [3, 285]'),\n",
              " Text(0.8175528863703524, 0.6714285714285714, 'x[10] <= 1.75\\ngini = 0.014\\nsamples = 281\\nvalue = [2, 279]'),\n",
              " Text(0.8086530271689061, 0.6428571428571429, 'x[55] <= 5.5\\ngini = 0.007\\nsamples = 273\\nvalue = [1, 272]'),\n",
              " Text(0.804203097568183, 0.6142857142857143, 'x[56] <= 84.0\\ngini = 0.124\\nsamples = 15\\nvalue = [1, 14]'),\n",
              " Text(0.7997531679674599, 0.5857142857142857, 'gini = 0.0\\nsamples = 14\\nvalue = [0, 14]'),\n",
              " Text(0.8086530271689061, 0.5857142857142857, 'gini = 0.0\\nsamples = 1\\nvalue = [1, 0]'),\n",
              " Text(0.8131029567696292, 0.6142857142857143, 'gini = 0.0\\nsamples = 258\\nvalue = [0, 258]'),\n",
              " Text(0.8264527455717986, 0.6428571428571429, 'x[16] <= 1.67\\ngini = 0.219\\nsamples = 8\\nvalue = [1, 7]'),\n",
              " Text(0.8220028159710755, 0.6142857142857143, 'gini = 0.0\\nsamples = 7\\nvalue = [0, 7]'),\n",
              " Text(0.8309026751725217, 0.6142857142857143, 'gini = 0.0\\nsamples = 1\\nvalue = [1, 0]'),\n",
              " Text(0.8398025343739679, 0.6714285714285714, 'x[7] <= 3.095\\ngini = 0.245\\nsamples = 7\\nvalue = [1, 6]'),\n",
              " Text(0.8353526047732448, 0.6428571428571429, 'gini = 0.0\\nsamples = 1\\nvalue = [1, 0]'),\n",
              " Text(0.844252463974691, 0.6428571428571429, 'gini = 0.0\\nsamples = 6\\nvalue = [0, 6]'),\n",
              " Text(0.8531523231761372, 0.7, 'x[0] <= 0.115\\ngini = 0.375\\nsamples = 4\\nvalue = [1, 3]'),\n",
              " Text(0.8487023935754141, 0.6714285714285714, 'gini = 0.0\\nsamples = 3\\nvalue = [0, 3]'),\n",
              " Text(0.8576022527768604, 0.6714285714285714, 'gini = 0.0\\nsamples = 1\\nvalue = [1, 0]'),\n",
              " Text(0.8754019711797528, 0.7285714285714285, 'x[19] <= 2.015\\ngini = 0.346\\nsamples = 9\\nvalue = [2, 7]'),\n",
              " Text(0.8709520415790297, 0.7, 'x[6] <= 0.23\\ngini = 0.444\\nsamples = 3\\nvalue = [2, 1]'),\n",
              " Text(0.8665021119783066, 0.6714285714285714, 'gini = 0.0\\nsamples = 2\\nvalue = [2, 0]'),\n",
              " Text(0.8754019711797528, 0.6714285714285714, 'gini = 0.0\\nsamples = 1\\nvalue = [0, 1]'),\n",
              " Text(0.8798519007804759, 0.7, 'gini = 0.0\\nsamples = 6\\nvalue = [0, 6]'),\n",
              " Text(0.867058353178397, 0.7571428571428571, 'gini = 0.0\\nsamples = 1\\nvalue = [1, 0]'),\n",
              " Text(0.8715082827791201, 0.7857142857142857, 'gini = 0.0\\nsamples = 1\\nvalue = [1, 0]'),\n",
              " Text(0.8759582123798432, 0.8142857142857143, 'gini = 0.0\\nsamples = 1\\nvalue = [1, 0]'),\n",
              " Text(0.8893080011820126, 0.8428571428571429, 'x[25] <= 0.17\\ngini = 0.49\\nsamples = 7\\nvalue = [4, 3]'),\n",
              " Text(0.8848580715812895, 0.8142857142857143, 'gini = 0.0\\nsamples = 3\\nvalue = [3, 0]'),\n",
              " Text(0.8937579307827357, 0.8142857142857143, 'x[2] <= 0.255\\ngini = 0.375\\nsamples = 4\\nvalue = [1, 3]'),\n",
              " Text(0.8893080011820126, 0.7857142857142857, 'gini = 0.0\\nsamples = 2\\nvalue = [0, 2]'),\n",
              " Text(0.8982078603834588, 0.7857142857142857, 'gini = 0.5\\nsamples = 2\\nvalue = [1, 1]'),\n",
              " Text(0.9026577899841819, 0.8714285714285714, 'x[10] <= 0.575\\ngini = 0.444\\nsamples = 6\\nvalue = [4, 2]'),\n",
              " Text(0.8982078603834588, 0.8428571428571429, 'gini = 0.0\\nsamples = 4\\nvalue = [4, 0]'),\n",
              " Text(0.907107719584905, 0.8428571428571429, 'gini = 0.0\\nsamples = 2\\nvalue = [0, 2]'),\n",
              " Text(0.9004328251838203, 0.9, 'gini = 0.0\\nsamples = 13\\nvalue = [13, 0]'),\n",
              " Text(0.9723270002955031, 0.9571428571428572, 'x[24] <= 0.4\\ngini = 0.208\\nsamples = 1130\\nvalue = [133, 997]'),\n",
              " Text(0.9535538597924526, 0.9285714285714286, 'x[45] <= 0.49\\ngini = 0.123\\nsamples = 1060\\nvalue = [70, 990]'),\n",
              " Text(0.9491039301917293, 0.9, 'x[55] <= 6.5\\ngini = 0.1\\nsamples = 1045\\nvalue = [55, 990]'),\n",
              " Text(0.9249074379877975, 0.8714285714285714, 'x[19] <= 2.845\\ngini = 0.473\\nsamples = 26\\nvalue = [16, 10]'),\n",
              " Text(0.9160075787863512, 0.8428571428571429, 'x[7] <= 0.515\\ngini = 0.124\\nsamples = 15\\nvalue = [14, 1]'),\n",
              " Text(0.9115576491856281, 0.8142857142857143, 'gini = 0.0\\nsamples = 14\\nvalue = [14, 0]'),\n",
              " Text(0.9204575083870743, 0.8142857142857143, 'gini = 0.0\\nsamples = 1\\nvalue = [0, 1]'),\n",
              " Text(0.9338072971892437, 0.8428571428571429, 'x[54] <= 1.427\\ngini = 0.298\\nsamples = 11\\nvalue = [2, 9]'),\n",
              " Text(0.9293573675885206, 0.8142857142857143, 'x[16] <= 0.48\\ngini = 0.444\\nsamples = 3\\nvalue = [2, 1]'),\n",
              " Text(0.9249074379877975, 0.7857142857142857, 'gini = 0.0\\nsamples = 2\\nvalue = [2, 0]'),\n",
              " Text(0.9338072971892437, 0.7857142857142857, 'gini = 0.0\\nsamples = 1\\nvalue = [0, 1]'),\n",
              " Text(0.9382572267899668, 0.8142857142857143, 'gini = 0.0\\nsamples = 8\\nvalue = [0, 8]'),\n",
              " Text(0.9733004223956613, 0.8714285714285714, 'x[26] <= 0.21\\ngini = 0.074\\nsamples = 1019\\nvalue = [39, 980]'),\n",
              " Text(0.9644005631942151, 0.8428571428571429, 'x[47] <= 0.525\\ngini = 0.063\\nsamples = 1012\\nvalue = [33, 979]'),\n",
              " Text(0.959950633593492, 0.8142857142857143, 'x[25] <= 0.16\\ngini = 0.06\\nsamples = 1010\\nvalue = [31, 979]'),\n",
              " Text(0.9427071563906899, 0.7857142857142857, 'x[49] <= 0.427\\ngini = 0.054\\nsamples = 1005\\nvalue = [28, 977]'),\n",
              " Text(0.9215699907872551, 0.7571428571428571, 'x[45] <= 0.225\\ngini = 0.042\\nsamples = 980\\nvalue = [21, 959]'),\n",
              " Text(0.9059952371847242, 0.7285714285714285, 'x[41] <= 0.19\\ngini = 0.036\\nsamples = 974\\nvalue = [18, 956]'),\n",
              " Text(0.897095377983278, 0.7, 'x[28] <= 0.185\\ngini = 0.032\\nsamples = 971\\nvalue = [16, 955]'),\n",
              " Text(0.8926454483825549, 0.6714285714285714, 'x[42] <= 0.33\\ngini = 0.03\\nsamples = 970\\nvalue = [15, 955]'),\n",
              " Text(0.8881955187818318, 0.6428571428571429, 'x[55] <= 9.5\\ngini = 0.028\\nsamples = 969\\nvalue = [14, 955]'),\n",
              " Text(0.8665021119783066, 0.6142857142857143, 'x[55] <= 8.5\\ngini = 0.291\\nsamples = 17\\nvalue = [3, 14]'),\n",
              " Text(0.8620521823775835, 0.5857142857142857, 'gini = 0.0\\nsamples = 13\\nvalue = [0, 13]'),\n",
              " Text(0.8709520415790297, 0.5857142857142857, 'x[52] <= 0.1\\ngini = 0.375\\nsamples = 4\\nvalue = [3, 1]'),\n",
              " Text(0.8665021119783066, 0.5571428571428572, 'gini = 0.0\\nsamples = 1\\nvalue = [0, 1]'),\n",
              " Text(0.8754019711797528, 0.5571428571428572, 'gini = 0.0\\nsamples = 3\\nvalue = [3, 0]'),\n",
              " Text(0.909888925585357, 0.6142857142857143, 'x[36] <= 0.085\\ngini = 0.023\\nsamples = 952\\nvalue = [11, 941]'),\n",
              " Text(0.8954266543830068, 0.5857142857142857, 'x[13] <= 1.785\\ngini = 0.015\\nsamples = 903\\nvalue = [7, 896]'),\n",
              " Text(0.884301830381199, 0.5571428571428572, 'x[54] <= 2.463\\ngini = 0.013\\nsamples = 898\\nvalue = [6, 892]'),\n",
              " Text(0.8754019711797528, 0.5285714285714286, 'x[54] <= 2.459\\ngini = 0.05\\nsamples = 194\\nvalue = [5, 189]'),\n",
              " Text(0.8709520415790297, 0.5, 'x[52] <= 0.801\\ngini = 0.041\\nsamples = 193\\nvalue = [4, 189]'),\n",
              " Text(0.8665021119783066, 0.4714285714285714, 'x[23] <= 0.805\\ngini = 0.031\\nsamples = 192\\nvalue = [3, 189]'),\n",
              " Text(0.8620521823775835, 0.44285714285714284, 'x[53] <= 0.085\\ngini = 0.021\\nsamples = 191\\nvalue = [2, 189]'),\n",
              " Text(0.8531523231761372, 0.4142857142857143, 'x[53] <= 0.036\\ngini = 0.011\\nsamples = 185\\nvalue = [1, 184]'),\n",
              " Text(0.8487023935754141, 0.38571428571428573, 'gini = 0.0\\nsamples = 165\\nvalue = [0, 165]'),\n",
              " Text(0.8576022527768604, 0.38571428571428573, 'x[53] <= 0.046\\ngini = 0.095\\nsamples = 20\\nvalue = [1, 19]'),\n",
              " Text(0.8531523231761372, 0.35714285714285715, 'gini = 0.0\\nsamples = 1\\nvalue = [1, 0]'),\n",
              " Text(0.8620521823775835, 0.35714285714285715, 'gini = 0.0\\nsamples = 19\\nvalue = [0, 19]'),\n",
              " Text(0.8709520415790297, 0.4142857142857143, 'x[16] <= 0.365\\ngini = 0.278\\nsamples = 6\\nvalue = [1, 5]'),\n",
              " Text(0.8665021119783066, 0.38571428571428573, 'gini = 0.0\\nsamples = 1\\nvalue = [1, 0]'),\n",
              " Text(0.8754019711797528, 0.38571428571428573, 'gini = 0.0\\nsamples = 5\\nvalue = [0, 5]'),\n",
              " Text(0.8709520415790297, 0.44285714285714284, 'gini = 0.0\\nsamples = 1\\nvalue = [1, 0]'),\n",
              " Text(0.8754019711797528, 0.4714285714285714, 'gini = 0.0\\nsamples = 1\\nvalue = [1, 0]'),\n",
              " Text(0.8798519007804759, 0.5, 'gini = 0.0\\nsamples = 1\\nvalue = [1, 0]'),\n",
              " Text(0.8932016895826452, 0.5285714285714286, 'x[16] <= 2.605\\ngini = 0.003\\nsamples = 704\\nvalue = [1, 703]'),\n",
              " Text(0.8887517599819221, 0.5, 'gini = 0.0\\nsamples = 692\\nvalue = [0, 692]'),\n",
              " Text(0.8976516191833684, 0.5, 'x[21] <= 0.45\\ngini = 0.153\\nsamples = 12\\nvalue = [1, 11]'),\n",
              " Text(0.8932016895826452, 0.4714285714285714, 'gini = 0.0\\nsamples = 1\\nvalue = [1, 0]'),\n",
              " Text(0.9021015487840915, 0.4714285714285714, 'gini = 0.0\\nsamples = 11\\nvalue = [0, 11]'),\n",
              " Text(0.9065514783848146, 0.5571428571428572, 'x[55] <= 23.5\\ngini = 0.32\\nsamples = 5\\nvalue = [1, 4]'),\n",
              " Text(0.9021015487840915, 0.5285714285714286, 'gini = 0.0\\nsamples = 3\\nvalue = [0, 3]'),\n",
              " Text(0.9110014079855377, 0.5285714285714286, 'gini = 0.5\\nsamples = 2\\nvalue = [1, 1]'),\n",
              " Text(0.924351196787707, 0.5857142857142857, 'x[36] <= 0.095\\ngini = 0.15\\nsamples = 49\\nvalue = [4, 45]'),\n",
              " Text(0.919901267186984, 0.5571428571428572, 'gini = 0.0\\nsamples = 1\\nvalue = [1, 0]'),\n",
              " Text(0.9288011263884302, 0.5571428571428572, 'x[26] <= 0.08\\ngini = 0.117\\nsamples = 48\\nvalue = [3, 45]'),\n",
              " Text(0.924351196787707, 0.5285714285714286, 'x[52] <= 0.062\\ngini = 0.081\\nsamples = 47\\nvalue = [2, 45]'),\n",
              " Text(0.9154513375862608, 0.5, 'x[48] <= 0.034\\ngini = 0.5\\nsamples = 2\\nvalue = [1, 1]'),\n",
              " Text(0.9110014079855377, 0.4714285714285714, 'gini = 0.0\\nsamples = 1\\nvalue = [1, 0]'),\n",
              " Text(0.919901267186984, 0.4714285714285714, 'gini = 0.0\\nsamples = 1\\nvalue = [0, 1]'),\n",
              " Text(0.9332510559891533, 0.5, 'x[3] <= 1.155\\ngini = 0.043\\nsamples = 45\\nvalue = [1, 44]'),\n",
              " Text(0.9288011263884302, 0.4714285714285714, 'gini = 0.0\\nsamples = 41\\nvalue = [0, 41]'),\n",
              " Text(0.9377009855898764, 0.4714285714285714, 'x[14] <= 0.18\\ngini = 0.375\\nsamples = 4\\nvalue = [1, 3]'),\n",
              " Text(0.9332510559891533, 0.44285714285714284, 'gini = 0.0\\nsamples = 1\\nvalue = [1, 0]'),\n",
              " Text(0.9421509151905996, 0.44285714285714284, 'gini = 0.0\\nsamples = 3\\nvalue = [0, 3]'),\n",
              " Text(0.9332510559891533, 0.5285714285714286, 'gini = 0.0\\nsamples = 1\\nvalue = [1, 0]'),\n",
              " Text(0.897095377983278, 0.6428571428571429, 'gini = 0.0\\nsamples = 1\\nvalue = [1, 0]'),\n",
              " Text(0.9015453075840011, 0.6714285714285714, 'gini = 0.0\\nsamples = 1\\nvalue = [1, 0]'),\n",
              " Text(0.9148950963861705, 0.7, 'x[18] <= 0.17\\ngini = 0.444\\nsamples = 3\\nvalue = [2, 1]'),\n",
              " Text(0.9104451667854473, 0.6714285714285714, 'gini = 0.0\\nsamples = 2\\nvalue = [2, 0]'),\n",
              " Text(0.9193450259868936, 0.6714285714285714, 'gini = 0.0\\nsamples = 1\\nvalue = [0, 1]'),\n",
              " Text(0.937144744389786, 0.7285714285714285, 'x[34] <= 0.165\\ngini = 0.5\\nsamples = 6\\nvalue = [3, 3]'),\n",
              " Text(0.9326948147890629, 0.7, 'x[27] <= 0.365\\ngini = 0.375\\nsamples = 4\\nvalue = [3, 1]'),\n",
              " Text(0.9282448851883398, 0.6714285714285714, 'gini = 0.0\\nsamples = 3\\nvalue = [3, 0]'),\n",
              " Text(0.937144744389786, 0.6714285714285714, 'gini = 0.0\\nsamples = 1\\nvalue = [0, 1]'),\n",
              " Text(0.9415946739905091, 0.7, 'gini = 0.0\\nsamples = 2\\nvalue = [0, 2]'),\n",
              " Text(0.9638443219941247, 0.7571428571428571, 'x[51] <= 0.052\\ngini = 0.403\\nsamples = 25\\nvalue = [7, 18]'),\n",
              " Text(0.9549444627926785, 0.7285714285714285, 'x[52] <= 0.678\\ngini = 0.408\\nsamples = 7\\nvalue = [5, 2]'),\n",
              " Text(0.9504945331919553, 0.7, 'gini = 0.0\\nsamples = 5\\nvalue = [5, 0]'),\n",
              " Text(0.9593943923934016, 0.7, 'gini = 0.0\\nsamples = 2\\nvalue = [0, 2]'),\n",
              " Text(0.9727441811955709, 0.7285714285714285, 'x[52] <= 0.293\\ngini = 0.198\\nsamples = 18\\nvalue = [2, 16]'),\n",
              " Text(0.9682942515948478, 0.7, 'x[1] <= 1.175\\ngini = 0.444\\nsamples = 3\\nvalue = [2, 1]'),\n",
              " Text(0.9638443219941247, 0.6714285714285714, 'gini = 0.0\\nsamples = 2\\nvalue = [2, 0]'),\n",
              " Text(0.9727441811955709, 0.6714285714285714, 'gini = 0.0\\nsamples = 1\\nvalue = [0, 1]'),\n",
              " Text(0.977194110796294, 0.7, 'gini = 0.0\\nsamples = 15\\nvalue = [0, 15]'),\n",
              " Text(0.977194110796294, 0.7857142857142857, 'x[51] <= 0.095\\ngini = 0.48\\nsamples = 5\\nvalue = [3, 2]'),\n",
              " Text(0.9727441811955709, 0.7571428571428571, 'gini = 0.0\\nsamples = 3\\nvalue = [3, 0]'),\n",
              " Text(0.9816440403970171, 0.7571428571428571, 'gini = 0.0\\nsamples = 2\\nvalue = [0, 2]'),\n",
              " Text(0.9688504927949382, 0.8142857142857143, 'gini = 0.0\\nsamples = 2\\nvalue = [2, 0]'),\n",
              " Text(0.9822002815971076, 0.8428571428571429, 'x[1] <= 0.36\\ngini = 0.245\\nsamples = 7\\nvalue = [6, 1]'),\n",
              " Text(0.9777503519963844, 0.8142857142857143, 'gini = 0.0\\nsamples = 6\\nvalue = [6, 0]'),\n",
              " Text(0.9866502111978307, 0.8142857142857143, 'gini = 0.0\\nsamples = 1\\nvalue = [0, 1]'),\n",
              " Text(0.9580037893931757, 0.9, 'gini = 0.0\\nsamples = 15\\nvalue = [15, 0]'),\n",
              " Text(0.9911001407985538, 0.9285714285714286, 'x[7] <= 0.075\\ngini = 0.18\\nsamples = 70\\nvalue = [63, 7]'),\n",
              " Text(0.9866502111978307, 0.9, 'x[18] <= 0.285\\ngini = 0.031\\nsamples = 64\\nvalue = [63, 1]'),\n",
              " Text(0.9822002815971076, 0.8714285714285714, 'gini = 0.0\\nsamples = 63\\nvalue = [63, 0]'),\n",
              " Text(0.9911001407985538, 0.8714285714285714, 'gini = 0.0\\nsamples = 1\\nvalue = [0, 1]'),\n",
              " Text(0.9955500703992769, 0.9, 'gini = 0.0\\nsamples = 6\\nvalue = [0, 6]')]"
            ]
          },
          "metadata": {},
          "execution_count": 32
        },
        {
          "output_type": "display_data",
          "data": {
            "text/plain": [
              "<Figure size 432x288 with 1 Axes>"
            ],
            "image/png": "[encoded data removed]"
          },
          "metadata": {
            "needs_background": "light"
          }
        }
      ]
    },
    {
      "cell_type": "code",
      "source": [
        "c3= [[0.82,  0.9254163649529327], [0.82, 0.9254163649529327], [0.82, 0.9254163649529327], [0.82, 0.9254163649529327]]\n",
        "df = pd.DataFrame(c3, columns=['KNN', 'Logistic Regression'])\n",
        "df"
      ],
      "metadata": {
        "colab": {
          "base_uri": "https://localhost:8080/",
          "height": 175
        },
        "id": "Jt6VnNztTc52",
        "outputId": "71cdaafc-305f-4f18-826e-5eddc0818d32"
      },
      "execution_count": 46,
      "outputs": [
        {
          "output_type": "execute_result",
          "data": {
            "text/plain": [
              "    KNN  Logistic Regression\n",
              "0  0.82             0.925416\n",
              "1  0.82             0.925416\n",
              "2  0.82             0.925416\n",
              "3  0.82             0.925416"
            ],
            "text/html": [
              "\n",
              "  <div id=\"df-9f22a586-a879-47eb-9293-83cee1fc167f\">\n",
              "    <div class=\"colab-df-container\">\n",
              "      <div>\n",
              "<style scoped>\n",
              "    .dataframe tbody tr th:only-of-type {\n",
              "        vertical-align: middle;\n",
              "    }\n",
              "\n",
              "    .dataframe tbody tr th {\n",
              "        vertical-align: top;\n",
              "    }\n",
              "\n",
              "    .dataframe thead th {\n",
              "        text-align: right;\n",
              "    }\n",
              "</style>\n",
              "<table border=\"1\" class=\"dataframe\">\n",
              "  <thead>\n",
              "    <tr style=\"text-align: right;\">\n",
              "      <th></th>\n",
              "      <th>KNN</th>\n",
              "      <th>Logistic Regression</th>\n",
              "    </tr>\n",
              "  </thead>\n",
              "  <tbody>\n",
              "    <tr>\n",
              "      <th>0</th>\n",
              "      <td>0.82</td>\n",
              "      <td>0.925416</td>\n",
              "    </tr>\n",
              "    <tr>\n",
              "      <th>1</th>\n",
              "      <td>0.82</td>\n",
              "      <td>0.925416</td>\n",
              "    </tr>\n",
              "    <tr>\n",
              "      <th>2</th>\n",
              "      <td>0.82</td>\n",
              "      <td>0.925416</td>\n",
              "    </tr>\n",
              "    <tr>\n",
              "      <th>3</th>\n",
              "      <td>0.82</td>\n",
              "      <td>0.925416</td>\n",
              "    </tr>\n",
              "  </tbody>\n",
              "</table>\n",
              "</div>\n",
              "      <button class=\"colab-df-convert\" onclick=\"convertToInteractive('df-9f22a586-a879-47eb-9293-83cee1fc167f')\"\n",
              "              title=\"Convert this dataframe to an interactive table.\"\n",
              "              style=\"display:none;\">\n",
              "        \n",
              "  <svg xmlns=\"http://www.w3.org/2000/svg\" height=\"24px\"viewBox=\"0 0 24 24\"\n",
              "       width=\"24px\">\n",
              "    <path d=\"M0 0h24v24H0V0z\" fill=\"none\"/>\n",
              "    <path d=\"M18.56 5.44l.94 2.06.94-2.06 2.06-.94-2.06-.94-.94-2.06-.94 2.06-2.06.94zm-11 1L8.5 8.5l.94-2.06 2.06-.94-2.06-.94L8.5 2.5l-.94 2.06-2.06.94zm10 10l.94 2.06.94-2.06 2.06-.94-2.06-.94-.94-2.06-.94 2.06-2.06.94z\"/><path d=\"M17.41 7.96l-1.37-1.37c-.4-.4-.92-.59-1.43-.59-.52 0-1.04.2-1.43.59L10.3 9.45l-7.72 7.72c-.78.78-.78 2.05 0 2.83L4 21.41c.39.39.9.59 1.41.59.51 0 1.02-.2 1.41-.59l7.78-7.78 2.81-2.81c.8-.78.8-2.07 0-2.86zM5.41 20L4 18.59l7.72-7.72 1.47 1.35L5.41 20z\"/>\n",
              "  </svg>\n",
              "      </button>\n",
              "      \n",
              "  <style>\n",
              "    .colab-df-container {\n",
              "      display:flex;\n",
              "      flex-wrap:wrap;\n",
              "      gap: 12px;\n",
              "    }\n",
              "\n",
              "    .colab-df-convert {\n",
              "      background-color: #E8F0FE;\n",
              "      border: none;\n",
              "      border-radius: 50%;\n",
              "      cursor: pointer;\n",
              "      display: none;\n",
              "      fill: #1967D2;\n",
              "      height: 32px;\n",
              "      padding: 0 0 0 0;\n",
              "      width: 32px;\n",
              "    }\n",
              "\n",
              "    .colab-df-convert:hover {\n",
              "      background-color: #E2EBFA;\n",
              "      box-shadow: 0px 1px 2px rgba(60, 64, 67, 0.3), 0px 1px 3px 1px rgba(60, 64, 67, 0.15);\n",
              "      fill: #174EA6;\n",
              "    }\n",
              "\n",
              "    [theme=dark] .colab-df-convert {\n",
              "      background-color: #3B4455;\n",
              "      fill: #D2E3FC;\n",
              "    }\n",
              "\n",
              "    [theme=dark] .colab-df-convert:hover {\n",
              "      background-color: #434B5C;\n",
              "      box-shadow: 0px 1px 3px 1px rgba(0, 0, 0, 0.15);\n",
              "      filter: drop-shadow(0px 1px 2px rgba(0, 0, 0, 0.3));\n",
              "      fill: #FFFFFF;\n",
              "    }\n",
              "  </style>\n",
              "\n",
              "      <script>\n",
              "        const buttonEl =\n",
              "          document.querySelector('#df-9f22a586-a879-47eb-9293-83cee1fc167f button.colab-df-convert');\n",
              "        buttonEl.style.display =\n",
              "          google.colab.kernel.accessAllowed ? 'block' : 'none';\n",
              "\n",
              "        async function convertToInteractive(key) {\n",
              "          const element = document.querySelector('#df-9f22a586-a879-47eb-9293-83cee1fc167f');\n",
              "          const dataTable =\n",
              "            await google.colab.kernel.invokeFunction('convertToInteractive',\n",
              "                                                     [key], {});\n",
              "          if (!dataTable) return;\n",
              "\n",
              "          const docLinkHtml = 'Like what you see? Visit the ' +\n",
              "            '<a target=\"_blank\" href=https://colab.research.google.com/notebooks/data_table.ipynb>data table notebook</a>'\n",
              "            + ' to learn more about interactive tables.';\n",
              "          element.innerHTML = '';\n",
              "          dataTable['output_type'] = 'display_data';\n",
              "          await google.colab.output.renderOutput(dataTable, element);\n",
              "          const docLink = document.createElement('div');\n",
              "          docLink.innerHTML = docLinkHtml;\n",
              "          element.appendChild(docLink);\n",
              "        }\n",
              "      </script>\n",
              "    </div>\n",
              "  </div>\n",
              "  "
            ]
          },
          "metadata": {},
          "execution_count": 46
        }
      ]
    },
    {
      "cell_type": "markdown",
      "source": [
        "#Finally,\n",
        "Save a copy in your Github. Remember renaming the notebook."
      ],
      "metadata": {
        "id": "Ok7RGkea_b7n"
      }
    }
  ]
}