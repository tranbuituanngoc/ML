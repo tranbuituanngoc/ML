{
  "nbformat": 4,
  "nbformat_minor": 0,
  "metadata": {
    "colab": {
      "provenance": [],
      "include_colab_link": true
    },
    "kernelspec": {
      "name": "python3",
      "display_name": "Python 3"
    },
    "language_info": {
      "name": "python"
    }
  },
  "cells": [
    {
      "cell_type": "markdown",
      "metadata": {
        "id": "view-in-github",
        "colab_type": "text"
      },
      "source": [
        "<a href=\"https://colab.research.google.com/github/tranbuituanngoc/ML/blob/main/Lab_5_20130337_TranBuiTuanNgoc.ipynb\" target=\"_parent\"><img src=\"https://colab.research.google.com/assets/colab-badge.svg\" alt=\"Open In Colab\"/></a>"
      ]
    },
    {
      "cell_type": "markdown",
      "source": [
        "# This lab is to deal with **SVM** to classification tasks and compare its performance with other competitive algorithms. In general, **SVM** is one of the most popular and widely used supervised machine learning algorithms.\n",
        "\n",
        "*   **Deadline: 23:59, 17/03/2023**\n",
        "\n"
      ],
      "metadata": {
        "id": "LMzehe0sy5wr"
      }
    },
    {
      "cell_type": "markdown",
      "source": [
        "# Import libraries"
      ],
      "metadata": {
        "id": "H4nJmxp9zGX4"
      }
    },
    {
      "cell_type": "code",
      "execution_count": 1,
      "metadata": {
        "id": "DoVWQ8AEyc-C"
      },
      "outputs": [],
      "source": [
        "import numpy as np\n",
        "import pandas as pd\n",
        "import matplotlib.pyplot as plt\n",
        "from sklearn.impute import SimpleImputer\n",
        "from sklearn import svm"
      ]
    },
    {
      "cell_type": "code",
      "source": [
        "from sklearn.metrics import confusion_matrix \n",
        "from sklearn.metrics import accuracy_score\n",
        "from sklearn.linear_model import LogisticRegression \n",
        "from sklearn.model_selection import train_test_split\n",
        "from sklearn.metrics import precision_score\n",
        "from sklearn.metrics import recall_score\n",
        "from sklearn.metrics import f1_score\n",
        "from sklearn.metrics import confusion_matrix\n",
        "from sklearn.metrics import ConfusionMatrixDisplay\n",
        "from sklearn.neighbors import KNeighborsClassifier\n",
        "from sklearn import tree\n",
        "from sklearn.tree import DecisionTreeClassifier\n",
        "from prettytable import PrettyTable"
      ],
      "metadata": {
        "id": "pFcQPMkgozTh"
      },
      "execution_count": 2,
      "outputs": []
    },
    {
      "cell_type": "markdown",
      "source": [
        "#Task 1. \n",
        "For breast cancer dataset (https://tinyurl.com/3vme8hr3) which could be loaded from datasets in sklearn as follows:\n",
        "\n",
        "```\n",
        "#Import scikit-learn dataset library\n",
        "from sklearn import datasets\n",
        "\n",
        "#Load dataset\n",
        "cancer = datasets.load_breast_cancer()\n",
        "```\n",
        "\n",
        "*   1.1.\tApply SVM algorithm to above dataset using linear kernel.\n",
        "*   1.2.\tCompare the obtained results with other competitive algorithms (Logistic Regression, Decision Tree, kNN) based on metrics: accuracy, precision, recall, f1 measures.\n",
        "\n"
      ],
      "metadata": {
        "id": "kNv07ARGzOUm"
      }
    },
    {
      "cell_type": "code",
      "source": [
        "# Import scikit-learn dataset library\n",
        "from sklearn import datasets\n",
        "# Load dataset\n",
        "cancer = datasets.load_breast_cancer()"
      ],
      "metadata": {
        "id": "sOsg77IBzEyo"
      },
      "execution_count": 3,
      "outputs": []
    },
    {
      "cell_type": "markdown",
      "source": [
        "SVM"
      ],
      "metadata": {
        "id": "1ktmPPzc7NS-"
      }
    },
    {
      "cell_type": "code",
      "source": [
        "X= cancer['data']\n",
        "Y= cancer['target']\n",
        "X_train, X_test, y_train, y_test = train_test_split(X, Y, test_size=0.3, train_size=0.7,  random_state = 1)\n",
        "clf = svm.SVC(kernel='linear')\n",
        "#Train the model using the training sets\n",
        "clf.fit(X_train, y_train)\n",
        "#Predict the response for test dataset\n",
        "y_pred = clf.predict(X_test)\n",
        "kncm=confusion_matrix(y_test, y_pred)\n",
        "knas=round(accuracy_score(y_test, y_pred),2)\n",
        "knps=round(precision_score(y_test, y_pred),2)\n",
        "knrs=round(recall_score(y_test, y_pred),2)\n",
        "knfs=round(f1_score(y_test, y_pred),2)\n",
        "print (\"Confusion Matrix : \\n\", confusion_matrix(y_test, y_pred))\n",
        "print (\"Accuracy : \", accuracy_score(y_test, y_pred))\n",
        "print (\"Precision : \", precision_score(y_test, y_pred))\n",
        "print (\"Recall : \", recall_score(y_test, y_pred))\n",
        "print (\"F1 : \", f1_score(y_test, y_pred))"
      ],
      "metadata": {
        "colab": {
          "base_uri": "https://localhost:8080/"
        },
        "id": "YO-iimoNoyiy",
        "outputId": "c59c4d53-09bb-4c00-be91-1373f1373b9d"
      },
      "execution_count": 4,
      "outputs": [
        {
          "output_type": "stream",
          "name": "stdout",
          "text": [
            "Confusion Matrix : \n",
            " [[ 57   6]\n",
            " [  2 106]]\n",
            "Accuracy :  0.9532163742690059\n",
            "Precision :  0.9464285714285714\n",
            "Recall :  0.9814814814814815\n",
            "F1 :  0.9636363636363636\n"
          ]
        }
      ]
    },
    {
      "cell_type": "markdown",
      "source": [
        "LogisticRegression"
      ],
      "metadata": {
        "id": "LVNg_j1J7Lsm"
      }
    },
    {
      "cell_type": "code",
      "source": [
        "classifier = LogisticRegression(random_state = 0) \n",
        "classifier.fit(X_train, y_train) \n",
        "y_pred = classifier.predict(X_test)\n",
        "y_pred = clf.predict(X_test)\n",
        "lras=round(accuracy_score(y_test, y_pred),2)\n",
        "lrps=round(precision_score(y_test, y_pred),2)\n",
        "lrrs=round(recall_score(y_test, y_pred),2)\n",
        "lrfs=round(f1_score(y_test, y_pred),2)\n",
        "print (\"Confusion Matrix : \\n\", confusion_matrix(y_test, y_pred))\n",
        "print (\"Accuracy : \", accuracy_score(y_test, y_pred))\n",
        "print (\"Precision : \", precision_score(y_test, y_pred, average='micro'))\n",
        "print (\"Recall : \", recall_score(y_test, y_pred, average='micro'))\n",
        "print (\"F1 : \", f1_score(y_test, y_pred, average='micro'))"
      ],
      "metadata": {
        "colab": {
          "base_uri": "https://localhost:8080/"
        },
        "id": "D2W6SC3zq_s7",
        "outputId": "0c646f70-4cf6-46ca-fd10-eb4b81d5cc10"
      },
      "execution_count": 5,
      "outputs": [
        {
          "output_type": "stream",
          "name": "stdout",
          "text": [
            "Confusion Matrix : \n",
            " [[ 57   6]\n",
            " [  2 106]]\n",
            "Accuracy :  0.9532163742690059\n",
            "Precision :  0.9532163742690059\n",
            "Recall :  0.9532163742690059\n",
            "F1 :  0.9532163742690059\n"
          ]
        },
        {
          "output_type": "stream",
          "name": "stderr",
          "text": [
            "/usr/local/lib/python3.9/dist-packages/sklearn/linear_model/_logistic.py:458: ConvergenceWarning: lbfgs failed to converge (status=1):\n",
            "STOP: TOTAL NO. of ITERATIONS REACHED LIMIT.\n",
            "\n",
            "Increase the number of iterations (max_iter) or scale the data as shown in:\n",
            "    https://scikit-learn.org/stable/modules/preprocessing.html\n",
            "Please also refer to the documentation for alternative solver options:\n",
            "    https://scikit-learn.org/stable/modules/linear_model.html#logistic-regression\n",
            "  n_iter_i = _check_optimize_result(\n"
          ]
        }
      ]
    },
    {
      "cell_type": "markdown",
      "source": [
        "DecisionTree"
      ],
      "metadata": {
        "id": "VCB6lrFx7H5W"
      }
    },
    {
      "cell_type": "code",
      "source": [
        "dtree = DecisionTreeClassifier()\n",
        "dtree = dtree.fit(X_train, y_train) \n",
        "y_pred = dtree.predict(X_test)\n",
        "y_pred = clf.predict(X_test)\n",
        "dtcm=confusion_matrix(y_test, y_pred)\n",
        "dtas=round(accuracy_score(y_test, y_pred),2)\n",
        "dtps=round(precision_score(y_test, y_pred),2)\n",
        "dtrs=round(recall_score(y_test, y_pred),2)\n",
        "dtfs=round(f1_score(y_test, y_pred),2)\n",
        "print (\"Confusion Matrix : \\n\", confusion_matrix(y_test, y_pred))\n",
        "print (\"Accuracy : \", accuracy_score(y_test, y_pred))\n",
        "print (\"Precision : \", precision_score(y_test, y_pred, average='micro'))\n",
        "print (\"Recall : \", recall_score(y_test, y_pred, average='micro'))\n",
        "print (\"F1 : \", f1_score(y_test, y_pred, average='micro'))"
      ],
      "metadata": {
        "colab": {
          "base_uri": "https://localhost:8080/"
        },
        "id": "Wf1y2RLUrO0D",
        "outputId": "d21199c6-f886-4431-8306-018b64cb5af7"
      },
      "execution_count": 6,
      "outputs": [
        {
          "output_type": "stream",
          "name": "stdout",
          "text": [
            "Confusion Matrix : \n",
            " [[ 57   6]\n",
            " [  2 106]]\n",
            "Accuracy :  0.9532163742690059\n",
            "Precision :  0.9532163742690059\n",
            "Recall :  0.9532163742690059\n",
            "F1 :  0.9532163742690059\n"
          ]
        }
      ]
    },
    {
      "cell_type": "markdown",
      "source": [
        "kNN"
      ],
      "metadata": {
        "id": "AMGAhamZ7Gee"
      }
    },
    {
      "cell_type": "code",
      "source": [
        "cancer = KNeighborsClassifier()\n",
        "X_train, X_test, y_train, y_test = train_test_split(X, Y, test_size=0.3, train_size=0.7,  random_state = 1)\n",
        "cancer.fit(X_train,y_train)\n",
        "y_pred = cancer.predict(X_test) \n",
        "knncm=confusion_matrix(y_test, y_pred)\n",
        "knnas=round(accuracy_score(y_test, y_pred),2)\n",
        "knnps=round(precision_score(y_test, y_pred),2)\n",
        "knnrs=round(recall_score(y_test, y_pred),2)\n",
        "knnfs=round(f1_score(y_test, y_pred),2)\n",
        "print (\"Confusion Matrix : \\n\", confusion_matrix(y_test, y_pred))\n",
        "print (\"Accuracy : \", accuracy_score(y_test, y_pred))\n",
        "print (\"Precision : \", precision_score(y_test, y_pred, average='micro'))\n",
        "print (\"Recall : \", recall_score(y_test, y_pred, average='micro'))\n",
        "print (\"F1 : \", f1_score(y_test, y_pred, average='micro'))"
      ],
      "metadata": {
        "colab": {
          "base_uri": "https://localhost:8080/"
        },
        "id": "j8coKxBbwbmf",
        "outputId": "5b189bd6-c461-4dba-a393-5aeb0716c1b3"
      },
      "execution_count": 7,
      "outputs": [
        {
          "output_type": "stream",
          "name": "stdout",
          "text": [
            "Confusion Matrix : \n",
            " [[ 56   7]\n",
            " [  5 103]]\n",
            "Accuracy :  0.9298245614035088\n",
            "Precision :  0.9298245614035088\n",
            "Recall :  0.9298245614035088\n",
            "F1 :  0.9298245614035088\n"
          ]
        }
      ]
    },
    {
      "cell_type": "code",
      "source": [
        "t= PrettyTable(['Clasicfical Algorithm', 'Accuracy','Precision','Recall','F1'])\n",
        "t.add_row(['SVM',knas,knps,knrs,knfs])\n",
        "t.add_row(['kNN',knnas,knnps,knnrs,knnfs])\n",
        "t.add_row(['DecisionTree',dtas,dtps,dtrs,dtfs])\n",
        "t.add_row(['LogisticRegression',lras,lrps,lrrs,lrfs])\n",
        "print(t)"
      ],
      "metadata": {
        "colab": {
          "base_uri": "https://localhost:8080/"
        },
        "id": "yBt3uCxxp95i",
        "outputId": "5cdbd8ba-7e61-4b76-fd29-aad9b0cc057f"
      },
      "execution_count": 8,
      "outputs": [
        {
          "output_type": "stream",
          "name": "stdout",
          "text": [
            "+-----------------------+----------+-----------+--------+------+\n",
            "| Clasicfical Algorithm | Accuracy | Precision | Recall |  F1  |\n",
            "+-----------------------+----------+-----------+--------+------+\n",
            "|          SVM          |   0.95   |    0.95   |  0.98  | 0.96 |\n",
            "|          kNN          |   0.93   |    0.94   |  0.95  | 0.94 |\n",
            "|      DecisionTree     |   0.95   |    0.95   |  0.98  | 0.96 |\n",
            "|   LogisticRegression  |   0.95   |    0.95   |  0.98  | 0.96 |\n",
            "+-----------------------+----------+-----------+--------+------+\n"
          ]
        }
      ]
    },
    {
      "cell_type": "markdown",
      "source": [
        "#Task 2. \n",
        "\n",
        "*   1.1.\tPerform SVM algorithm to **Iris dataset** using **linear kernel**.\n",
        "*   1.2.\tCompare the obtained results in 1.1 with SVM using other kernels (**Polynomial Kernel, Gaussian Kernel, Sigmoid Kernel, Radial Basis Function Kernel**). Some metrics could be used: accuracy, precision, recall, f1 measures\n",
        "\n",
        "\n",
        "\n"
      ],
      "metadata": {
        "id": "S43IoUT-0OQq"
      }
    },
    {
      "cell_type": "code",
      "source": [
        "data4 = datasets.load_iris()"
      ],
      "metadata": {
        "id": "_xhPpF5b033h"
      },
      "execution_count": 9,
      "outputs": []
    },
    {
      "cell_type": "markdown",
      "source": [
        "Polynomial Kernel"
      ],
      "metadata": {
        "id": "0F86Vr2r1OJ4"
      }
    },
    {
      "cell_type": "code",
      "source": [
        "X= data4['data']\n",
        "Y= data4['target']\n",
        "X_train, X_test, y_train, y_test = train_test_split(X, Y, test_size=0.3, train_size=0.7,  random_state = 1)\n",
        "clf = svm.SVC(kernel='poly')\n",
        "#Train the model using the training sets\n",
        "clf.fit(X_train, y_train)\n",
        "#Predict the response for test dataset\n",
        "y_pred = clf.predict(X_test)\n",
        "plcm=confusion_matrix(y_test, y_pred)\n",
        "plas=round(accuracy_score(y_test, y_pred),2)\n",
        "plps=round(precision_score(y_test, y_pred, average='micro'),2)\n",
        "plrs=round(recall_score(y_test, y_pred, average='micro'),2)\n",
        "plfs=round(f1_score(y_test, y_pred, average='micro'),2)\n",
        "print (\"Confusion Matrix : \\n\", confusion_matrix(y_test, y_pred))\n",
        "print (\"Accuracy : \", accuracy_score(y_test, y_pred))\n",
        "print (\"Precision : \", precision_score(y_test, y_pred, average='micro'))\n",
        "print (\"Recall : \", recall_score(y_test, y_pred, average='micro'))\n",
        "print (\"F1 : \", f1_score(y_test, y_pred, average='micro'))"
      ],
      "metadata": {
        "colab": {
          "base_uri": "https://localhost:8080/"
        },
        "id": "o1z_W9Ke1J-a",
        "outputId": "0d668653-b706-4ca3-dc62-69582f33be0e"
      },
      "execution_count": 10,
      "outputs": [
        {
          "output_type": "stream",
          "name": "stdout",
          "text": [
            "Confusion Matrix : \n",
            " [[14  0  0]\n",
            " [ 0 17  1]\n",
            " [ 0  0 13]]\n",
            "Accuracy :  0.9777777777777777\n",
            "Precision :  0.9777777777777777\n",
            "Recall :  0.9777777777777777\n",
            "F1 :  0.9777777777777777\n"
          ]
        }
      ]
    },
    {
      "cell_type": "markdown",
      "source": [
        "Radial Basis\n",
        "\n",
        "\n"
      ],
      "metadata": {
        "id": "FhE6wBzM3FE9"
      }
    },
    {
      "cell_type": "code",
      "source": [
        "clf = svm.SVC(kernel='rbf')\n",
        "#Train the model using the training sets\n",
        "clf.fit(X_train, y_train)\n",
        "#Predict the response for test dataset\n",
        "y_pred = clf.predict(X_test)\n",
        "rbcm=confusion_matrix(y_test, y_pred)\n",
        "rbas=round(accuracy_score(y_test, y_pred),2)\n",
        "rbps=round(precision_score(y_test, y_pred, average='micro'),2)\n",
        "rbrs=round(recall_score(y_test, y_pred, average='micro'),2)\n",
        "rbfs=round(f1_score(y_test, y_pred, average='micro'),2)\n",
        "print (\"Confusion Matrix : \\n\", confusion_matrix(y_test, y_pred))\n",
        "print (\"Accuracy : \", accuracy_score(y_test, y_pred))\n",
        "print (\"Precision : \", precision_score(y_test, y_pred, average='micro'))\n",
        "print (\"Recall : \", recall_score(y_test, y_pred, average='micro'))\n",
        "print (\"F1 : \", f1_score(y_test, y_pred, average='micro'))"
      ],
      "metadata": {
        "colab": {
          "base_uri": "https://localhost:8080/"
        },
        "id": "VhaCJ0kO22pD",
        "outputId": "e034ba54-5753-420b-ed1f-f3028b9abb5a"
      },
      "execution_count": 11,
      "outputs": [
        {
          "output_type": "stream",
          "name": "stdout",
          "text": [
            "Confusion Matrix : \n",
            " [[14  0  0]\n",
            " [ 0 17  1]\n",
            " [ 0  0 13]]\n",
            "Accuracy :  0.9777777777777777\n",
            "Precision :  0.9777777777777777\n",
            "Recall :  0.9777777777777777\n",
            "F1 :  0.9777777777777777\n"
          ]
        }
      ]
    },
    {
      "cell_type": "markdown",
      "source": [
        "Sigmoid Kernel"
      ],
      "metadata": {
        "id": "MPzS0cW23cdL"
      }
    },
    {
      "cell_type": "code",
      "source": [
        "clf = svm.SVC(kernel='sigmoid')\n",
        "#Train the model using the training sets\n",
        "clf.fit(X_train, y_train)\n",
        "#Predict the response for test dataset\n",
        "y_pred = clf.predict(X_test)\n",
        "sicm=confusion_matrix(y_test, y_pred)\n",
        "sias=round(accuracy_score(y_test, y_pred),2)\n",
        "sips=round(precision_score(y_test, y_pred, average='micro'),2)\n",
        "sirs=round(recall_score(y_test, y_pred, average='micro'),2)\n",
        "sifs=round(f1_score(y_test, y_pred, average='micro'),2)\n",
        "print (\"Confusion Matrix : \\n\", confusion_matrix(y_test, y_pred))\n",
        "print (\"Accuracy : \", accuracy_score(y_test, y_pred))\n",
        "print (\"Precision : \", precision_score(y_test, y_pred, average='micro'))\n",
        "print (\"Recall : \", recall_score(y_test, y_pred, average='micro'))\n",
        "print (\"F1 : \", f1_score(y_test, y_pred, average='micro'))"
      ],
      "metadata": {
        "colab": {
          "base_uri": "https://localhost:8080/"
        },
        "id": "SxnK8SPh3gPU",
        "outputId": "dec343cb-132f-4489-f4c9-6da04648146c"
      },
      "execution_count": 12,
      "outputs": [
        {
          "output_type": "stream",
          "name": "stdout",
          "text": [
            "Confusion Matrix : \n",
            " [[ 0  0 14]\n",
            " [ 0  0 18]\n",
            " [ 0  0 13]]\n",
            "Accuracy :  0.28888888888888886\n",
            "Precision :  0.28888888888888886\n",
            "Recall :  0.28888888888888886\n",
            "F1 :  0.28888888888888886\n"
          ]
        }
      ]
    },
    {
      "cell_type": "code",
      "source": [
        "t= PrettyTable(['Liner Kernel', 'Accuracy','Precision','Recall','F1'])\n",
        "t.add_row(['Sigmoid Kernel',sias,sips,sirs,sifs])\n",
        "t.add_row(['Radial Basis',rbas,rbps,rbrs,rbfs])\n",
        "t.add_row(['Polynomial Kernel',plas,plps,plrs,plfs])\n",
        "print(t)"
      ],
      "metadata": {
        "colab": {
          "base_uri": "https://localhost:8080/"
        },
        "id": "juB3h2mQ4L--",
        "outputId": "57e18c3f-1c5a-4f61-cda3-74fcb2bd2ef3"
      },
      "execution_count": 13,
      "outputs": [
        {
          "output_type": "stream",
          "name": "stdout",
          "text": [
            "+-------------------+----------+-----------+--------+------+\n",
            "|    Liner Kernel   | Accuracy | Precision | Recall |  F1  |\n",
            "+-------------------+----------+-----------+--------+------+\n",
            "|   Sigmoid Kernel  |   0.29   |    0.29   |  0.29  | 0.29 |\n",
            "|    Radial Basis   |   0.98   |    0.98   |  0.98  | 0.98 |\n",
            "| Polynomial Kernel |   0.98   |    0.98   |  0.98  | 0.98 |\n",
            "+-------------------+----------+-----------+--------+------+\n"
          ]
        }
      ]
    },
    {
      "cell_type": "markdown",
      "source": [
        "#Task 3. \n",
        "Compare the performance of selected classification algorithms (Decision Tree, kNN, Logistic Regression) and SVM (using different kernels) with mnist dataset based on accuracy, precision, recall, f1 measures.\n"
      ],
      "metadata": {
        "id": "b52OPWPD2afi"
      }
    },
    {
      "cell_type": "code",
      "source": [
        "from sklearn import datasets\n",
        "# load the MNIST digits dataset\n",
        "mnist = datasets.load_digits()"
      ],
      "metadata": {
        "id": "IfZ8IPIN5463"
      },
      "execution_count": 14,
      "outputs": []
    },
    {
      "cell_type": "markdown",
      "source": [
        "SVM Sigmoid Kernel"
      ],
      "metadata": {
        "id": "KVV2HhvR6JWW"
      }
    },
    {
      "cell_type": "code",
      "source": [
        "X= mnist['data']\n",
        "Y= mnist['target']\n",
        "X_train, X_test, y_train, y_test = train_test_split(X, Y, test_size=0.3, train_size=0.7,  random_state = 1)\n",
        "clf = svm.SVC(kernel='sigmoid')\n",
        "#Train the model using the training sets\n",
        "clf.fit(X_train, y_train)\n",
        "#Predict the response for test dataset\n",
        "y_pred = clf.predict(X_test)\n",
        "sicm=confusion_matrix(y_test, y_pred)\n",
        "sias=round(accuracy_score(y_test, y_pred),2)\n",
        "sips=round(precision_score(y_test, y_pred, average='micro'),2)\n",
        "sirs=round(recall_score(y_test, y_pred, average='micro'),2)\n",
        "sifs=round(f1_score(y_test, y_pred, average='micro'),2)\n",
        "print (\"Confusion Matrix : \\n\", confusion_matrix(y_test, y_pred))\n",
        "print (\"Accuracy : \", accuracy_score(y_test, y_pred))\n",
        "print (\"Precision : \", precision_score(y_test, y_pred, average='micro'))\n",
        "print (\"Recall : \", recall_score(y_test, y_pred, average='micro'))\n",
        "print (\"F1 : \", f1_score(y_test, y_pred, average='micro'))"
      ],
      "metadata": {
        "colab": {
          "base_uri": "https://localhost:8080/"
        },
        "id": "ZCNWQX3q6JBY",
        "outputId": "041855f0-a32a-4bfb-d1fe-c7ea1d43d935"
      },
      "execution_count": 15,
      "outputs": [
        {
          "output_type": "stream",
          "name": "stdout",
          "text": [
            "Confusion Matrix : \n",
            " [[55  0  0  0  4  0  0  0  0  0]\n",
            " [ 0 40  0  0  1  0  1  4  1  2]\n",
            " [ 0  2 46  0  0  0  0  0  1  0]\n",
            " [ 0  2  1 57  0  0  0  1  3  0]\n",
            " [ 2  3  0  0 55  0  1  0  0  0]\n",
            " [ 0  1  0  0  0 45  0  0  0  1]\n",
            " [ 0  0  0  0  1  0 50  0  0  0]\n",
            " [ 0  0  0  0  0  1  0 55  0  1]\n",
            " [ 0  2  1  1  0  1  0  0 35  6]\n",
            " [ 0  1  0  0  0  2  0  3  0 51]]\n",
            "Accuracy :  0.9055555555555556\n",
            "Precision :  0.9055555555555556\n",
            "Recall :  0.9055555555555556\n",
            "F1 :  0.9055555555555556\n"
          ]
        }
      ]
    },
    {
      "cell_type": "markdown",
      "source": [
        "SVM Radial Basis"
      ],
      "metadata": {
        "id": "NNLtCHpP6c6B"
      }
    },
    {
      "cell_type": "code",
      "source": [
        "clf = svm.SVC(kernel='rbf')\n",
        "#Train the model using the training sets\n",
        "clf.fit(X_train, y_train)\n",
        "#Predict the response for test dataset\n",
        "y_pred = clf.predict(X_test)\n",
        "rbcm=confusion_matrix(y_test, y_pred)\n",
        "rbas=round(accuracy_score(y_test, y_pred),2)\n",
        "rbps=round(precision_score(y_test, y_pred, average='micro'),2)\n",
        "rbrs=round(recall_score(y_test, y_pred, average='micro'),2)\n",
        "rbfs=round(f1_score(y_test, y_pred, average='micro'),2)\n",
        "print (\"Confusion Matrix : \\n\", confusion_matrix(y_test, y_pred))\n",
        "print (\"Accuracy : \", accuracy_score(y_test, y_pred))\n",
        "print (\"Precision : \", precision_score(y_test, y_pred, average='micro'))\n",
        "print (\"Recall : \", recall_score(y_test, y_pred, average='micro'))\n",
        "print (\"F1 : \", f1_score(y_test, y_pred, average='micro'))"
      ],
      "metadata": {
        "colab": {
          "base_uri": "https://localhost:8080/"
        },
        "id": "QREChiIL6ln2",
        "outputId": "5127e211-1f06-4eb0-fc6c-8c07a5472e2f"
      },
      "execution_count": 16,
      "outputs": [
        {
          "output_type": "stream",
          "name": "stdout",
          "text": [
            "Confusion Matrix : \n",
            " [[58  0  0  0  1  0  0  0  0  0]\n",
            " [ 0 49  0  0  0  0  0  0  0  0]\n",
            " [ 0  0 49  0  0  0  0  0  0  0]\n",
            " [ 0  0  1 63  0  0  0  0  0  0]\n",
            " [ 0  0  0  0 61  0  0  0  0  0]\n",
            " [ 0  0  0  0  0 46  0  0  0  1]\n",
            " [ 0  0  0  0  0  0 51  0  0  0]\n",
            " [ 0  0  0  0  0  0  0 56  0  1]\n",
            " [ 0  1  0  0  0  0  0  0 44  1]\n",
            " [ 0  0  0  0  0  2  0  0  0 55]]\n",
            "Accuracy :  0.9851851851851852\n",
            "Precision :  0.9851851851851852\n",
            "Recall :  0.9851851851851852\n",
            "F1 :  0.9851851851851852\n"
          ]
        }
      ]
    },
    {
      "cell_type": "markdown",
      "source": [
        "SVM Polynomial Kernel"
      ],
      "metadata": {
        "id": "-lqqbWVq6hi-"
      }
    },
    {
      "cell_type": "code",
      "source": [
        "clf = svm.SVC(kernel='poly')\n",
        "#Train the model using the training sets\n",
        "clf.fit(X_train, y_train)\n",
        "#Predict the response for test dataset\n",
        "y_pred = clf.predict(X_test)\n",
        "plcm=confusion_matrix(y_test, y_pred)\n",
        "plas=round(accuracy_score(y_test, y_pred),2)\n",
        "plps=round(precision_score(y_test, y_pred, average='micro'),2)\n",
        "plrs=round(recall_score(y_test, y_pred, average='micro'),2)\n",
        "plfs=round(f1_score(y_test, y_pred, average='micro'),2)\n",
        "print (\"Confusion Matrix : \\n\", confusion_matrix(y_test, y_pred))\n",
        "print (\"Accuracy : \", accuracy_score(y_test, y_pred))\n",
        "print (\"Precision : \", precision_score(y_test, y_pred, average='micro'))\n",
        "print (\"Recall : \", recall_score(y_test, y_pred, average='micro'))\n",
        "print (\"F1 : \", f1_score(y_test, y_pred, average='micro'))"
      ],
      "metadata": {
        "colab": {
          "base_uri": "https://localhost:8080/"
        },
        "id": "N6AGOL-a6tdO",
        "outputId": "13a2d30f-5275-4816-da43-71039a5a17c7"
      },
      "execution_count": 17,
      "outputs": [
        {
          "output_type": "stream",
          "name": "stdout",
          "text": [
            "Confusion Matrix : \n",
            " [[58  0  0  0  1  0  0  0  0  0]\n",
            " [ 0 49  0  0  0  0  0  0  0  0]\n",
            " [ 0  0 49  0  0  0  0  0  0  0]\n",
            " [ 0  0  1 63  0  0  0  0  0  0]\n",
            " [ 0  0  0  0 61  0  0  0  0  0]\n",
            " [ 0  0  0  0  0 46  0  0  0  1]\n",
            " [ 0  0  0  0  0  0 51  0  0  0]\n",
            " [ 0  0  0  0  0  0  0 56  0  1]\n",
            " [ 0  1  0  0  0  0  0  0 44  1]\n",
            " [ 0  0  0  0  0  2  0  0  0 55]]\n",
            "Accuracy :  0.9851851851851852\n",
            "Precision :  0.9851851851851852\n",
            "Recall :  0.9851851851851852\n",
            "F1 :  0.9851851851851852\n"
          ]
        }
      ]
    },
    {
      "cell_type": "markdown",
      "source": [
        "Decision Tree"
      ],
      "metadata": {
        "id": "V77uzG6R5nCI"
      }
    },
    {
      "cell_type": "code",
      "source": [
        "dtree = DecisionTreeClassifier()\n",
        "dtree = dtree.fit(X_train, y_train) \n",
        "y_pred = dtree.predict(X_test)\n",
        "y_pred = clf.predict(X_test)\n",
        "dtcm=confusion_matrix(y_test, y_pred)\n",
        "dtas=round(accuracy_score(y_test, y_pred),2)\n",
        "dtps=round(precision_score(y_test, y_pred, average='micro'),2)\n",
        "dtrs=round(recall_score(y_test, y_pred, average='micro'),2)\n",
        "dtfs=round(f1_score(y_test, y_pred, average='micro'),2)\n",
        "print (\"Confusion Matrix : \\n\", confusion_matrix(y_test, y_pred))\n",
        "print (\"Accuracy : \", accuracy_score(y_test, y_pred))\n",
        "print (\"Precision : \", precision_score(y_test, y_pred, average='micro'))\n",
        "print (\"Recall : \", recall_score(y_test, y_pred, average='micro'))\n",
        "print (\"F1 : \", f1_score(y_test, y_pred, average='micro'))"
      ],
      "metadata": {
        "colab": {
          "base_uri": "https://localhost:8080/"
        },
        "id": "mnD3zf3X5sVN",
        "outputId": "ce01a016-164f-4a24-bd7a-52453cf60816"
      },
      "execution_count": 18,
      "outputs": [
        {
          "output_type": "stream",
          "name": "stdout",
          "text": [
            "Confusion Matrix : \n",
            " [[58  0  0  0  1  0  0  0  0  0]\n",
            " [ 0 49  0  0  0  0  0  0  0  0]\n",
            " [ 0  0 49  0  0  0  0  0  0  0]\n",
            " [ 0  0  1 63  0  0  0  0  0  0]\n",
            " [ 0  0  0  0 61  0  0  0  0  0]\n",
            " [ 0  0  0  0  0 46  0  0  0  1]\n",
            " [ 0  0  0  0  0  0 51  0  0  0]\n",
            " [ 0  0  0  0  0  0  0 56  0  1]\n",
            " [ 0  1  0  0  0  0  0  0 44  1]\n",
            " [ 0  0  0  0  0  2  0  0  0 55]]\n",
            "Accuracy :  0.9851851851851852\n",
            "Precision :  0.9851851851851852\n",
            "Recall :  0.9851851851851852\n",
            "F1 :  0.9851851851851852\n"
          ]
        }
      ]
    },
    {
      "cell_type": "markdown",
      "source": [
        "kNN"
      ],
      "metadata": {
        "id": "MVawkKSl6_i-"
      }
    },
    {
      "cell_type": "code",
      "source": [
        "cancer = KNeighborsClassifier()\n",
        "X_train, X_test, y_train, y_test = train_test_split(X, Y, test_size=0.3, train_size=0.7,  random_state = 1)\n",
        "cancer.fit(X_train,y_train)\n",
        "y_pred = cancer.predict(X_test) \n",
        "knncm=confusion_matrix(y_test, y_pred)\n",
        "knnas=round(accuracy_score(y_test, y_pred),2)\n",
        "knnps=round(precision_score(y_test, y_pred, average='micro'),2)\n",
        "knnrs=round(recall_score(y_test, y_pred, average='micro'),2)\n",
        "knnfs=round(f1_score(y_test, y_pred, average='micro'),2)\n",
        "print (\"Confusion Matrix : \\n\", confusion_matrix(y_test, y_pred))\n",
        "print (\"Accuracy : \", accuracy_score(y_test, y_pred))\n",
        "print (\"Precision : \", precision_score(y_test, y_pred, average='micro'))\n",
        "print (\"Recall : \", recall_score(y_test, y_pred, average='micro'))\n",
        "print (\"F1 : \", f1_score(y_test, y_pred, average='micro'))"
      ],
      "metadata": {
        "colab": {
          "base_uri": "https://localhost:8080/"
        },
        "id": "BLWx4D4K7CoO",
        "outputId": "d24b0240-c106-4ec6-edf8-3fa91115e423"
      },
      "execution_count": 19,
      "outputs": [
        {
          "output_type": "stream",
          "name": "stdout",
          "text": [
            "Confusion Matrix : \n",
            " [[58  0  0  0  1  0  0  0  0  0]\n",
            " [ 0 49  0  0  0  0  0  0  0  0]\n",
            " [ 0  0 48  0  0  0  0  1  0  0]\n",
            " [ 0  0  0 64  0  0  0  0  0  0]\n",
            " [ 0  0  0  0 61  0  0  0  0  0]\n",
            " [ 0  0  0  0  0 46  0  0  0  1]\n",
            " [ 0  0  0  0  0  0 51  0  0  0]\n",
            " [ 0  0  0  0  0  0  0 57  0  0]\n",
            " [ 0  1  0  0  0  0  0  0 45  0]\n",
            " [ 0  0  0  0  0  1  0  0  0 56]]\n",
            "Accuracy :  0.9907407407407407\n",
            "Precision :  0.9907407407407407\n",
            "Recall :  0.9907407407407407\n",
            "F1 :  0.9907407407407407\n"
          ]
        }
      ]
    },
    {
      "cell_type": "markdown",
      "source": [
        "LogisticRegression"
      ],
      "metadata": {
        "id": "1O3eGfMw7YAv"
      }
    },
    {
      "cell_type": "code",
      "source": [
        "classifier = LogisticRegression(random_state = 0) \n",
        "classifier.fit(X_train, y_train) \n",
        "y_pred = classifier.predict(X_test)\n",
        "y_pred = clf.predict(X_test)\n",
        "lras=round(accuracy_score(y_test, y_pred),2)\n",
        "lrps=round(precision_score(y_test, y_pred, average='micro'),2)\n",
        "lrrs=round(recall_score(y_test, y_pred, average='micro'),2)\n",
        "lrfs=round(f1_score(y_test, y_pred, average='micro'),2)\n",
        "print (\"Confusion Matrix : \\n\", confusion_matrix(y_test, y_pred))\n",
        "print (\"Accuracy : \", accuracy_score(y_test, y_pred))\n",
        "print (\"Precision : \", precision_score(y_test, y_pred, average='micro'))\n",
        "print (\"Recall : \", recall_score(y_test, y_pred, average='micro'))\n",
        "print (\"F1 : \", f1_score(y_test, y_pred, average='micro'))"
      ],
      "metadata": {
        "colab": {
          "base_uri": "https://localhost:8080/"
        },
        "id": "1gyFOeVW7hcm",
        "outputId": "be622fec-0de0-4bf1-f47b-8cbafd20adba"
      },
      "execution_count": 20,
      "outputs": [
        {
          "output_type": "stream",
          "name": "stdout",
          "text": [
            "Confusion Matrix : \n",
            " [[58  0  0  0  1  0  0  0  0  0]\n",
            " [ 0 49  0  0  0  0  0  0  0  0]\n",
            " [ 0  0 49  0  0  0  0  0  0  0]\n",
            " [ 0  0  1 63  0  0  0  0  0  0]\n",
            " [ 0  0  0  0 61  0  0  0  0  0]\n",
            " [ 0  0  0  0  0 46  0  0  0  1]\n",
            " [ 0  0  0  0  0  0 51  0  0  0]\n",
            " [ 0  0  0  0  0  0  0 56  0  1]\n",
            " [ 0  1  0  0  0  0  0  0 44  1]\n",
            " [ 0  0  0  0  0  2  0  0  0 55]]\n",
            "Accuracy :  0.9851851851851852\n",
            "Precision :  0.9851851851851852\n",
            "Recall :  0.9851851851851852\n",
            "F1 :  0.9851851851851852\n"
          ]
        },
        {
          "output_type": "stream",
          "name": "stderr",
          "text": [
            "/usr/local/lib/python3.9/dist-packages/sklearn/linear_model/_logistic.py:458: ConvergenceWarning: lbfgs failed to converge (status=1):\n",
            "STOP: TOTAL NO. of ITERATIONS REACHED LIMIT.\n",
            "\n",
            "Increase the number of iterations (max_iter) or scale the data as shown in:\n",
            "    https://scikit-learn.org/stable/modules/preprocessing.html\n",
            "Please also refer to the documentation for alternative solver options:\n",
            "    https://scikit-learn.org/stable/modules/linear_model.html#logistic-regression\n",
            "  n_iter_i = _check_optimize_result(\n"
          ]
        }
      ]
    },
    {
      "cell_type": "code",
      "source": [
        "t= PrettyTable(['Liner Kernel', 'Accuracy','Precision','Recall','F1'])\n",
        "t.add_row(['SVM Sigmoid Kernel',sias,sips,sirs,sifs])\n",
        "t.add_row(['SVM Radial Basis',rbas,rbps,rbrs,rbfs])\n",
        "t.add_row(['SVM Polynomial Kernel',plas,plps,plrs,plfs])\n",
        "t.add_row(['kNN',knnas,knnps,knnrs,knnfs])\n",
        "t.add_row(['DecisionTree',dtas,dtps,dtrs,dtfs])\n",
        "t.add_row(['LogisticRegression',lras,lrps,lrrs,lrfs])\n",
        "print(t)"
      ],
      "metadata": {
        "colab": {
          "base_uri": "https://localhost:8080/"
        },
        "id": "AL_ssbpF7tPq",
        "outputId": "b8ed0cae-222c-46b6-eba4-6f6aa2f2be35"
      },
      "execution_count": 21,
      "outputs": [
        {
          "output_type": "stream",
          "name": "stdout",
          "text": [
            "+-----------------------+----------+-----------+--------+------+\n",
            "|      Liner Kernel     | Accuracy | Precision | Recall |  F1  |\n",
            "+-----------------------+----------+-----------+--------+------+\n",
            "|   SVM Sigmoid Kernel  |   0.91   |    0.91   |  0.91  | 0.91 |\n",
            "|    SVM Radial Basis   |   0.99   |    0.99   |  0.99  | 0.99 |\n",
            "| SVM Polynomial Kernel |   0.99   |    0.99   |  0.99  | 0.99 |\n",
            "|          kNN          |   0.99   |    0.99   |  0.99  | 0.99 |\n",
            "|      DecisionTree     |   0.99   |    0.99   |  0.99  | 0.99 |\n",
            "|   LogisticRegression  |   0.99   |    0.99   |  0.99  | 0.99 |\n",
            "+-----------------------+----------+-----------+--------+------+\n"
          ]
        }
      ]
    },
    {
      "cell_type": "markdown",
      "source": [
        "#Task 4. \n",
        "Compare the performance of selected classification algorithms (Decision Tree, kNN, Logistic Regression) and SVM (using different kernels) with **credit card dataset** based on accuracy, precision, recall, f1 measures.\n",
        "\n",
        "*   Give some comments on the obtained results\n",
        "*   Identify issues with dataset, and propose the solutions to these issues\n",
        "\n"
      ],
      "metadata": {
        "id": "Z5pp7_h-aP2u"
      }
    },
    {
      "cell_type": "code",
      "source": [
        "data=pd.read_csv('creditcard.csv')\n",
        "X= data.iloc[1:50000, 1:-1]\n",
        "Y= data.iloc[1:50000, -1]\n",
        "X_train, X_test, y_train, y_test = train_test_split(X, Y, test_size=0.3, train_size=0.7,  random_state = 1)"
      ],
      "metadata": {
        "id": "i_do31lR8XSk"
      },
      "execution_count": 22,
      "outputs": []
    },
    {
      "cell_type": "markdown",
      "source": [
        "SVM Sigmoid Kernel"
      ],
      "metadata": {
        "id": "vc99pCoQ88tX"
      }
    },
    {
      "cell_type": "code",
      "source": [
        "clf = svm.SVC(kernel='sigmoid')\n",
        "#Train the model using the training sets\n",
        "clf.fit(X_train, y_train)\n",
        "#Predict the response for test dataset\n",
        "y_pred = clf.predict(X_test)\n",
        "sicm=confusion_matrix(y_test, y_pred)\n",
        "sias=round(accuracy_score(y_test, y_pred),4)\n",
        "sips=round(precision_score(y_test, y_pred, average='micro'),4)\n",
        "sirs=round(recall_score(y_test, y_pred, average='micro'),4)\n",
        "sifs=round(f1_score(y_test, y_pred, average='micro'),4)\n",
        "print (\"Confusion Matrix : \\n\", confusion_matrix(y_test, y_pred))\n",
        "print (\"Accuracy : \", accuracy_score(y_test, y_pred))\n",
        "print (\"Precision : \", precision_score(y_test, y_pred, average='micro'))\n",
        "print (\"Recall : \", recall_score(y_test, y_pred, average='micro'))\n",
        "print (\"F1 : \", f1_score(y_test, y_pred, average='micro'))"
      ],
      "metadata": {
        "id": "Rw_-8FIf2KxW",
        "colab": {
          "base_uri": "https://localhost:8080/"
        },
        "outputId": "df652c27-5289-4d50-d5ff-d13824a3df04"
      },
      "execution_count": 23,
      "outputs": [
        {
          "output_type": "stream",
          "name": "stdout",
          "text": [
            "Confusion Matrix : \n",
            " [[14945     0]\n",
            " [   55     0]]\n",
            "Accuracy :  0.9963333333333333\n",
            "Precision :  0.9963333333333333\n",
            "Recall :  0.9963333333333333\n",
            "F1 :  0.9963333333333333\n"
          ]
        }
      ]
    },
    {
      "cell_type": "markdown",
      "source": [
        "SVM Radial Basis"
      ],
      "metadata": {
        "id": "yHT2Ihuw9D_R"
      }
    },
    {
      "cell_type": "code",
      "source": [
        "clf = svm.SVC(kernel='rbf')\n",
        "#Train the model using the training sets\n",
        "clf.fit(X_train, y_train)\n",
        "#Predict the response for test dataset\n",
        "y_pred = clf.predict(X_test)\n",
        "rbcm=confusion_matrix(y_test, y_pred)\n",
        "rbas=round(accuracy_score(y_test, y_pred),4)\n",
        "rbps=round(precision_score(y_test, y_pred, average='micro'),4)\n",
        "rbrs=round(recall_score(y_test, y_pred, average='micro'),4)\n",
        "rbfs=round(f1_score(y_test, y_pred, average='micro'),4)\n",
        "print (\"Confusion Matrix : \\n\", confusion_matrix(y_test, y_pred))\n",
        "print (\"Accuracy : \", accuracy_score(y_test, y_pred))\n",
        "print (\"Precision : \", precision_score(y_test, y_pred, average='micro'))\n",
        "print (\"Recall : \", recall_score(y_test, y_pred, average='micro'))\n",
        "print (\"F1 : \", f1_score(y_test, y_pred, average='micro'))"
      ],
      "metadata": {
        "colab": {
          "base_uri": "https://localhost:8080/"
        },
        "id": "UCt0LOR_9XLQ",
        "outputId": "b0618faa-db16-4a4c-aeb1-698fffe87f93"
      },
      "execution_count": 24,
      "outputs": [
        {
          "output_type": "stream",
          "name": "stdout",
          "text": [
            "Confusion Matrix : \n",
            " [[14935    10]\n",
            " [   28    27]]\n",
            "Accuracy :  0.9974666666666666\n",
            "Precision :  0.9974666666666666\n",
            "Recall :  0.9974666666666666\n",
            "F1 :  0.9974666666666666\n"
          ]
        }
      ]
    },
    {
      "cell_type": "markdown",
      "source": [
        "SVM Polynomial Kernel"
      ],
      "metadata": {
        "id": "H8I1ew7x9aFY"
      }
    },
    {
      "cell_type": "code",
      "source": [
        "clf = svm.SVC(kernel='poly')\n",
        "#Train the model using the training sets\n",
        "clf.fit(X_train, y_train)\n",
        "#Predict the response for test dataset\n",
        "y_pred = clf.predict(X_test)\n",
        "plcm=confusion_matrix(y_test, y_pred)\n",
        "plas=round(accuracy_score(y_test, y_pred),4)\n",
        "plps=round(precision_score(y_test, y_pred, average='micro'),4)\n",
        "plrs=round(recall_score(y_test, y_pred, average='micro'),4)\n",
        "plfs=round(f1_score(y_test, y_pred, average='micro'),4)\n",
        "print (\"Confusion Matrix : \\n\", confusion_matrix(y_test, y_pred))\n",
        "print (\"Accuracy : \", accuracy_score(y_test, y_pred))\n",
        "print (\"Precision : \", precision_score(y_test, y_pred, average='micro'))\n",
        "print (\"Recall : \", recall_score(y_test, y_pred, average='micro'))\n",
        "print (\"F1 : \", f1_score(y_test, y_pred, average='micro'))"
      ],
      "metadata": {
        "colab": {
          "base_uri": "https://localhost:8080/"
        },
        "id": "EVUdghQS9cGJ",
        "outputId": "8d2222cd-11f1-4917-8bfa-2bd545b6536f"
      },
      "execution_count": 25,
      "outputs": [
        {
          "output_type": "stream",
          "name": "stdout",
          "text": [
            "Confusion Matrix : \n",
            " [[14945     0]\n",
            " [   51     4]]\n",
            "Accuracy :  0.9966\n",
            "Precision :  0.9966\n",
            "Recall :  0.9966\n",
            "F1 :  0.9966\n"
          ]
        }
      ]
    },
    {
      "cell_type": "markdown",
      "source": [
        "Decision Tree"
      ],
      "metadata": {
        "id": "OVbSS5VK9e-V"
      }
    },
    {
      "cell_type": "code",
      "source": [
        "dtree = DecisionTreeClassifier()\n",
        "dtree = dtree.fit(X_train, y_train) \n",
        "y_pred = dtree.predict(X_test)\n",
        "y_pred = clf.predict(X_test)\n",
        "dtcm=confusion_matrix(y_test, y_pred)\n",
        "dtas=round(accuracy_score(y_test, y_pred),4)\n",
        "dtps=round(precision_score(y_test, y_pred, average='micro'),4)\n",
        "dtrs=round(recall_score(y_test, y_pred, average='micro'),4)\n",
        "dtfs=round(f1_score(y_test, y_pred, average='micro'),4)\n",
        "print (\"Confusion Matrix : \\n\", confusion_matrix(y_test, y_pred))\n",
        "print (\"Accuracy : \", accuracy_score(y_test, y_pred))\n",
        "print (\"Precision : \", precision_score(y_test, y_pred, average='micro'))\n",
        "print (\"Recall : \", recall_score(y_test, y_pred, average='micro'))\n",
        "print (\"F1 : \", f1_score(y_test, y_pred, average='micro'))"
      ],
      "metadata": {
        "colab": {
          "base_uri": "https://localhost:8080/"
        },
        "id": "guEIneU_9gb0",
        "outputId": "8464bc21-abb8-4e91-ab0e-d48c2e669acd"
      },
      "execution_count": 26,
      "outputs": [
        {
          "output_type": "stream",
          "name": "stdout",
          "text": [
            "Confusion Matrix : \n",
            " [[14945     0]\n",
            " [   51     4]]\n",
            "Accuracy :  0.9966\n",
            "Precision :  0.9966\n",
            "Recall :  0.9966\n",
            "F1 :  0.9966\n"
          ]
        }
      ]
    },
    {
      "cell_type": "markdown",
      "source": [
        "kNN"
      ],
      "metadata": {
        "id": "WeSFy1y99jIA"
      }
    },
    {
      "cell_type": "code",
      "source": [
        "cancer = KNeighborsClassifier()\n",
        "X_train, X_test, y_train, y_test = train_test_split(X, Y, test_size=0.3, train_size=0.7,  random_state = 1)\n",
        "cancer.fit(X_train,y_train)\n",
        "y_pred = cancer.predict(X_test) \n",
        "knncm=confusion_matrix(y_test, y_pred)\n",
        "knnas=round(accuracy_score(y_test, y_pred),4)\n",
        "knnps=round(precision_score(y_test, y_pred, average='micro'),4)\n",
        "knnrs=round(recall_score(y_test, y_pred, average='micro'),4)\n",
        "knnfs=round(f1_score(y_test, y_pred, average='micro'),4)\n",
        "print (\"Confusion Matrix : \\n\", confusion_matrix(y_test, y_pred))\n",
        "print (\"Accuracy : \", accuracy_score(y_test, y_pred))\n",
        "print (\"Precision : \", precision_score(y_test, y_pred, average='micro'))\n",
        "print (\"Recall : \", recall_score(y_test, y_pred, average='micro'))\n",
        "print (\"F1 : \", f1_score(y_test, y_pred, average='micro'))"
      ],
      "metadata": {
        "colab": {
          "base_uri": "https://localhost:8080/"
        },
        "id": "DPdF3v_W9lKZ",
        "outputId": "9236a121-c2ee-490d-978f-be847b4ea856"
      },
      "execution_count": 27,
      "outputs": [
        {
          "output_type": "stream",
          "name": "stdout",
          "text": [
            "Confusion Matrix : \n",
            " [[14940     5]\n",
            " [   17    38]]\n",
            "Accuracy :  0.9985333333333334\n",
            "Precision :  0.9985333333333334\n",
            "Recall :  0.9985333333333334\n",
            "F1 :  0.9985333333333334\n"
          ]
        }
      ]
    },
    {
      "cell_type": "markdown",
      "source": [
        "LogisticRegression"
      ],
      "metadata": {
        "id": "vXa2AlQJ9nuR"
      }
    },
    {
      "cell_type": "code",
      "source": [
        "classifier = LogisticRegression(random_state = 0) \n",
        "classifier.fit(X_train, y_train) \n",
        "y_pred = classifier.predict(X_test)\n",
        "y_pred = clf.predict(X_test)\n",
        "lras=round(accuracy_score(y_test, y_pred),4)\n",
        "lrps=round(precision_score(y_test, y_pred, average='micro'),4)\n",
        "lrrs=round(recall_score(y_test, y_pred, average='micro'),4)\n",
        "lrfs=round(f1_score(y_test, y_pred, average='micro'),4)\n",
        "print (\"Confusion Matrix : \\n\", confusion_matrix(y_test, y_pred))\n",
        "print (\"Accuracy : \", accuracy_score(y_test, y_pred))\n",
        "print (\"Precision : \", precision_score(y_test, y_pred, average='micro'))\n",
        "print (\"Recall : \", recall_score(y_test, y_pred, average='micro'))\n",
        "print (\"F1 : \", f1_score(y_test, y_pred, average='micro'))"
      ],
      "metadata": {
        "colab": {
          "base_uri": "https://localhost:8080/"
        },
        "id": "tI2bhybx9pKQ",
        "outputId": "41d4b4c6-5bc8-4909-c511-910b8139c565"
      },
      "execution_count": 28,
      "outputs": [
        {
          "output_type": "stream",
          "name": "stderr",
          "text": [
            "/usr/local/lib/python3.9/dist-packages/sklearn/linear_model/_logistic.py:458: ConvergenceWarning: lbfgs failed to converge (status=1):\n",
            "STOP: TOTAL NO. of ITERATIONS REACHED LIMIT.\n",
            "\n",
            "Increase the number of iterations (max_iter) or scale the data as shown in:\n",
            "    https://scikit-learn.org/stable/modules/preprocessing.html\n",
            "Please also refer to the documentation for alternative solver options:\n",
            "    https://scikit-learn.org/stable/modules/linear_model.html#logistic-regression\n",
            "  n_iter_i = _check_optimize_result(\n"
          ]
        },
        {
          "output_type": "stream",
          "name": "stdout",
          "text": [
            "Confusion Matrix : \n",
            " [[14945     0]\n",
            " [   51     4]]\n",
            "Accuracy :  0.9966\n",
            "Precision :  0.9966\n",
            "Recall :  0.9966\n",
            "F1 :  0.9966\n"
          ]
        }
      ]
    },
    {
      "cell_type": "code",
      "source": [
        "t= PrettyTable(['Liner Kernel', 'Accuracy','Precision','Recall','F1'])\n",
        "t.add_row(['SVM Sigmoid Kernel',sias,sips,sirs,sifs])\n",
        "t.add_row(['SVM Radial Basis',rbas,rbps,rbrs,rbfs])\n",
        "t.add_row(['SVM Polynomial Kernel',plas,plps,plrs,plfs])\n",
        "t.add_row(['kNN',knnas,knnps,knnrs,knnfs])\n",
        "t.add_row(['DecisionTree',dtas,dtps,dtrs,dtfs])\n",
        "t.add_row(['LogisticRegression',lras,lrps,lrrs,lrfs])\n",
        "print(t)"
      ],
      "metadata": {
        "colab": {
          "base_uri": "https://localhost:8080/"
        },
        "id": "gq50EG929q6A",
        "outputId": "fcc208cf-9b11-44b5-ee14-b1e031562382"
      },
      "execution_count": 29,
      "outputs": [
        {
          "output_type": "stream",
          "name": "stdout",
          "text": [
            "+-----------------------+----------+-----------+--------+--------+\n",
            "|      Liner Kernel     | Accuracy | Precision | Recall |   F1   |\n",
            "+-----------------------+----------+-----------+--------+--------+\n",
            "|   SVM Sigmoid Kernel  |  0.9963  |   0.9963  | 0.9963 | 0.9963 |\n",
            "|    SVM Radial Basis   |  0.9975  |   0.9975  | 0.9975 | 0.9975 |\n",
            "| SVM Polynomial Kernel |  0.9966  |   0.9966  | 0.9966 | 0.9966 |\n",
            "|          kNN          |  0.9985  |   0.9985  | 0.9985 | 0.9985 |\n",
            "|      DecisionTree     |  0.9966  |   0.9966  | 0.9966 | 0.9966 |\n",
            "|   LogisticRegression  |  0.9966  |   0.9966  | 0.9966 | 0.9966 |\n",
            "+-----------------------+----------+-----------+--------+--------+\n"
          ]
        }
      ]
    },
    {
      "cell_type": "markdown",
      "source": [
        "#Finally,\n",
        "Save a copy in your Github. Remember renaming the notebook."
      ],
      "metadata": {
        "id": "Ok7RGkea_b7n"
      }
    }
  ]
}