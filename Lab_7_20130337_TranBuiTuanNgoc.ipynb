{
  "nbformat": 4,
  "nbformat_minor": 0,
  "metadata": {
    "colab": {
      "provenance": [],
      "include_colab_link": true
    },
    "kernelspec": {
      "name": "python3",
      "display_name": "Python 3"
    },
    "language_info": {
      "name": "python"
    }
  },
  "cells": [
    {
      "cell_type": "markdown",
      "metadata": {
        "id": "view-in-github",
        "colab_type": "text"
      },
      "source": [
        "<a href=\"https://colab.research.google.com/github/tranbuituanngoc/ML/blob/main/Lab_7_20130337_TranBuiTuanNgoc.ipynb\" target=\"_parent\"><img src=\"https://colab.research.google.com/assets/colab-badge.svg\" alt=\"Open In Colab\"/></a>"
      ]
    },
    {
      "cell_type": "markdown",
      "source": [
        "# This lab deals with **cross validation** for some classification algorithms and **clustering methods**. \n",
        "\n",
        "*   **Deadline: 23:59, 10/4/2023**\n",
        "\n"
      ],
      "metadata": {
        "id": "LMzehe0sy5wr"
      }
    },
    {
      "cell_type": "markdown",
      "source": [
        "# Import libraries"
      ],
      "metadata": {
        "id": "H4nJmxp9zGX4"
      }
    },
    {
      "cell_type": "code",
      "execution_count": 1,
      "metadata": {
        "id": "DoVWQ8AEyc-C"
      },
      "outputs": [],
      "source": [
        "import numpy as np\n",
        "import pandas as pd\n",
        "import matplotlib.pyplot as plt\n",
        "from sklearn.impute import SimpleImputer\n",
        "from sklearn import svm\n",
        "from sklearn.metrics import confusion_matrix \n",
        "from sklearn.metrics import accuracy_score\n",
        "from sklearn.linear_model import LogisticRegression \n",
        "from sklearn.model_selection import train_test_split\n",
        "from sklearn.metrics import precision_score\n",
        "from sklearn.metrics import recall_score\n",
        "from sklearn.metrics import f1_score\n",
        "from sklearn.metrics import confusion_matrix\n",
        "from sklearn.metrics import ConfusionMatrixDisplay\n",
        "from sklearn.neighbors import KNeighborsClassifier\n",
        "from sklearn import tree\n",
        "from sklearn.tree import DecisionTreeClassifier\n",
        "from prettytable import PrettyTable\n",
        "from sklearn.ensemble import RandomForestClassifier\n",
        "from sklearn.naive_bayes import GaussianNB\n",
        "from sklearn.decomposition import PCA\n",
        "from sklearn.feature_selection import SelectKBest\n",
        "from sklearn.feature_selection import f_classif\n",
        "from sklearn.model_selection import cross_validate\n",
        "from sklearn.model_selection import KFold\n",
        "from sklearn.model_selection import cross_val_score"
      ]
    },
    {
      "cell_type": "markdown",
      "source": [
        "#Task 1. With **iris** dataset\n",
        "*  1.1. Apply **SVM** algorithm with cross validation\n"
      ],
      "metadata": {
        "id": "x_dG9SA5OhGT"
      }
    },
    {
      "cell_type": "code",
      "source": [
        "from sklearn import datasets\n",
        "iris = datasets.load_iris()"
      ],
      "metadata": {
        "id": "62jExOZ952fF"
      },
      "execution_count": 2,
      "outputs": []
    },
    {
      "cell_type": "code",
      "source": [
        "X= iris['data']\n",
        "Y= iris['target']\n",
        "clf=svm.SVC(kernel=\"sigmoid\", random_state=0)\n",
        "X_train, X_test, y_train, y_test = train_test_split(X, Y, test_size=0.3, train_size=0.7,  random_state = 1)\n",
        "clf.fit(X_train,y_train)\n",
        "y_pred = clf.predict(X_test)\n",
        "score=cross_validate(clf,X,Y,scoring='accuracy',cv=10)\n",
        "print(sorted(score.keys()))\n",
        "print(np.mean(score['test_score']))"
      ],
      "metadata": {
        "colab": {
          "base_uri": "https://localhost:8080/"
        },
        "id": "qM9hfzcl1j99",
        "outputId": "849d2bd3-b223-4929-ea12-81849928152a"
      },
      "execution_count": 3,
      "outputs": [
        {
          "output_type": "stream",
          "name": "stdout",
          "text": [
            "['fit_time', 'score_time', 'test_score']\n",
            "0.06666666666666668\n"
          ]
        }
      ]
    },
    {
      "cell_type": "markdown",
      "source": [
        "*  1.2 Apply **feature selection** to the dataset and then use **RandomForest** algorithm with cross validation "
      ],
      "metadata": {
        "id": "2g--8cng53sY"
      }
    },
    {
      "cell_type": "code",
      "source": [
        "clf=RandomForestClassifier(n_estimators=100)\n",
        "X= iris['data']\n",
        "Y= iris['target']\n",
        "X_train, X_test, y_train, y_test = train_test_split(X, Y, test_size=0.3, train_size=0.7,  random_state = 1)\n",
        "clf.fit(X_train,y_train)\n",
        "y_pred = clf.predict(X_test)\n",
        "score=cross_validate(clf,X,Y,scoring='accuracy',cv=10)\n",
        "print(sorted(score.keys()))\n",
        "print(np.mean(score['test_score']))"
      ],
      "metadata": {
        "id": "fX0_kItYPism",
        "colab": {
          "base_uri": "https://localhost:8080/"
        },
        "outputId": "939d8888-d062-43d6-eced-6802a4d79e16"
      },
      "execution_count": 4,
      "outputs": [
        {
          "output_type": "stream",
          "name": "stdout",
          "text": [
            "['fit_time', 'score_time', 'test_score']\n",
            "0.9666666666666666\n"
          ]
        }
      ]
    },
    {
      "cell_type": "code",
      "source": [
        "fs = SelectKBest(score_func=f_classif, k=2)\n",
        "# apply feature selection\n",
        "X_selected = fs.fit_transform(X, Y)\n",
        "Xs_train, Xs_test, ys_train, ys_test = train_test_split(X_selected, Y, test_size=0.3, train_size=0.7,  random_state = 1)\n",
        "clf.fit(Xs_train,ys_train)\n",
        "ys_pred = clf.predict(Xs_test)\n",
        "\n",
        "sicm=confusion_matrix(ys_test, ys_pred)\n",
        "rfuas=cross_validate(clf,X,Y,scoring='accuracy',cv=10)\n",
        "rfups=cross_validate(clf, X, Y, cv=10, scoring='precision_macro')\n",
        "rfurs=cross_validate(clf, X, Y, cv=10, scoring='recall_macro')\n",
        "rfufs=cross_validate(clf, X, Y, cv=10, scoring='f1')\n",
        "# print (\"Confusion Matrix : \\n\", confusion_matrix(ys_test, ys_pred))\n",
        "# print (\"Accuracy : \", cross_validate(clf,X,Y,scoring='accuracy',cv=10))\n",
        "# print (\"Precision : \", cross_val_score(clf, X, Y, cv=10, scoring='precision_macro'))\n",
        "# print (\"Recall : \", cross_val_score(clf, X, Y, cv=10, scoring='recall_macro'))\n",
        "# print (\"F1 : \", cross_val_score(clf, X, Y, cv=10, scoring='f1'))"
      ],
      "metadata": {
        "id": "xo8Entu96BoQ",
        "colab": {
          "base_uri": "https://localhost:8080/"
        },
        "outputId": "01496e70-6a1d-4559-ccf3-309fad65affd"
      },
      "execution_count": 5,
      "outputs": [
        {
          "output_type": "stream",
          "name": "stderr",
          "text": [
            "/usr/local/lib/python3.9/dist-packages/sklearn/model_selection/_validation.py:778: UserWarning: Scoring failed. The score on this train-test partition for these parameters will be set to nan. Details: \n",
            "Traceback (most recent call last):\n",
            "  File \"/usr/local/lib/python3.9/dist-packages/sklearn/model_selection/_validation.py\", line 767, in _score\n",
            "    scores = scorer(estimator, X_test, y_test)\n",
            "  File \"/usr/local/lib/python3.9/dist-packages/sklearn/metrics/_scorer.py\", line 234, in __call__\n",
            "    return self._score(\n",
            "  File \"/usr/local/lib/python3.9/dist-packages/sklearn/metrics/_scorer.py\", line 282, in _score\n",
            "    return self._sign * self._score_func(y_true, y_pred, **self._kwargs)\n",
            "  File \"/usr/local/lib/python3.9/dist-packages/sklearn/metrics/_classification.py\", line 1146, in f1_score\n",
            "    return fbeta_score(\n",
            "  File \"/usr/local/lib/python3.9/dist-packages/sklearn/metrics/_classification.py\", line 1287, in fbeta_score\n",
            "    _, _, f, _ = precision_recall_fscore_support(\n",
            "  File \"/usr/local/lib/python3.9/dist-packages/sklearn/metrics/_classification.py\", line 1573, in precision_recall_fscore_support\n",
            "    labels = _check_set_wise_labels(y_true, y_pred, average, labels, pos_label)\n",
            "  File \"/usr/local/lib/python3.9/dist-packages/sklearn/metrics/_classification.py\", line 1391, in _check_set_wise_labels\n",
            "    raise ValueError(\n",
            "ValueError: Target is multiclass but average='binary'. Please choose another average setting, one of [None, 'micro', 'macro', 'weighted'].\n",
            "\n",
            "  warnings.warn(\n",
            "/usr/local/lib/python3.9/dist-packages/sklearn/model_selection/_validation.py:778: UserWarning: Scoring failed. The score on this train-test partition for these parameters will be set to nan. Details: \n",
            "Traceback (most recent call last):\n",
            "  File \"/usr/local/lib/python3.9/dist-packages/sklearn/model_selection/_validation.py\", line 767, in _score\n",
            "    scores = scorer(estimator, X_test, y_test)\n",
            "  File \"/usr/local/lib/python3.9/dist-packages/sklearn/metrics/_scorer.py\", line 234, in __call__\n",
            "    return self._score(\n",
            "  File \"/usr/local/lib/python3.9/dist-packages/sklearn/metrics/_scorer.py\", line 282, in _score\n",
            "    return self._sign * self._score_func(y_true, y_pred, **self._kwargs)\n",
            "  File \"/usr/local/lib/python3.9/dist-packages/sklearn/metrics/_classification.py\", line 1146, in f1_score\n",
            "    return fbeta_score(\n",
            "  File \"/usr/local/lib/python3.9/dist-packages/sklearn/metrics/_classification.py\", line 1287, in fbeta_score\n",
            "    _, _, f, _ = precision_recall_fscore_support(\n",
            "  File \"/usr/local/lib/python3.9/dist-packages/sklearn/metrics/_classification.py\", line 1573, in precision_recall_fscore_support\n",
            "    labels = _check_set_wise_labels(y_true, y_pred, average, labels, pos_label)\n",
            "  File \"/usr/local/lib/python3.9/dist-packages/sklearn/metrics/_classification.py\", line 1391, in _check_set_wise_labels\n",
            "    raise ValueError(\n",
            "ValueError: Target is multiclass but average='binary'. Please choose another average setting, one of [None, 'micro', 'macro', 'weighted'].\n",
            "\n",
            "  warnings.warn(\n",
            "/usr/local/lib/python3.9/dist-packages/sklearn/model_selection/_validation.py:778: UserWarning: Scoring failed. The score on this train-test partition for these parameters will be set to nan. Details: \n",
            "Traceback (most recent call last):\n",
            "  File \"/usr/local/lib/python3.9/dist-packages/sklearn/model_selection/_validation.py\", line 767, in _score\n",
            "    scores = scorer(estimator, X_test, y_test)\n",
            "  File \"/usr/local/lib/python3.9/dist-packages/sklearn/metrics/_scorer.py\", line 234, in __call__\n",
            "    return self._score(\n",
            "  File \"/usr/local/lib/python3.9/dist-packages/sklearn/metrics/_scorer.py\", line 282, in _score\n",
            "    return self._sign * self._score_func(y_true, y_pred, **self._kwargs)\n",
            "  File \"/usr/local/lib/python3.9/dist-packages/sklearn/metrics/_classification.py\", line 1146, in f1_score\n",
            "    return fbeta_score(\n",
            "  File \"/usr/local/lib/python3.9/dist-packages/sklearn/metrics/_classification.py\", line 1287, in fbeta_score\n",
            "    _, _, f, _ = precision_recall_fscore_support(\n",
            "  File \"/usr/local/lib/python3.9/dist-packages/sklearn/metrics/_classification.py\", line 1573, in precision_recall_fscore_support\n",
            "    labels = _check_set_wise_labels(y_true, y_pred, average, labels, pos_label)\n",
            "  File \"/usr/local/lib/python3.9/dist-packages/sklearn/metrics/_classification.py\", line 1391, in _check_set_wise_labels\n",
            "    raise ValueError(\n",
            "ValueError: Target is multiclass but average='binary'. Please choose another average setting, one of [None, 'micro', 'macro', 'weighted'].\n",
            "\n",
            "  warnings.warn(\n",
            "/usr/local/lib/python3.9/dist-packages/sklearn/model_selection/_validation.py:778: UserWarning: Scoring failed. The score on this train-test partition for these parameters will be set to nan. Details: \n",
            "Traceback (most recent call last):\n",
            "  File \"/usr/local/lib/python3.9/dist-packages/sklearn/model_selection/_validation.py\", line 767, in _score\n",
            "    scores = scorer(estimator, X_test, y_test)\n",
            "  File \"/usr/local/lib/python3.9/dist-packages/sklearn/metrics/_scorer.py\", line 234, in __call__\n",
            "    return self._score(\n",
            "  File \"/usr/local/lib/python3.9/dist-packages/sklearn/metrics/_scorer.py\", line 282, in _score\n",
            "    return self._sign * self._score_func(y_true, y_pred, **self._kwargs)\n",
            "  File \"/usr/local/lib/python3.9/dist-packages/sklearn/metrics/_classification.py\", line 1146, in f1_score\n",
            "    return fbeta_score(\n",
            "  File \"/usr/local/lib/python3.9/dist-packages/sklearn/metrics/_classification.py\", line 1287, in fbeta_score\n",
            "    _, _, f, _ = precision_recall_fscore_support(\n",
            "  File \"/usr/local/lib/python3.9/dist-packages/sklearn/metrics/_classification.py\", line 1573, in precision_recall_fscore_support\n",
            "    labels = _check_set_wise_labels(y_true, y_pred, average, labels, pos_label)\n",
            "  File \"/usr/local/lib/python3.9/dist-packages/sklearn/metrics/_classification.py\", line 1391, in _check_set_wise_labels\n",
            "    raise ValueError(\n",
            "ValueError: Target is multiclass but average='binary'. Please choose another average setting, one of [None, 'micro', 'macro', 'weighted'].\n",
            "\n",
            "  warnings.warn(\n",
            "/usr/local/lib/python3.9/dist-packages/sklearn/model_selection/_validation.py:778: UserWarning: Scoring failed. The score on this train-test partition for these parameters will be set to nan. Details: \n",
            "Traceback (most recent call last):\n",
            "  File \"/usr/local/lib/python3.9/dist-packages/sklearn/model_selection/_validation.py\", line 767, in _score\n",
            "    scores = scorer(estimator, X_test, y_test)\n",
            "  File \"/usr/local/lib/python3.9/dist-packages/sklearn/metrics/_scorer.py\", line 234, in __call__\n",
            "    return self._score(\n",
            "  File \"/usr/local/lib/python3.9/dist-packages/sklearn/metrics/_scorer.py\", line 282, in _score\n",
            "    return self._sign * self._score_func(y_true, y_pred, **self._kwargs)\n",
            "  File \"/usr/local/lib/python3.9/dist-packages/sklearn/metrics/_classification.py\", line 1146, in f1_score\n",
            "    return fbeta_score(\n",
            "  File \"/usr/local/lib/python3.9/dist-packages/sklearn/metrics/_classification.py\", line 1287, in fbeta_score\n",
            "    _, _, f, _ = precision_recall_fscore_support(\n",
            "  File \"/usr/local/lib/python3.9/dist-packages/sklearn/metrics/_classification.py\", line 1573, in precision_recall_fscore_support\n",
            "    labels = _check_set_wise_labels(y_true, y_pred, average, labels, pos_label)\n",
            "  File \"/usr/local/lib/python3.9/dist-packages/sklearn/metrics/_classification.py\", line 1391, in _check_set_wise_labels\n",
            "    raise ValueError(\n",
            "ValueError: Target is multiclass but average='binary'. Please choose another average setting, one of [None, 'micro', 'macro', 'weighted'].\n",
            "\n",
            "  warnings.warn(\n",
            "/usr/local/lib/python3.9/dist-packages/sklearn/model_selection/_validation.py:778: UserWarning: Scoring failed. The score on this train-test partition for these parameters will be set to nan. Details: \n",
            "Traceback (most recent call last):\n",
            "  File \"/usr/local/lib/python3.9/dist-packages/sklearn/model_selection/_validation.py\", line 767, in _score\n",
            "    scores = scorer(estimator, X_test, y_test)\n",
            "  File \"/usr/local/lib/python3.9/dist-packages/sklearn/metrics/_scorer.py\", line 234, in __call__\n",
            "    return self._score(\n",
            "  File \"/usr/local/lib/python3.9/dist-packages/sklearn/metrics/_scorer.py\", line 282, in _score\n",
            "    return self._sign * self._score_func(y_true, y_pred, **self._kwargs)\n",
            "  File \"/usr/local/lib/python3.9/dist-packages/sklearn/metrics/_classification.py\", line 1146, in f1_score\n",
            "    return fbeta_score(\n",
            "  File \"/usr/local/lib/python3.9/dist-packages/sklearn/metrics/_classification.py\", line 1287, in fbeta_score\n",
            "    _, _, f, _ = precision_recall_fscore_support(\n",
            "  File \"/usr/local/lib/python3.9/dist-packages/sklearn/metrics/_classification.py\", line 1573, in precision_recall_fscore_support\n",
            "    labels = _check_set_wise_labels(y_true, y_pred, average, labels, pos_label)\n",
            "  File \"/usr/local/lib/python3.9/dist-packages/sklearn/metrics/_classification.py\", line 1391, in _check_set_wise_labels\n",
            "    raise ValueError(\n",
            "ValueError: Target is multiclass but average='binary'. Please choose another average setting, one of [None, 'micro', 'macro', 'weighted'].\n",
            "\n",
            "  warnings.warn(\n",
            "/usr/local/lib/python3.9/dist-packages/sklearn/model_selection/_validation.py:778: UserWarning: Scoring failed. The score on this train-test partition for these parameters will be set to nan. Details: \n",
            "Traceback (most recent call last):\n",
            "  File \"/usr/local/lib/python3.9/dist-packages/sklearn/model_selection/_validation.py\", line 767, in _score\n",
            "    scores = scorer(estimator, X_test, y_test)\n",
            "  File \"/usr/local/lib/python3.9/dist-packages/sklearn/metrics/_scorer.py\", line 234, in __call__\n",
            "    return self._score(\n",
            "  File \"/usr/local/lib/python3.9/dist-packages/sklearn/metrics/_scorer.py\", line 282, in _score\n",
            "    return self._sign * self._score_func(y_true, y_pred, **self._kwargs)\n",
            "  File \"/usr/local/lib/python3.9/dist-packages/sklearn/metrics/_classification.py\", line 1146, in f1_score\n",
            "    return fbeta_score(\n",
            "  File \"/usr/local/lib/python3.9/dist-packages/sklearn/metrics/_classification.py\", line 1287, in fbeta_score\n",
            "    _, _, f, _ = precision_recall_fscore_support(\n",
            "  File \"/usr/local/lib/python3.9/dist-packages/sklearn/metrics/_classification.py\", line 1573, in precision_recall_fscore_support\n",
            "    labels = _check_set_wise_labels(y_true, y_pred, average, labels, pos_label)\n",
            "  File \"/usr/local/lib/python3.9/dist-packages/sklearn/metrics/_classification.py\", line 1391, in _check_set_wise_labels\n",
            "    raise ValueError(\n",
            "ValueError: Target is multiclass but average='binary'. Please choose another average setting, one of [None, 'micro', 'macro', 'weighted'].\n",
            "\n",
            "  warnings.warn(\n",
            "/usr/local/lib/python3.9/dist-packages/sklearn/model_selection/_validation.py:778: UserWarning: Scoring failed. The score on this train-test partition for these parameters will be set to nan. Details: \n",
            "Traceback (most recent call last):\n",
            "  File \"/usr/local/lib/python3.9/dist-packages/sklearn/model_selection/_validation.py\", line 767, in _score\n",
            "    scores = scorer(estimator, X_test, y_test)\n",
            "  File \"/usr/local/lib/python3.9/dist-packages/sklearn/metrics/_scorer.py\", line 234, in __call__\n",
            "    return self._score(\n",
            "  File \"/usr/local/lib/python3.9/dist-packages/sklearn/metrics/_scorer.py\", line 282, in _score\n",
            "    return self._sign * self._score_func(y_true, y_pred, **self._kwargs)\n",
            "  File \"/usr/local/lib/python3.9/dist-packages/sklearn/metrics/_classification.py\", line 1146, in f1_score\n",
            "    return fbeta_score(\n",
            "  File \"/usr/local/lib/python3.9/dist-packages/sklearn/metrics/_classification.py\", line 1287, in fbeta_score\n",
            "    _, _, f, _ = precision_recall_fscore_support(\n",
            "  File \"/usr/local/lib/python3.9/dist-packages/sklearn/metrics/_classification.py\", line 1573, in precision_recall_fscore_support\n",
            "    labels = _check_set_wise_labels(y_true, y_pred, average, labels, pos_label)\n",
            "  File \"/usr/local/lib/python3.9/dist-packages/sklearn/metrics/_classification.py\", line 1391, in _check_set_wise_labels\n",
            "    raise ValueError(\n",
            "ValueError: Target is multiclass but average='binary'. Please choose another average setting, one of [None, 'micro', 'macro', 'weighted'].\n",
            "\n",
            "  warnings.warn(\n",
            "/usr/local/lib/python3.9/dist-packages/sklearn/model_selection/_validation.py:778: UserWarning: Scoring failed. The score on this train-test partition for these parameters will be set to nan. Details: \n",
            "Traceback (most recent call last):\n",
            "  File \"/usr/local/lib/python3.9/dist-packages/sklearn/model_selection/_validation.py\", line 767, in _score\n",
            "    scores = scorer(estimator, X_test, y_test)\n",
            "  File \"/usr/local/lib/python3.9/dist-packages/sklearn/metrics/_scorer.py\", line 234, in __call__\n",
            "    return self._score(\n",
            "  File \"/usr/local/lib/python3.9/dist-packages/sklearn/metrics/_scorer.py\", line 282, in _score\n",
            "    return self._sign * self._score_func(y_true, y_pred, **self._kwargs)\n",
            "  File \"/usr/local/lib/python3.9/dist-packages/sklearn/metrics/_classification.py\", line 1146, in f1_score\n",
            "    return fbeta_score(\n",
            "  File \"/usr/local/lib/python3.9/dist-packages/sklearn/metrics/_classification.py\", line 1287, in fbeta_score\n",
            "    _, _, f, _ = precision_recall_fscore_support(\n",
            "  File \"/usr/local/lib/python3.9/dist-packages/sklearn/metrics/_classification.py\", line 1573, in precision_recall_fscore_support\n",
            "    labels = _check_set_wise_labels(y_true, y_pred, average, labels, pos_label)\n",
            "  File \"/usr/local/lib/python3.9/dist-packages/sklearn/metrics/_classification.py\", line 1391, in _check_set_wise_labels\n",
            "    raise ValueError(\n",
            "ValueError: Target is multiclass but average='binary'. Please choose another average setting, one of [None, 'micro', 'macro', 'weighted'].\n",
            "\n",
            "  warnings.warn(\n",
            "/usr/local/lib/python3.9/dist-packages/sklearn/model_selection/_validation.py:778: UserWarning: Scoring failed. The score on this train-test partition for these parameters will be set to nan. Details: \n",
            "Traceback (most recent call last):\n",
            "  File \"/usr/local/lib/python3.9/dist-packages/sklearn/model_selection/_validation.py\", line 767, in _score\n",
            "    scores = scorer(estimator, X_test, y_test)\n",
            "  File \"/usr/local/lib/python3.9/dist-packages/sklearn/metrics/_scorer.py\", line 234, in __call__\n",
            "    return self._score(\n",
            "  File \"/usr/local/lib/python3.9/dist-packages/sklearn/metrics/_scorer.py\", line 282, in _score\n",
            "    return self._sign * self._score_func(y_true, y_pred, **self._kwargs)\n",
            "  File \"/usr/local/lib/python3.9/dist-packages/sklearn/metrics/_classification.py\", line 1146, in f1_score\n",
            "    return fbeta_score(\n",
            "  File \"/usr/local/lib/python3.9/dist-packages/sklearn/metrics/_classification.py\", line 1287, in fbeta_score\n",
            "    _, _, f, _ = precision_recall_fscore_support(\n",
            "  File \"/usr/local/lib/python3.9/dist-packages/sklearn/metrics/_classification.py\", line 1573, in precision_recall_fscore_support\n",
            "    labels = _check_set_wise_labels(y_true, y_pred, average, labels, pos_label)\n",
            "  File \"/usr/local/lib/python3.9/dist-packages/sklearn/metrics/_classification.py\", line 1391, in _check_set_wise_labels\n",
            "    raise ValueError(\n",
            "ValueError: Target is multiclass but average='binary'. Please choose another average setting, one of [None, 'micro', 'macro', 'weighted'].\n",
            "\n",
            "  warnings.warn(\n"
          ]
        }
      ]
    },
    {
      "cell_type": "code",
      "source": [
        "# print(\"Accuracy :x : \\n\"+sorted(rfuas.keys()))\n",
        "print(\"Accuracy : \",np.mean(rfuas['test_score']))\n",
        "# print(\"Precision : \\n\"+sorted(rfups.keys()))\n",
        "print(\"Precision : \",np.mean(rfups['test_score']))\n",
        "# print(\"Recall : \\n\"+sorted(rfurs.keys()))\n",
        "print(\"Recall : \",np.mean(rfurs['test_score']))\n",
        "# print(\"F1 : \\n\"+sorted(rfuas.keys()))\n",
        "print(\"F1 : \",np.mean(rfuas['test_score']))"
      ],
      "metadata": {
        "colab": {
          "base_uri": "https://localhost:8080/"
        },
        "id": "AuOf9lKDFCul",
        "outputId": "b28dd45d-7b7e-4ce4-e215-5acae7b413e9"
      },
      "execution_count": 6,
      "outputs": [
        {
          "output_type": "stream",
          "name": "stdout",
          "text": [
            "Accuracy :  0.96\n",
            "Precision :  0.9644444444444445\n",
            "Recall :  0.96\n",
            "F1 :  0.96\n"
          ]
        }
      ]
    },
    {
      "cell_type": "markdown",
      "source": [
        "#Task 2. With mnist dataset: \n",
        "*   2.1. Apply **K-Means** algorithm using k=10, "
      ],
      "metadata": {
        "id": "kNv07ARGzOUm"
      }
    },
    {
      "cell_type": "code",
      "source": [
        "from sklearn.cluster import KMeans\n",
        "from sklearn import datasets\n",
        "from sklearn.preprocessing import StandardScaler\n",
        "from sklearn.metrics import accuracy_score\n",
        "from scipy.stats import mode\n",
        "mnist = datasets.load_digits()"
      ],
      "metadata": {
        "id": "GPtzVm1S7Kl1"
      },
      "execution_count": 7,
      "outputs": []
    },
    {
      "cell_type": "code",
      "source": [
        "kmeans = KMeans(n_clusters = 3, random_state = 0)\n",
        "kmeans.fit(mnist.data)\n",
        "clusters = kmeans.predict(mnist.data)"
      ],
      "metadata": {
        "id": "sOsg77IBzEyo",
        "colab": {
          "base_uri": "https://localhost:8080/"
        },
        "outputId": "81a83e9f-7cd9-4d6a-cddf-10423d64950f"
      },
      "execution_count": 8,
      "outputs": [
        {
          "output_type": "stream",
          "name": "stderr",
          "text": [
            "/usr/local/lib/python3.9/dist-packages/sklearn/cluster/_kmeans.py:870: FutureWarning: The default value of `n_init` will change from 10 to 'auto' in 1.4. Set the value of `n_init` explicitly to suppress the warning\n",
            "  warnings.warn(\n"
          ]
        }
      ]
    },
    {
      "cell_type": "code",
      "source": [
        "labels = np.zeros_like(clusters)\n",
        "labels = np.zeros_like(clusters)\n",
        "print(labels)\n",
        "for i in range(3):\n",
        "  print(i, '------------------------------')\n",
        "  mask = (clusters == i)\n",
        "  print(mask)\n",
        "  labels[mask] = mode(mnist.target[mask])[0]\n",
        "  print(labels) \n",
        "kas=accuracy_score(mnist.target, labels)\n",
        "kps=precision_score(mnist.target, labels, average='micro')\n",
        "krs=recall_score(mnist.target, labels, average='micro')\n",
        "kfs=f1_score(mnist.target, labels, average='micro')\n",
        "print(\"Accuracy : \",accuracy_score(mnist.target, labels))\n",
        "print(\"Precision : \",precision_score(mnist.target, labels, average='micro'))\n",
        "print(\"Recall : \",recall_score(mnist.target, labels, average='micro'))\n",
        "print(\"F1 : \",f1_score(mnist.target, labels, average='micro'))"
      ],
      "metadata": {
        "colab": {
          "base_uri": "https://localhost:8080/"
        },
        "id": "VG6iDuE8_0HR",
        "outputId": "fbc3d8c8-4645-4860-f05c-07122dc22004"
      },
      "execution_count": 9,
      "outputs": [
        {
          "output_type": "stream",
          "name": "stdout",
          "text": [
            "[0 0 0 ... 0 0 0]\n",
            "0 ------------------------------\n",
            "[False False False ... False  True  True]\n",
            "[0 0 0 ... 0 3 3]\n",
            "1 ------------------------------\n",
            "[False  True  True ...  True False False]\n",
            "[0 7 7 ... 7 3 3]\n",
            "2 ------------------------------\n",
            "[ True False False ... False False False]\n",
            "[6 7 7 ... 7 3 3]\n",
            "Accuracy :  0.2921535893155259\n",
            "Precision :  0.2921535893155259\n",
            "Recall :  0.2921535893155259\n",
            "F1 :  0.2921535893155259\n"
          ]
        },
        {
          "output_type": "stream",
          "name": "stderr",
          "text": [
            "<ipython-input-9-36c42a551f71>:8: FutureWarning: Unlike other reduction functions (e.g. `skew`, `kurtosis`), the default behavior of `mode` typically preserves the axis it acts along. In SciPy 1.11.0, this behavior will change: the default value of `keepdims` will become False, the `axis` over which the statistic is taken will be eliminated, and the value None will no longer be accepted. Set `keepdims` to True or False to avoid this warning.\n",
            "  labels[mask] = mode(mnist.target[mask])[0]\n"
          ]
        }
      ]
    },
    {
      "cell_type": "markdown",
      "source": [
        "*   2.2. Compare the obtained result with with other classification algorithms such as **Randomforest**, **kNN**, and **Naïve Bayes** in terms of accuracy, precision, recall, f1 using cross validation. \n"
      ],
      "metadata": {
        "id": "pnoVB8J4vV36"
      }
    },
    {
      "cell_type": "markdown",
      "source": [
        "Random Forest"
      ],
      "metadata": {
        "id": "ozjVzcGACFXB"
      }
    },
    {
      "cell_type": "code",
      "source": [
        "clf=RandomForestClassifier(n_estimators=100)\n",
        "X= mnist['data']\n",
        "Y= mnist['target']\n",
        "X_train, X_test, y_train, y_test = train_test_split(X, Y, test_size=0.3, train_size=0.7,  random_state = 1)\n",
        "clf.fit(X_train,y_train)\n",
        "y_pred = clf.predict(X_test)\n",
        "sicm=confusion_matrix(y_test, y_pred)\n",
        "rfas=cross_validate(clf,X,Y,scoring='accuracy',cv=10)\n",
        "rfps=cross_validate(clf, X, Y, cv=10, scoring='precision_macro')\n",
        "rfrs=cross_validate(clf, X, Y, cv=10, scoring='recall_macro')\n",
        "rffs=cross_validate(clf, X, Y, cv=10, scoring='f1_macro')"
      ],
      "metadata": {
        "id": "-ZTSvsJdvYqI"
      },
      "execution_count": 10,
      "outputs": []
    },
    {
      "cell_type": "code",
      "source": [
        "print(\"Accuracy : \",np.mean(rfas['test_score']))\n",
        "print(\"Precision : \",np.mean(rfps['test_score']))\n",
        "print(\"Recall : \",np.mean(rfrs['test_score']))\n",
        "print(\"F1 : \",np.mean(rffs['test_score']))"
      ],
      "metadata": {
        "id": "RXRVJcjIHzzK",
        "colab": {
          "base_uri": "https://localhost:8080/"
        },
        "outputId": "ee2ef171-e18f-4aff-86de-dd21d374a423"
      },
      "execution_count": 11,
      "outputs": [
        {
          "output_type": "stream",
          "name": "stdout",
          "text": [
            "Accuracy :  0.9510211049037863\n",
            "Precision :  0.9592070783851137\n",
            "Recall :  0.9503835569315445\n",
            "F1 :  0.9460664792203277\n"
          ]
        }
      ]
    },
    {
      "cell_type": "markdown",
      "source": [
        "kNN"
      ],
      "metadata": {
        "id": "DNrisNLaCI-S"
      }
    },
    {
      "cell_type": "code",
      "source": [
        "cancer = KNeighborsClassifier()\n",
        "X_train, X_test, y_train, y_test = train_test_split(X, Y, test_size=0.3, train_size=0.7,  random_state = 1)\n",
        "cancer.fit(X_train,y_train)\n",
        "y_pred = cancer.predict(X_test) \n",
        "knnas=cross_validate(clf,X,Y,scoring='accuracy',cv=10)\n",
        "knnps=cross_validate(clf, X, Y, cv=10, scoring='precision_macro')\n",
        "knnrs=cross_validate(clf, X, Y, cv=10, scoring='recall_macro')\n",
        "knnfs=cross_validate(clf, X, Y, cv=10, scoring='f1_macro')\n",
        "print(\"Accuracy : \",np.mean(knnas['test_score']))\n",
        "print(\"Precision : \",np.mean(knnps['test_score']))\n",
        "print(\"Recall : \",np.mean(knnrs['test_score']))\n",
        "print(\"F1 : \",np.mean(knnfs['test_score']))"
      ],
      "metadata": {
        "id": "nVDFoKaWCen_",
        "colab": {
          "base_uri": "https://localhost:8080/"
        },
        "outputId": "524cf2a0-cefb-4b5d-8950-7e8d65f814d6"
      },
      "execution_count": 12,
      "outputs": [
        {
          "output_type": "stream",
          "name": "stdout",
          "text": [
            "Accuracy :  0.9488081936685289\n",
            "Precision :  0.9599899106969841\n",
            "Recall :  0.9497987616099073\n",
            "F1 :  0.9420276049100881\n"
          ]
        }
      ]
    },
    {
      "cell_type": "markdown",
      "source": [
        "Naïve Bayes"
      ],
      "metadata": {
        "id": "NyGbCaFwC0nH"
      }
    },
    {
      "cell_type": "code",
      "source": [
        "model = GaussianNB()\n",
        "model.fit(X_train, y_train)\n",
        "y_pred = model.predict(X_test)\n",
        "sicm=confusion_matrix(y_test, y_pred)\n",
        "gaas=cross_validate(clf,X,Y,scoring='accuracy',cv=10)\n",
        "gaps=cross_validate(clf, X, Y, cv=10, scoring='precision_macro')\n",
        "gars=cross_validate(clf, X, Y, cv=10, scoring='recall_macro')\n",
        "gafs=cross_validate(clf, X, Y, cv=10, scoring='f1_macro')\n",
        "print(\"Accuracy : \",np.mean(gaas['test_score']))\n",
        "print(\"Precision : \",np.mean(gaps['test_score']))\n",
        "print(\"Recall : \",np.mean(gars['test_score']))\n",
        "print(\"F1 : \",np.mean(gafs['test_score']))"
      ],
      "metadata": {
        "id": "vBeEr0mBC3-a",
        "colab": {
          "base_uri": "https://localhost:8080/"
        },
        "outputId": "e67fe21d-31bf-4a17-edc5-fddbf031b31b"
      },
      "execution_count": 13,
      "outputs": [
        {
          "output_type": "stream",
          "name": "stdout",
          "text": [
            "Accuracy :  0.9538175046554935\n",
            "Precision :  0.9560224591370101\n",
            "Recall :  0.9515669074647404\n",
            "F1 :  0.9502812336632089\n"
          ]
        }
      ]
    },
    {
      "cell_type": "markdown",
      "source": [
        "Compare"
      ],
      "metadata": {
        "id": "74_XxWZaI9ru"
      }
    },
    {
      "cell_type": "code",
      "source": [
        "t= PrettyTable(['Algorithm', 'Accuracy','Precision','Recall','F1'])\n",
        "t.add_row(['Random Forest',rfas,rfps,rfrs,rffs])\n",
        "t.add_row(['kNN',knnas,knnps,knnrs,knnfs])\n",
        "t.add_row(['Naïve Bayes',gaas,gaps,gars,gafs])\n",
        "t.add_row(['K Means',kas,kps,krs,kfs])\n",
        "print(t)"
      ],
      "metadata": {
        "id": "WvzIeU9kI-89",
        "colab": {
          "base_uri": "https://localhost:8080/"
        },
        "outputId": "84737bd1-1cc1-4171-e5f2-d7aa42470b39"
      },
      "execution_count": 14,
      "outputs": [
        {
          "output_type": "stream",
          "name": "stdout",
          "text": [
            "+---------------+-------------------------------------------------------------------------------------------------------------------------------------------------------+-------------------------------------------------------------------------------------------------------------------------------------------------------+-------------------------------------------------------------------------------------------------------------------------------------------------------+-------------------------------------------------------------------------------------------------------------------------------------------------------+\n",
            "|   Algorithm   |                                                                        Accuracy                                                                       |                                                                       Precision                                                                       |                                                                         Recall                                                                        |                                                                           F1                                                                          |\n",
            "+---------------+-------------------------------------------------------------------------------------------------------------------------------------------------------+-------------------------------------------------------------------------------------------------------------------------------------------------------+-------------------------------------------------------------------------------------------------------------------------------------------------------+-------------------------------------------------------------------------------------------------------------------------------------------------------+\n",
            "| Random Forest |                                    {'fit_time': array([1.24597335, 1.28065276, 1.3660965 , 1.96095824, 0.82681894,                                    |                                    {'fit_time': array([0.84749913, 0.80680966, 1.34797883, 0.97971153, 1.21211219,                                    |                                    {'fit_time': array([0.39535213, 0.38777781, 0.39025044, 0.38240552, 0.39327502,                                    |                                    {'fit_time': array([0.39278436, 0.40958405, 0.39750361, 0.38555217, 0.38315153,                                    |\n",
            "|               |        0.77060628, 1.10822344, 0.84275579, 0.77686501, 0.77755165]), 'score_time': array([0.04318452, 0.0597651 , 0.08802056, 0.05925584, 0.02956247, |        0.60473537, 0.6252892 , 0.61050248, 0.57541823, 0.39389539]), 'score_time': array([0.03203225, 0.02733326, 0.03966331, 0.0468359 , 0.02791071, |        0.38491464, 0.38297272, 0.38672495, 0.38595128, 0.38627028]), 'score_time': array([0.01562047, 0.01680374, 0.01533914, 0.01578975, 0.01655602, |        0.3896687 , 0.38772678, 0.3854568 , 0.38716698, 0.37473893]), 'score_time': array([0.01546574, 0.0150435 , 0.01566744, 0.01652718, 0.01545262, |\n",
            "|               |        0.04937887, 0.03361154, 0.0281136 , 0.02644515, 0.03085089]), 'test_score': array([0.91666667, 0.96111111, 0.95555556, 0.93888889, 0.95555556, |        0.0340836 , 0.02445245, 0.02724957, 0.01572847, 0.01595736]), 'test_score': array([0.92515873, 0.97270531, 0.95841206, 0.95192466, 0.95623022, |        0.01530647, 0.01580071, 0.02127075, 0.01587892, 0.01516175]), 'test_score': array([0.91107671, 0.96666667, 0.95614035, 0.93333333, 0.97222222, |        0.01516557, 0.01660037, 0.02366972, 0.01475382, 0.01555753]), 'test_score': array([0.90820944, 0.96606209, 0.91917632, 0.926122  , 0.95483941, |\n",
            "|               |                                                 0.97222222, 0.97222222, 0.96089385, 0.93296089, 0.94413408])}                                         |                                                 0.98473684, 0.97411765, 0.97965748, 0.94195612, 0.94717172])}                                         |                                                 0.97222222, 0.96666667, 0.95915033, 0.93192294, 0.93443412])}                                         |                                                 0.97800835, 0.96612882, 0.97150448, 0.9267206 , 0.94389327])}                                         |\n",
            "|      kNN      |                                    {'fit_time': array([0.41756892, 0.39451218, 0.40523052, 0.55957818, 0.65601468,                                    |                                    {'fit_time': array([0.40360093, 0.39601135, 0.40394521, 0.39893508, 0.39963889,                                    |                                    {'fit_time': array([0.39357305, 0.38012123, 0.39491916, 0.3898344 , 0.37924409,                                    |                                    {'fit_time': array([0.39892006, 0.48533273, 0.58720636, 0.61580992, 0.5752821 ,                                    |\n",
            "|               |        0.63739872, 0.61084294, 0.53461623, 0.41165829, 0.40805507]), 'score_time': array([0.01471567, 0.01440406, 0.01451087, 0.02453852, 0.02364445, |        0.41129661, 0.39318275, 0.41448808, 0.39008999, 0.39279652]), 'score_time': array([0.01653171, 0.01620197, 0.01702857, 0.01456094, 0.01574612, |        0.39640331, 0.38572717, 0.40291572, 0.42896485, 0.40402007]), 'score_time': array([0.01535606, 0.01543832, 0.01643205, 0.01520419, 0.01552725, |        0.5989182 , 0.40051723, 0.39248371, 0.39157581, 0.39258933]), 'score_time': array([0.01563668, 0.02683473, 0.02086878, 0.02670455, 0.02383399, |\n",
            "|               |        0.02101469, 0.0196569 , 0.02117777, 0.0140996 , 0.01463318]), 'test_score': array([0.9       , 0.97222222, 0.93333333, 0.93888889, 0.95555556, |        0.01582527, 0.02635908, 0.01572204, 0.01537633, 0.01559186]), 'test_score': array([0.91938492, 0.98181818, 0.95651341, 0.94131898, 0.97865497, |        0.01520324, 0.01535273, 0.01771498, 0.01558828, 0.01627183]), 'test_score': array([0.89379085, 0.97222222, 0.95584795, 0.93362573, 0.96666667, |        0.02359962, 0.01556969, 0.01707125, 0.01712537, 0.01637888]), 'test_score': array([0.91470965, 0.96015083, 0.9239936 , 0.92102523, 0.96060842, |\n",
            "|               |                                                 0.95555556, 0.97777778, 0.96648045, 0.94413408, 0.94413408])}                                         |                                                 0.97655502, 0.98421053, 0.96934002, 0.95061381, 0.94148926])}                                         |                                                 0.97222222, 0.97777778, 0.95359477, 0.92698658, 0.94525284])}                                         |                                                 0.95635878, 0.98332904, 0.95310554, 0.92784394, 0.91915101])}                                         |\n",
            "|  Naïve Bayes  |                                    {'fit_time': array([0.3896184 , 0.38965106, 0.39620805, 0.40277982, 0.39781427,                                    |                                    {'fit_time': array([0.39024711, 0.39057255, 0.38956213, 0.39196014, 0.394449  ,                                    |                                    {'fit_time': array([0.48033905, 0.58419275, 0.5890851 , 0.59383678, 0.54952073,                                    |                                    {'fit_time': array([0.39540029, 0.38548827, 0.37716436, 0.38996434, 0.38254452,                                    |\n",
            "|               |        0.39531422, 0.3987627 , 0.40099478, 0.38611627, 0.38902283]), 'score_time': array([0.01466727, 0.01817274, 0.01466846, 0.01506233, 0.01600218, |        0.39049029, 0.39428878, 0.39938521, 0.39045072, 0.38385296]), 'score_time': array([0.01512837, 0.01552439, 0.01529002, 0.01518369, 0.01557922, |        0.38240838, 0.38234496, 0.38162684, 0.39138365, 0.38163161]), 'score_time': array([0.02604151, 0.02434111, 0.02205491, 0.02477288, 0.01522565, |        0.37588453, 0.40072513, 0.38686514, 0.38408971, 0.39446163]), 'score_time': array([0.01539278, 0.01601148, 0.01525998, 0.01559353, 0.01567721, |\n",
            "|               |        0.01492858, 0.02116871, 0.01482844, 0.01476979, 0.01477504]), 'test_score': array([0.90555556, 0.97222222, 0.94444444, 0.93333333, 0.96666667, |        0.01496148, 0.01583529, 0.01581502, 0.01551485, 0.01535535]), 'test_score': array([0.90844412, 0.97626263, 0.9528565 , 0.9365185 , 0.95018275, |        0.0153749 , 0.01487875, 0.01539254, 0.01532197, 0.01549888]), 'test_score': array([0.90522876, 0.96666667, 0.92836257, 0.93888889, 0.97222222, |        0.0157125 , 0.01540542, 0.01501513, 0.0162046 , 0.01539922]), 'test_score': array([0.90077174, 0.97178571, 0.94498849, 0.93315868, 0.97220506, |\n",
            "|               |                                                 0.96666667, 0.97777778, 0.98324022, 0.9273743 , 0.96089385])}                                         |                                                 0.97947368, 0.97894737, 0.97973684, 0.93923077, 0.95857143])}                                         |                                                 0.97777778, 0.97222222, 0.98267974, 0.93224974, 0.93937049])}                                         |                                                 0.96171621, 0.96590518, 0.97723348, 0.93788702, 0.93716074])}                                         |\n",
            "|    K Means    |                                                                   0.2921535893155259                                                                  |                                                                   0.2921535893155259                                                                  |                                                                   0.2921535893155259                                                                  |                                                                   0.2921535893155259                                                                  |\n",
            "+---------------+-------------------------------------------------------------------------------------------------------------------------------------------------------+-------------------------------------------------------------------------------------------------------------------------------------------------------+-------------------------------------------------------------------------------------------------------------------------------------------------------+-------------------------------------------------------------------------------------------------------------------------------------------------------+\n"
          ]
        }
      ]
    },
    {
      "cell_type": "markdown",
      "source": [
        "*   2.3. From the obtained results, **which approach is better** for this problem: Supervised learning or Unsupervised learning?"
      ],
      "metadata": {
        "id": "uyey-ndXvZlb"
      }
    },
    {
      "cell_type": "code",
      "source": [
        "#code\n",
        "# Supervised learning is better than Unsupervised learning"
      ],
      "metadata": {
        "id": "Qzh_D-rgvbv9"
      },
      "execution_count": 15,
      "outputs": []
    },
    {
      "cell_type": "markdown",
      "source": [
        "2.4. Apply **AgglomerativeClustering** algorithm to mnist dataset using the number of clusters is 10"
      ],
      "metadata": {
        "id": "ol1U_T_NvcqV"
      }
    },
    {
      "cell_type": "code",
      "source": [
        "from sklearn.cluster import AgglomerativeClustering\n",
        "from sklearn.datasets import load_iris\n",
        "from scipy.cluster.hierarchy import dendrogram, linkage\n",
        "import scipy.cluster.hierarchy as shc\n",
        "from matplotlib import pyplot as plt"
      ],
      "metadata": {
        "id": "pbKdzBGO-tlq"
      },
      "execution_count": 16,
      "outputs": []
    },
    {
      "cell_type": "code",
      "source": [
        "cluster = AgglomerativeClustering(n_clusters=2, affinity='euclidean', linkage='ward')\n",
        "cluster.fit_predict(X)\n",
        "iris = load_iris()\n",
        "plt.figure(figsize=(10, 7))\n",
        "plt.title(\"Customer Dendograms\")\n",
        "dend = shc.dendrogram(shc.linkage(iris.data[:, 1:4], method='ward'))"
      ],
      "metadata": {
        "colab": {
          "base_uri": "https://localhost:8080/",
          "height": 677
        },
        "id": "pYmTD-bfKmo_",
        "outputId": "73f5918a-86db-4a54-c572-8940f0c793a1"
      },
      "execution_count": 17,
      "outputs": [
        {
          "output_type": "stream",
          "name": "stderr",
          "text": [
            "/usr/local/lib/python3.9/dist-packages/sklearn/cluster/_agglomerative.py:983: FutureWarning: Attribute `affinity` was deprecated in version 1.2 and will be removed in 1.4. Use `metric` instead\n",
            "  warnings.warn(\n"
          ]
        },
        {
          "output_type": "display_data",
          "data": {
            "text/plain": [
              "<Figure size 1000x700 with 1 Axes>"
            ],
            "image/png": "[encoded data removed]"
          },
          "metadata": {}
        }
      ]
    },
    {
      "cell_type": "markdown",
      "source": [
        "#Task 3. \n",
        "For given dataset (shopping-data.csv) including 5 attributes: **CustomerID**, **Genre**, **Age**, **Annual Income**, and **Spending Score**.\n",
        "*   3.1. Using the **scipy library** to create the dendrograms for the given dataset (remember drop categorical attributes: **CustomerID**, **Genre**)\n",
        "\n",
        "\n",
        "\n"
      ],
      "metadata": {
        "id": "b52OPWPD2afi"
      }
    },
    {
      "cell_type": "code",
      "source": [
        "shopping = pd.read_csv('shopping-data.csv')\n",
        "shopping = shopping.drop(['CustomerID', 'Genre'], axis = 1)\n",
        "# shopping\n",
        "plt.figure(figsize=(10, 7))\n",
        "plt.title(\"Customer Dendograms\")\n",
        "dend = shc.dendrogram(shc.linkage(shopping, method='ward'))"
      ],
      "metadata": {
        "id": "YYY2dLtH3P8H",
        "colab": {
          "base_uri": "https://localhost:8080/",
          "height": 621
        },
        "outputId": "0fb1e86f-389a-4ac6-c43d-f95b21c8a000"
      },
      "execution_count": 18,
      "outputs": [
        {
          "output_type": "display_data",
          "data": {
            "text/plain": [
              "<Figure size 1000x700 with 1 Axes>"
            ],
            "image/png": "[encoded data removed]"
          },
          "metadata": {}
        }
      ]
    },
    {
      "cell_type": "markdown",
      "source": [
        "*   3.2. Apply K-Means to the preprocessed dataset with k belongs to [2,10]. Then compute SSE values and plot them to find the best value of k."
      ],
      "metadata": {
        "id": "eHlh_dWUyEMr"
      }
    },
    {
      "cell_type": "code",
      "source": [
        "scaler = StandardScaler()\n",
        "shopping= scaler.fit_transform(shopping)\n",
        "kmeans = KMeans(n_clusters = 3, random_state = 0)\n",
        "kmeans.fit(shopping.data)\n",
        "clusters = kmeans.predict(shopping.data)\n",
        "kmeans.cluster_centers_.shape"
      ],
      "metadata": {
        "colab": {
          "base_uri": "https://localhost:8080/"
        },
        "id": "GmyzkCLxNbMI",
        "outputId": "cf81ceac-f057-4d87-9ff3-a967082b9ad2"
      },
      "execution_count": 19,
      "outputs": [
        {
          "output_type": "stream",
          "name": "stderr",
          "text": [
            "/usr/local/lib/python3.9/dist-packages/sklearn/cluster/_kmeans.py:870: FutureWarning: The default value of `n_init` will change from 10 to 'auto' in 1.4. Set the value of `n_init` explicitly to suppress the warning\n",
            "  warnings.warn(\n"
          ]
        },
        {
          "output_type": "execute_result",
          "data": {
            "text/plain": [
              "(3, 3)"
            ]
          },
          "metadata": {},
          "execution_count": 19
        }
      ]
    },
    {
      "cell_type": "code",
      "source": [
        "sse = []\n",
        "for k in range(2, 11):\n",
        " kmeans = KMeans(n_clusters=k, random_state = 0,init='k-means++', n_init=10)\n",
        " kmeans.fit(shopping)\n",
        " sse.append(kmeans.inertia_)\n",
        "sse"
      ],
      "metadata": {
        "colab": {
          "base_uri": "https://localhost:8080/"
        },
        "id": "iRyW5iNoNqJo",
        "outputId": "26e0cdfd-f9a1-4ee0-d9f1-555273f1ec32"
      },
      "execution_count": 20,
      "outputs": [
        {
          "output_type": "execute_result",
          "data": {
            "text/plain": [
              "[389.3861889564371,\n",
              " 295.45624492135573,\n",
              " 205.22514747675922,\n",
              " 168.24758017556837,\n",
              " 133.88887021131023,\n",
              " 117.1691151701971,\n",
              " 103.94423632967379,\n",
              " 93.61455312876808,\n",
              " 81.84894954697742]"
            ]
          },
          "metadata": {},
          "execution_count": 20
        }
      ]
    },
    {
      "cell_type": "code",
      "source": [
        "plt.figure(figsize=(12, 8))\n",
        "plt.plot(np.arange(2, 11), sse, 'bx-')\n",
        "plt.xlabel('Values of K')\n",
        "plt.ylabel('Distortion')\n",
        "plt.title('The Elbow Method using Distortion')\n",
        "plt.show()"
      ],
      "metadata": {
        "colab": {
          "base_uri": "https://localhost:8080/",
          "height": 718
        },
        "id": "d2CTGT7tNzeW",
        "outputId": "70d0eecb-d901-45fb-e311-3904e8f33503"
      },
      "execution_count": 21,
      "outputs": [
        {
          "output_type": "display_data",
          "data": {
            "text/plain": [
              "<Figure size 1200x800 with 1 Axes>"
            ],
            "image/png": "[encoded data removed]"
          },
          "metadata": {}
        }
      ]
    },
    {
      "cell_type": "markdown",
      "source": [
        "*   3.2. From the obtained dengrograms, choose an appropriate number of clusters and apply **AgglomerativeClustering** algorithm to the given dataset"
      ],
      "metadata": {
        "id": "RJpsTIiyv-1h"
      }
    },
    {
      "cell_type": "code",
      "source": [
        "from sklearn.cluster import AgglomerativeClustering\n",
        "cluster = AgglomerativeClustering(n_clusters=2, affinity='euclidean', linkage='ward')\n",
        "cluster.fit_predict(X)\n",
        "# get clustering labels\n",
        "print(cluster.labels_)"
      ],
      "metadata": {
        "id": "5ZE7A0Au1Pg0",
        "colab": {
          "base_uri": "https://localhost:8080/"
        },
        "outputId": "1a9d3a65-2424-467b-ebc0-3bf1f102d55b"
      },
      "execution_count": 22,
      "outputs": [
        {
          "output_type": "stream",
          "name": "stdout",
          "text": [
            "[1 0 0 ... 0 0 0]\n"
          ]
        },
        {
          "output_type": "stream",
          "name": "stderr",
          "text": [
            "/usr/local/lib/python3.9/dist-packages/sklearn/cluster/_agglomerative.py:983: FutureWarning: Attribute `affinity` was deprecated in version 1.2 and will be removed in 1.4. Use `metric` instead\n",
            "  warnings.warn(\n"
          ]
        }
      ]
    },
    {
      "cell_type": "markdown",
      "source": [
        "#Finally,\n",
        "Save a copy in your Github. Remember renaming the notebook."
      ],
      "metadata": {
        "id": "Ok7RGkea_b7n"
      }
    }
  ]
}